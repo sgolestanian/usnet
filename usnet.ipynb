{
 "cells": [
  {
   "cell_type": "code",
   "execution_count": 1,
   "id": "3c693683-dd63-4ea8-a5bf-a48a3837cb2c",
   "metadata": {},
   "outputs": [
    {
     "name": "stdout",
     "output_type": "stream",
     "text": [
      "Requirement already satisfied: progressbar2 in c:\\users\\sepehr\\projects\\usnet\\usnet_venv\\lib\\site-packages (4.0.0)\n",
      "Requirement already satisfied: python-utils>=3.0.0 in c:\\users\\sepehr\\projects\\usnet\\usnet_venv\\lib\\site-packages (from progressbar2) (3.1.0)\n",
      "Note: you may need to restart the kernel to use updated packages.\n"
     ]
    },
    {
     "name": "stderr",
     "output_type": "stream",
     "text": [
      "WARNING: You are using pip version 20.2.3; however, version 22.0.3 is available.\n",
      "You should consider upgrading via the 'c:\\Users\\Sepehr\\Projects\\usnet\\usnet_venv\\Scripts\\python.exe -m pip install --upgrade pip' command.\n"
     ]
    }
   ],
   "source": [
    "%pip install progressbar2"
   ]
  },
  {
   "cell_type": "markdown",
   "id": "93540461-9b60-4eb4-b30a-03e790b4b41d",
   "metadata": {},
   "source": [
    "# US-Segmentation with UNet"
   ]
  },
  {
   "cell_type": "code",
   "execution_count": 46,
   "id": "d175cccf-f03e-4706-8738-1ecc7d3119ba",
   "metadata": {},
   "outputs": [
    {
     "name": "stdout",
     "output_type": "stream",
     "text": [
      "2.4.0\n"
     ]
    }
   ],
   "source": [
    "import tensorflow as tf\n",
    "print(tf.__version__)"
   ]
  },
  {
   "cell_type": "code",
   "execution_count": 3,
   "id": "6a737e10-e323-494a-ac73-b26d85e00ebd",
   "metadata": {},
   "outputs": [
    {
     "name": "stdout",
     "output_type": "stream",
     "text": [
      "Downloading data from https://s5.uupload.ir/files/sepehrglst/data.zip\n",
      "  5324800/453097340 [..............................] - ETA: 12:27"
     ]
    },
    {
     "ename": "KeyboardInterrupt",
     "evalue": "",
     "output_type": "error",
     "traceback": [
      "\u001b[1;31m---------------------------------------------------------------------------\u001b[0m",
      "\u001b[1;31mKeyboardInterrupt\u001b[0m                         Traceback (most recent call last)",
      "\u001b[1;32mc:\\Users\\Sepehr\\Projects\\usnet\\usnet.ipynb Cell 4'\u001b[0m in \u001b[0;36m<module>\u001b[1;34m\u001b[0m\n\u001b[1;32m----> <a href='vscode-notebook-cell:/c%3A/Users/Sepehr/Projects/usnet/usnet.ipynb#ch0000003?line=0'>1</a>\u001b[0m files \u001b[39m=\u001b[39m tf\u001b[39m.\u001b[39;49mkeras\u001b[39m.\u001b[39;49mutils\u001b[39m.\u001b[39;49mget_file(\u001b[39m'\u001b[39;49m\u001b[39mdata\u001b[39;49m\u001b[39m'\u001b[39;49m, origin\u001b[39m=\u001b[39;49m\u001b[39m'\u001b[39;49m\u001b[39mhttps://s5.uupload.ir/files/sepehrglst/data.zip\u001b[39;49m\u001b[39m'\u001b[39;49m, extract\u001b[39m=\u001b[39;49m\u001b[39mTrue\u001b[39;49;00m, cache_dir\u001b[39m=\u001b[39;49m\u001b[39m'\u001b[39;49m\u001b[39m.\u001b[39;49m\u001b[39m'\u001b[39;49m, cache_subdir\u001b[39m=\u001b[39;49m\u001b[39m'\u001b[39;49m\u001b[39mdata\u001b[39;49m\u001b[39m'\u001b[39;49m)\n\u001b[0;32m      <a href='vscode-notebook-cell:/c%3A/Users/Sepehr/Projects/usnet/usnet.ipynb#ch0000003?line=1'>2</a>\u001b[0m \u001b[39mprint\u001b[39m(files)\n",
      "File \u001b[1;32mc:\\Users\\Sepehr\\Projects\\usnet\\usnet_venv\\lib\\site-packages\\tensorflow\\python\\keras\\utils\\data_utils.py:275\u001b[0m, in \u001b[0;36mget_file\u001b[1;34m(fname, origin, untar, md5_hash, file_hash, cache_subdir, hash_algorithm, extract, archive_format, cache_dir)\u001b[0m\n\u001b[0;32m    <a href='file:///c%3A/Users/Sepehr/Projects/usnet/usnet_venv/lib/site-packages/tensorflow/python/keras/utils/data_utils.py?line=272'>273</a>\u001b[0m \u001b[39mtry\u001b[39;00m:\n\u001b[0;32m    <a href='file:///c%3A/Users/Sepehr/Projects/usnet/usnet_venv/lib/site-packages/tensorflow/python/keras/utils/data_utils.py?line=273'>274</a>\u001b[0m   \u001b[39mtry\u001b[39;00m:\n\u001b[1;32m--> <a href='file:///c%3A/Users/Sepehr/Projects/usnet/usnet_venv/lib/site-packages/tensorflow/python/keras/utils/data_utils.py?line=274'>275</a>\u001b[0m     urlretrieve(origin, fpath, dl_progress)\n\u001b[0;32m    <a href='file:///c%3A/Users/Sepehr/Projects/usnet/usnet_venv/lib/site-packages/tensorflow/python/keras/utils/data_utils.py?line=275'>276</a>\u001b[0m   \u001b[39mexcept\u001b[39;00m HTTPError \u001b[39mas\u001b[39;00m e:\n\u001b[0;32m    <a href='file:///c%3A/Users/Sepehr/Projects/usnet/usnet_venv/lib/site-packages/tensorflow/python/keras/utils/data_utils.py?line=276'>277</a>\u001b[0m     \u001b[39mraise\u001b[39;00m \u001b[39mException\u001b[39;00m(error_msg\u001b[39m.\u001b[39mformat(origin, e\u001b[39m.\u001b[39mcode, e\u001b[39m.\u001b[39mmsg))\n",
      "File \u001b[1;32m~\\AppData\\Local\\Programs\\Python\\Python38\\lib\\urllib\\request.py:276\u001b[0m, in \u001b[0;36murlretrieve\u001b[1;34m(url, filename, reporthook, data)\u001b[0m\n\u001b[0;32m    <a href='file:///c%3A/Users/Sepehr/AppData/Local/Programs/Python/Python38/lib/urllib/request.py?line=272'>273</a>\u001b[0m     reporthook(blocknum, bs, size)\n\u001b[0;32m    <a href='file:///c%3A/Users/Sepehr/AppData/Local/Programs/Python/Python38/lib/urllib/request.py?line=274'>275</a>\u001b[0m \u001b[39mwhile\u001b[39;00m \u001b[39mTrue\u001b[39;00m:\n\u001b[1;32m--> <a href='file:///c%3A/Users/Sepehr/AppData/Local/Programs/Python/Python38/lib/urllib/request.py?line=275'>276</a>\u001b[0m     block \u001b[39m=\u001b[39m fp\u001b[39m.\u001b[39;49mread(bs)\n\u001b[0;32m    <a href='file:///c%3A/Users/Sepehr/AppData/Local/Programs/Python/Python38/lib/urllib/request.py?line=276'>277</a>\u001b[0m     \u001b[39mif\u001b[39;00m \u001b[39mnot\u001b[39;00m block:\n\u001b[0;32m    <a href='file:///c%3A/Users/Sepehr/AppData/Local/Programs/Python/Python38/lib/urllib/request.py?line=277'>278</a>\u001b[0m         \u001b[39mbreak\u001b[39;00m\n",
      "File \u001b[1;32m~\\AppData\\Local\\Programs\\Python\\Python38\\lib\\http\\client.py:455\u001b[0m, in \u001b[0;36mHTTPResponse.read\u001b[1;34m(self, amt)\u001b[0m\n\u001b[0;32m    <a href='file:///c%3A/Users/Sepehr/AppData/Local/Programs/Python/Python38/lib/http/client.py?line=451'>452</a>\u001b[0m \u001b[39mif\u001b[39;00m amt \u001b[39mis\u001b[39;00m \u001b[39mnot\u001b[39;00m \u001b[39mNone\u001b[39;00m:\n\u001b[0;32m    <a href='file:///c%3A/Users/Sepehr/AppData/Local/Programs/Python/Python38/lib/http/client.py?line=452'>453</a>\u001b[0m     \u001b[39m# Amount is given, implement using readinto\u001b[39;00m\n\u001b[0;32m    <a href='file:///c%3A/Users/Sepehr/AppData/Local/Programs/Python/Python38/lib/http/client.py?line=453'>454</a>\u001b[0m     b \u001b[39m=\u001b[39m \u001b[39mbytearray\u001b[39m(amt)\n\u001b[1;32m--> <a href='file:///c%3A/Users/Sepehr/AppData/Local/Programs/Python/Python38/lib/http/client.py?line=454'>455</a>\u001b[0m     n \u001b[39m=\u001b[39m \u001b[39mself\u001b[39;49m\u001b[39m.\u001b[39;49mreadinto(b)\n\u001b[0;32m    <a href='file:///c%3A/Users/Sepehr/AppData/Local/Programs/Python/Python38/lib/http/client.py?line=455'>456</a>\u001b[0m     \u001b[39mreturn\u001b[39;00m \u001b[39mmemoryview\u001b[39m(b)[:n]\u001b[39m.\u001b[39mtobytes()\n\u001b[0;32m    <a href='file:///c%3A/Users/Sepehr/AppData/Local/Programs/Python/Python38/lib/http/client.py?line=456'>457</a>\u001b[0m \u001b[39melse\u001b[39;00m:\n\u001b[0;32m    <a href='file:///c%3A/Users/Sepehr/AppData/Local/Programs/Python/Python38/lib/http/client.py?line=457'>458</a>\u001b[0m     \u001b[39m# Amount is not given (unbounded read) so we must check self.length\u001b[39;00m\n\u001b[0;32m    <a href='file:///c%3A/Users/Sepehr/AppData/Local/Programs/Python/Python38/lib/http/client.py?line=458'>459</a>\u001b[0m     \u001b[39m# and self.chunked\u001b[39;00m\n",
      "File \u001b[1;32m~\\AppData\\Local\\Programs\\Python\\Python38\\lib\\http\\client.py:499\u001b[0m, in \u001b[0;36mHTTPResponse.readinto\u001b[1;34m(self, b)\u001b[0m\n\u001b[0;32m    <a href='file:///c%3A/Users/Sepehr/AppData/Local/Programs/Python/Python38/lib/http/client.py?line=493'>494</a>\u001b[0m         b \u001b[39m=\u001b[39m \u001b[39mmemoryview\u001b[39m(b)[\u001b[39m0\u001b[39m:\u001b[39mself\u001b[39m\u001b[39m.\u001b[39mlength]\n\u001b[0;32m    <a href='file:///c%3A/Users/Sepehr/AppData/Local/Programs/Python/Python38/lib/http/client.py?line=495'>496</a>\u001b[0m \u001b[39m# we do not use _safe_read() here because this may be a .will_close\u001b[39;00m\n\u001b[0;32m    <a href='file:///c%3A/Users/Sepehr/AppData/Local/Programs/Python/Python38/lib/http/client.py?line=496'>497</a>\u001b[0m \u001b[39m# connection, and the user is reading more bytes than will be provided\u001b[39;00m\n\u001b[0;32m    <a href='file:///c%3A/Users/Sepehr/AppData/Local/Programs/Python/Python38/lib/http/client.py?line=497'>498</a>\u001b[0m \u001b[39m# (for example, reading in 1k chunks)\u001b[39;00m\n\u001b[1;32m--> <a href='file:///c%3A/Users/Sepehr/AppData/Local/Programs/Python/Python38/lib/http/client.py?line=498'>499</a>\u001b[0m n \u001b[39m=\u001b[39m \u001b[39mself\u001b[39;49m\u001b[39m.\u001b[39;49mfp\u001b[39m.\u001b[39;49mreadinto(b)\n\u001b[0;32m    <a href='file:///c%3A/Users/Sepehr/AppData/Local/Programs/Python/Python38/lib/http/client.py?line=499'>500</a>\u001b[0m \u001b[39mif\u001b[39;00m \u001b[39mnot\u001b[39;00m n \u001b[39mand\u001b[39;00m b:\n\u001b[0;32m    <a href='file:///c%3A/Users/Sepehr/AppData/Local/Programs/Python/Python38/lib/http/client.py?line=500'>501</a>\u001b[0m     \u001b[39m# Ideally, we would raise IncompleteRead if the content-length\u001b[39;00m\n\u001b[0;32m    <a href='file:///c%3A/Users/Sepehr/AppData/Local/Programs/Python/Python38/lib/http/client.py?line=501'>502</a>\u001b[0m     \u001b[39m# wasn't satisfied, but it might break compatibility.\u001b[39;00m\n\u001b[0;32m    <a href='file:///c%3A/Users/Sepehr/AppData/Local/Programs/Python/Python38/lib/http/client.py?line=502'>503</a>\u001b[0m     \u001b[39mself\u001b[39m\u001b[39m.\u001b[39m_close_conn()\n",
      "File \u001b[1;32m~\\AppData\\Local\\Programs\\Python\\Python38\\lib\\socket.py:669\u001b[0m, in \u001b[0;36mSocketIO.readinto\u001b[1;34m(self, b)\u001b[0m\n\u001b[0;32m    <a href='file:///c%3A/Users/Sepehr/AppData/Local/Programs/Python/Python38/lib/socket.py?line=666'>667</a>\u001b[0m \u001b[39mwhile\u001b[39;00m \u001b[39mTrue\u001b[39;00m:\n\u001b[0;32m    <a href='file:///c%3A/Users/Sepehr/AppData/Local/Programs/Python/Python38/lib/socket.py?line=667'>668</a>\u001b[0m     \u001b[39mtry\u001b[39;00m:\n\u001b[1;32m--> <a href='file:///c%3A/Users/Sepehr/AppData/Local/Programs/Python/Python38/lib/socket.py?line=668'>669</a>\u001b[0m         \u001b[39mreturn\u001b[39;00m \u001b[39mself\u001b[39;49m\u001b[39m.\u001b[39;49m_sock\u001b[39m.\u001b[39;49mrecv_into(b)\n\u001b[0;32m    <a href='file:///c%3A/Users/Sepehr/AppData/Local/Programs/Python/Python38/lib/socket.py?line=669'>670</a>\u001b[0m     \u001b[39mexcept\u001b[39;00m timeout:\n\u001b[0;32m    <a href='file:///c%3A/Users/Sepehr/AppData/Local/Programs/Python/Python38/lib/socket.py?line=670'>671</a>\u001b[0m         \u001b[39mself\u001b[39m\u001b[39m.\u001b[39m_timeout_occurred \u001b[39m=\u001b[39m \u001b[39mTrue\u001b[39;00m\n",
      "File \u001b[1;32m~\\AppData\\Local\\Programs\\Python\\Python38\\lib\\ssl.py:1241\u001b[0m, in \u001b[0;36mSSLSocket.recv_into\u001b[1;34m(self, buffer, nbytes, flags)\u001b[0m\n\u001b[0;32m   <a href='file:///c%3A/Users/Sepehr/AppData/Local/Programs/Python/Python38/lib/ssl.py?line=1236'>1237</a>\u001b[0m     \u001b[39mif\u001b[39;00m flags \u001b[39m!=\u001b[39m \u001b[39m0\u001b[39m:\n\u001b[0;32m   <a href='file:///c%3A/Users/Sepehr/AppData/Local/Programs/Python/Python38/lib/ssl.py?line=1237'>1238</a>\u001b[0m         \u001b[39mraise\u001b[39;00m \u001b[39mValueError\u001b[39;00m(\n\u001b[0;32m   <a href='file:///c%3A/Users/Sepehr/AppData/Local/Programs/Python/Python38/lib/ssl.py?line=1238'>1239</a>\u001b[0m           \u001b[39m\"\u001b[39m\u001b[39mnon-zero flags not allowed in calls to recv_into() on \u001b[39m\u001b[39m%s\u001b[39;00m\u001b[39m\"\u001b[39m \u001b[39m%\u001b[39m\n\u001b[0;32m   <a href='file:///c%3A/Users/Sepehr/AppData/Local/Programs/Python/Python38/lib/ssl.py?line=1239'>1240</a>\u001b[0m           \u001b[39mself\u001b[39m\u001b[39m.\u001b[39m\u001b[39m__class__\u001b[39m)\n\u001b[1;32m-> <a href='file:///c%3A/Users/Sepehr/AppData/Local/Programs/Python/Python38/lib/ssl.py?line=1240'>1241</a>\u001b[0m     \u001b[39mreturn\u001b[39;00m \u001b[39mself\u001b[39;49m\u001b[39m.\u001b[39;49mread(nbytes, buffer)\n\u001b[0;32m   <a href='file:///c%3A/Users/Sepehr/AppData/Local/Programs/Python/Python38/lib/ssl.py?line=1241'>1242</a>\u001b[0m \u001b[39melse\u001b[39;00m:\n\u001b[0;32m   <a href='file:///c%3A/Users/Sepehr/AppData/Local/Programs/Python/Python38/lib/ssl.py?line=1242'>1243</a>\u001b[0m     \u001b[39mreturn\u001b[39;00m \u001b[39msuper\u001b[39m()\u001b[39m.\u001b[39mrecv_into(buffer, nbytes, flags)\n",
      "File \u001b[1;32m~\\AppData\\Local\\Programs\\Python\\Python38\\lib\\ssl.py:1099\u001b[0m, in \u001b[0;36mSSLSocket.read\u001b[1;34m(self, len, buffer)\u001b[0m\n\u001b[0;32m   <a href='file:///c%3A/Users/Sepehr/AppData/Local/Programs/Python/Python38/lib/ssl.py?line=1096'>1097</a>\u001b[0m \u001b[39mtry\u001b[39;00m:\n\u001b[0;32m   <a href='file:///c%3A/Users/Sepehr/AppData/Local/Programs/Python/Python38/lib/ssl.py?line=1097'>1098</a>\u001b[0m     \u001b[39mif\u001b[39;00m buffer \u001b[39mis\u001b[39;00m \u001b[39mnot\u001b[39;00m \u001b[39mNone\u001b[39;00m:\n\u001b[1;32m-> <a href='file:///c%3A/Users/Sepehr/AppData/Local/Programs/Python/Python38/lib/ssl.py?line=1098'>1099</a>\u001b[0m         \u001b[39mreturn\u001b[39;00m \u001b[39mself\u001b[39;49m\u001b[39m.\u001b[39;49m_sslobj\u001b[39m.\u001b[39;49mread(\u001b[39mlen\u001b[39;49m, buffer)\n\u001b[0;32m   <a href='file:///c%3A/Users/Sepehr/AppData/Local/Programs/Python/Python38/lib/ssl.py?line=1099'>1100</a>\u001b[0m     \u001b[39melse\u001b[39;00m:\n\u001b[0;32m   <a href='file:///c%3A/Users/Sepehr/AppData/Local/Programs/Python/Python38/lib/ssl.py?line=1100'>1101</a>\u001b[0m         \u001b[39mreturn\u001b[39;00m \u001b[39mself\u001b[39m\u001b[39m.\u001b[39m_sslobj\u001b[39m.\u001b[39mread(\u001b[39mlen\u001b[39m)\n",
      "\u001b[1;31mKeyboardInterrupt\u001b[0m: "
     ]
    }
   ],
   "source": [
    "files = tf.keras.utils.get_file('data', origin='https://s5.uupload.ir/files/sepehrglst/usnet_dataset__1.zip', extract=True, cache_dir='.', cache_subdir='data')\n",
    "print(files)"
   ]
  },
  {
   "cell_type": "code",
   "execution_count": 3,
   "id": "751d8230-b008-4f2d-a1cd-8706f8a34183",
   "metadata": {},
   "outputs": [
    {
     "name": "stdout",
     "output_type": "stream",
     "text": [
      "Dataset: usnet_dataset\n",
      "2D Ultrasound data with segmentation masks\n",
      "Data Dource(s): CAMUS\n",
      "Version: 1\n",
      "Number of training data: 1600\n",
      "Number of validation data: 200\n"
     ]
    }
   ],
   "source": [
    "import json\n",
    "from os import path\n",
    "\n",
    "DATASET_PATH = r'./data/usnet_dataset__1'\n",
    "\n",
    "with open(path.join(DATASET_PATH, 'info.json')) as metadata_file:\n",
    "    metadata = json.load(metadata_file)\n",
    "\n",
    "\n",
    "print(f\"Dataset: {metadata['name']}\")\n",
    "print(f\"{metadata['discription']}\")\n",
    "print(f\"Data Dource(s): {metadata['data_source']}\")\n",
    "print(f\"Version: {metadata['version']}\")\n",
    "print(f\"Number of training data: {metadata['train_data_count']}\")\n",
    "print(f\"Number of validation data: {metadata['validation_data_count']}\")\n",
    "\n"
   ]
  },
  {
   "cell_type": "code",
   "execution_count": 41,
   "id": "d01f4d48-c33d-41e2-8a83-1853cdd447c8",
   "metadata": {},
   "outputs": [
    {
     "name": "stderr",
     "output_type": "stream",
     "text": [
      "  0% (0 of 1800) |                       | Elapsed Time: 0:00:00 ETA:  --:--:--\n",
      "  0% (5 of 1800) |                       | Elapsed Time: 0:00:00 ETA:   0:00:39\n",
      "  0% (9 of 1800) |                       | Elapsed Time: 0:00:00 ETA:   0:00:41\n",
      "  0% (14 of 1800) |                      | Elapsed Time: 0:00:00 ETA:   0:00:41\n",
      "  1% (19 of 1800) |                      | Elapsed Time: 0:00:00 ETA:   0:00:40\n",
      "  1% (23 of 1800) |                      | Elapsed Time: 0:00:00 ETA:   0:00:39\n",
      "  1% (28 of 1800) |                      | Elapsed Time: 0:00:00 ETA:   0:00:40\n",
      "  1% (33 of 1800) |                      | Elapsed Time: 0:00:00 ETA:   0:00:39\n",
      "  2% (37 of 1800) |                      | Elapsed Time: 0:00:00 ETA:   0:00:40\n",
      "  2% (44 of 1800) |                      | Elapsed Time: 0:00:00 ETA:   0:00:37\n",
      "  2% (50 of 1800) |                      | Elapsed Time: 0:00:01 ETA:   0:00:37\n",
      "  3% (55 of 1800) |                      | Elapsed Time: 0:00:01 ETA:   0:00:36\n",
      "  3% (61 of 1800) |                      | Elapsed Time: 0:00:01 ETA:   0:00:36\n",
      "  3% (66 of 1800) |                      | Elapsed Time: 0:00:01 ETA:   0:00:36\n",
      "  3% (69 of 1800) |                      | Elapsed Time: 0:00:01 ETA:   0:00:36\n",
      "  4% (74 of 1800) |                      | Elapsed Time: 0:00:01 ETA:   0:00:36\n",
      "  4% (81 of 1800) |                      | Elapsed Time: 0:00:01 ETA:   0:00:35\n",
      "  4% (87 of 1800) |#                     | Elapsed Time: 0:00:01 ETA:   0:00:35\n",
      "  5% (91 of 1800) |#                     | Elapsed Time: 0:00:01 ETA:   0:00:35\n",
      "  5% (96 of 1800) |#                     | Elapsed Time: 0:00:01 ETA:   0:00:35\n",
      "  5% (101 of 1800) |#                    | Elapsed Time: 0:00:02 ETA:   0:00:35\n",
      "  5% (106 of 1800) |#                    | Elapsed Time: 0:00:02 ETA:   0:00:34\n",
      "  6% (111 of 1800) |#                    | Elapsed Time: 0:00:02 ETA:   0:00:35\n",
      "  6% (114 of 1800) |#                    | Elapsed Time: 0:00:02 ETA:   0:00:34\n",
      "  6% (118 of 1800) |#                    | Elapsed Time: 0:00:02 ETA:   0:00:35\n",
      "  6% (123 of 1800) |#                    | Elapsed Time: 0:00:02 ETA:   0:00:35\n",
      "  7% (128 of 1800) |#                    | Elapsed Time: 0:00:02 ETA:   0:00:35\n",
      "  7% (133 of 1800) |#                    | Elapsed Time: 0:00:02 ETA:   0:00:35\n",
      "  7% (137 of 1800) |#                    | Elapsed Time: 0:00:02 ETA:   0:00:35\n",
      "  7% (141 of 1800) |#                    | Elapsed Time: 0:00:03 ETA:   0:00:36\n",
      "  8% (146 of 1800) |#                    | Elapsed Time: 0:00:03 ETA:   0:00:36\n",
      "  8% (149 of 1800) |#                    | Elapsed Time: 0:00:03 ETA:   0:00:37\n",
      "  8% (152 of 1800) |#                    | Elapsed Time: 0:00:03 ETA:   0:00:38\n",
      "  8% (159 of 1800) |#                    | Elapsed Time: 0:00:03 ETA:   0:00:37\n",
      "  9% (163 of 1800) |#                    | Elapsed Time: 0:00:03 ETA:   0:00:37\n",
      "  9% (170 of 1800) |#                    | Elapsed Time: 0:00:03 ETA:   0:00:37\n",
      "  9% (176 of 1800) |##                   | Elapsed Time: 0:00:03 ETA:   0:00:37\n",
      " 10% (181 of 1800) |##                   | Elapsed Time: 0:00:03 ETA:   0:00:37\n",
      " 10% (187 of 1800) |##                   | Elapsed Time: 0:00:04 ETA:   0:00:37\n",
      " 10% (192 of 1800) |##                   | Elapsed Time: 0:00:04 ETA:   0:00:36\n",
      " 11% (198 of 1800) |##                   | Elapsed Time: 0:00:04 ETA:   0:00:36\n",
      " 11% (205 of 1800) |##                   | Elapsed Time: 0:00:04 ETA:   0:00:35\n",
      " 11% (209 of 1800) |##                   | Elapsed Time: 0:00:04 ETA:   0:00:35\n",
      " 11% (212 of 1800) |##                   | Elapsed Time: 0:00:04 ETA:   0:00:35\n",
      " 11% (215 of 1800) |##                   | Elapsed Time: 0:00:04 ETA:   0:00:35\n",
      " 12% (221 of 1800) |##                   | Elapsed Time: 0:00:04 ETA:   0:00:35\n",
      " 12% (225 of 1800) |##                   | Elapsed Time: 0:00:04 ETA:   0:00:35\n",
      " 12% (228 of 1800) |##                   | Elapsed Time: 0:00:05 ETA:   0:00:35\n",
      " 12% (233 of 1800) |##                   | Elapsed Time: 0:00:05 ETA:   0:00:35\n",
      " 13% (239 of 1800) |##                   | Elapsed Time: 0:00:05 ETA:   0:00:34\n",
      " 13% (246 of 1800) |##                   | Elapsed Time: 0:00:05 ETA:   0:00:32\n",
      " 13% (251 of 1800) |##                   | Elapsed Time: 0:00:05 ETA:   0:00:31\n",
      " 14% (256 of 1800) |##                   | Elapsed Time: 0:00:05 ETA:   0:00:32\n",
      " 14% (263 of 1800) |###                  | Elapsed Time: 0:00:05 ETA:   0:00:31\n",
      " 15% (270 of 1800) |###                  | Elapsed Time: 0:00:05 ETA:   0:00:31\n",
      " 15% (274 of 1800) |###                  | Elapsed Time: 0:00:05 ETA:   0:00:31\n",
      " 15% (281 of 1800) |###                  | Elapsed Time: 0:00:05 ETA:   0:00:30\n",
      " 15% (287 of 1800) |###                  | Elapsed Time: 0:00:06 ETA:   0:00:30\n",
      " 16% (293 of 1800) |###                  | Elapsed Time: 0:00:06 ETA:   0:00:29\n",
      " 16% (297 of 1800) |###                  | Elapsed Time: 0:00:06 ETA:   0:00:29\n",
      " 16% (302 of 1800) |###                  | Elapsed Time: 0:00:06 ETA:   0:00:29\n",
      " 17% (308 of 1800) |###                  | Elapsed Time: 0:00:06 ETA:   0:00:29\n",
      " 17% (313 of 1800) |###                  | Elapsed Time: 0:00:06 ETA:   0:00:29\n",
      " 17% (319 of 1800) |###                  | Elapsed Time: 0:00:06 ETA:   0:00:29\n",
      " 18% (324 of 1800) |###                  | Elapsed Time: 0:00:06 ETA:   0:00:27\n",
      " 18% (329 of 1800) |###                  | Elapsed Time: 0:00:06 ETA:   0:00:27\n",
      " 18% (336 of 1800) |###                  | Elapsed Time: 0:00:06 ETA:   0:00:26\n",
      " 19% (342 of 1800) |###                  | Elapsed Time: 0:00:07 ETA:   0:00:26\n",
      " 19% (347 of 1800) |####                 | Elapsed Time: 0:00:07 ETA:   0:00:26\n",
      " 19% (355 of 1800) |####                 | Elapsed Time: 0:00:07 ETA:   0:00:25\n",
      " 20% (361 of 1800) |####                 | Elapsed Time: 0:00:07 ETA:   0:00:25\n",
      " 20% (365 of 1800) |####                 | Elapsed Time: 0:00:07 ETA:   0:00:25\n",
      " 20% (372 of 1800) |####                 | Elapsed Time: 0:00:07 ETA:   0:00:25\n",
      " 21% (378 of 1800) |####                 | Elapsed Time: 0:00:07 ETA:   0:00:25\n",
      " 21% (384 of 1800) |####                 | Elapsed Time: 0:00:07 ETA:   0:00:25\n",
      " 21% (388 of 1800) |####                 | Elapsed Time: 0:00:07 ETA:   0:00:25\n",
      " 21% (394 of 1800) |####                 | Elapsed Time: 0:00:08 ETA:   0:00:25\n",
      " 22% (399 of 1800) |####                 | Elapsed Time: 0:00:08 ETA:   0:00:25\n",
      " 22% (404 of 1800) |####                 | Elapsed Time: 0:00:08 ETA:   0:00:25\n",
      " 22% (410 of 1800) |####                 | Elapsed Time: 0:00:08 ETA:   0:00:25\n",
      " 23% (415 of 1800) |####                 | Elapsed Time: 0:00:08 ETA:   0:00:25\n",
      " 23% (421 of 1800) |####                 | Elapsed Time: 0:00:08 ETA:   0:00:25\n",
      " 23% (428 of 1800) |####                 | Elapsed Time: 0:00:08 ETA:   0:00:25\n",
      " 24% (433 of 1800) |#####                | Elapsed Time: 0:00:08 ETA:   0:00:25\n",
      " 24% (438 of 1800) |#####                | Elapsed Time: 0:00:08 ETA:   0:00:25\n",
      " 24% (445 of 1800) |#####                | Elapsed Time: 0:00:09 ETA:   0:00:25\n",
      " 25% (453 of 1800) |#####                | Elapsed Time: 0:00:09 ETA:   0:00:24\n",
      " 25% (460 of 1800) |#####                | Elapsed Time: 0:00:09 ETA:   0:00:24\n",
      " 25% (467 of 1800) |#####                | Elapsed Time: 0:00:09 ETA:   0:00:24\n",
      " 26% (473 of 1800) |#####                | Elapsed Time: 0:00:09 ETA:   0:00:24\n",
      " 26% (479 of 1800) |#####                | Elapsed Time: 0:00:09 ETA:   0:00:24\n",
      " 26% (485 of 1800) |#####                | Elapsed Time: 0:00:09 ETA:   0:00:24\n",
      " 27% (490 of 1800) |#####                | Elapsed Time: 0:00:09 ETA:   0:00:24\n",
      " 27% (497 of 1800) |#####                | Elapsed Time: 0:00:09 ETA:   0:00:23\n",
      " 27% (502 of 1800) |#####                | Elapsed Time: 0:00:09 ETA:   0:00:23\n",
      " 28% (507 of 1800) |#####                | Elapsed Time: 0:00:10 ETA:   0:00:23\n",
      " 28% (515 of 1800) |######               | Elapsed Time: 0:00:10 ETA:   0:00:22\n",
      " 28% (521 of 1800) |######               | Elapsed Time: 0:00:10 ETA:   0:00:22\n",
      " 29% (525 of 1800) |######               | Elapsed Time: 0:00:10 ETA:   0:00:22\n",
      " 29% (531 of 1800) |######               | Elapsed Time: 0:00:10 ETA:   0:00:22\n",
      " 29% (537 of 1800) |######               | Elapsed Time: 0:00:10 ETA:   0:00:22\n",
      " 30% (543 of 1800) |######               | Elapsed Time: 0:00:10 ETA:   0:00:22\n",
      " 30% (552 of 1800) |######               | Elapsed Time: 0:00:10 ETA:   0:00:21\n",
      " 31% (560 of 1800) |######               | Elapsed Time: 0:00:10 ETA:   0:00:20\n",
      " 31% (567 of 1800) |######               | Elapsed Time: 0:00:11 ETA:   0:00:20\n",
      " 31% (574 of 1800) |######               | Elapsed Time: 0:00:11 ETA:   0:00:20\n",
      " 32% (581 of 1800) |######               | Elapsed Time: 0:00:11 ETA:   0:00:20\n",
      " 32% (587 of 1800) |######               | Elapsed Time: 0:00:11 ETA:   0:00:20\n",
      " 32% (593 of 1800) |######               | Elapsed Time: 0:00:11 ETA:   0:00:20\n",
      " 33% (599 of 1800) |######               | Elapsed Time: 0:00:11 ETA:   0:00:20\n",
      " 33% (604 of 1800) |#######              | Elapsed Time: 0:00:11 ETA:   0:00:20\n",
      " 33% (611 of 1800) |#######              | Elapsed Time: 0:00:11 ETA:   0:00:19\n",
      " 34% (616 of 1800) |#######              | Elapsed Time: 0:00:11 ETA:   0:00:19\n",
      " 34% (621 of 1800) |#######              | Elapsed Time: 0:00:11 ETA:   0:00:20\n",
      " 34% (628 of 1800) |#######              | Elapsed Time: 0:00:12 ETA:   0:00:19\n",
      " 35% (634 of 1800) |#######              | Elapsed Time: 0:00:12 ETA:   0:00:19\n",
      " 35% (638 of 1800) |#######              | Elapsed Time: 0:00:12 ETA:   0:00:19\n",
      " 35% (647 of 1800) |#######              | Elapsed Time: 0:00:12 ETA:   0:00:19\n",
      " 36% (653 of 1800) |#######              | Elapsed Time: 0:00:12 ETA:   0:00:19\n",
      " 36% (659 of 1800) |#######              | Elapsed Time: 0:00:12 ETA:   0:00:18\n",
      " 36% (665 of 1800) |#######              | Elapsed Time: 0:00:12 ETA:   0:00:18\n",
      " 37% (671 of 1800) |#######              | Elapsed Time: 0:00:12 ETA:   0:00:19\n",
      " 37% (677 of 1800) |#######              | Elapsed Time: 0:00:12 ETA:   0:00:19\n",
      " 37% (682 of 1800) |#######              | Elapsed Time: 0:00:13 ETA:   0:00:19\n",
      " 38% (687 of 1800) |########             | Elapsed Time: 0:00:13 ETA:   0:00:19\n",
      " 38% (693 of 1800) |########             | Elapsed Time: 0:00:13 ETA:   0:00:19\n",
      " 38% (698 of 1800) |########             | Elapsed Time: 0:00:13 ETA:   0:00:20\n",
      " 39% (704 of 1800) |########             | Elapsed Time: 0:00:13 ETA:   0:00:20\n",
      " 39% (707 of 1800) |########             | Elapsed Time: 0:00:13 ETA:   0:00:19\n",
      " 39% (715 of 1800) |########             | Elapsed Time: 0:00:13 ETA:   0:00:19\n",
      " 40% (722 of 1800) |########             | Elapsed Time: 0:00:13 ETA:   0:00:19\n",
      " 40% (728 of 1800) |########             | Elapsed Time: 0:00:13 ETA:   0:00:19\n",
      " 40% (733 of 1800) |########             | Elapsed Time: 0:00:13 ETA:   0:00:19\n",
      " 41% (740 of 1800) |########             | Elapsed Time: 0:00:14 ETA:   0:00:19\n",
      " 41% (746 of 1800) |########             | Elapsed Time: 0:00:14 ETA:   0:00:18\n",
      " 41% (752 of 1800) |########             | Elapsed Time: 0:00:14 ETA:   0:00:18\n",
      " 42% (758 of 1800) |########             | Elapsed Time: 0:00:14 ETA:   0:00:19\n",
      " 42% (764 of 1800) |########             | Elapsed Time: 0:00:14 ETA:   0:00:18\n",
      " 42% (768 of 1800) |########             | Elapsed Time: 0:00:14 ETA:   0:00:19\n",
      " 43% (774 of 1800) |#########            | Elapsed Time: 0:00:14 ETA:   0:00:18\n",
      " 43% (782 of 1800) |#########            | Elapsed Time: 0:00:14 ETA:   0:00:18\n",
      " 43% (791 of 1800) |#########            | Elapsed Time: 0:00:14 ETA:   0:00:17\n",
      " 44% (797 of 1800) |#########            | Elapsed Time: 0:00:15 ETA:   0:00:17\n",
      " 44% (803 of 1800) |#########            | Elapsed Time: 0:00:15 ETA:   0:00:17\n",
      " 45% (810 of 1800) |#########            | Elapsed Time: 0:00:15 ETA:   0:00:17\n",
      " 45% (815 of 1800) |#########            | Elapsed Time: 0:00:15 ETA:   0:00:16\n",
      " 45% (821 of 1800) |#########            | Elapsed Time: 0:00:15 ETA:   0:00:16\n",
      " 46% (829 of 1800) |#########            | Elapsed Time: 0:00:15 ETA:   0:00:16\n",
      " 46% (839 of 1800) |#########            | Elapsed Time: 0:00:15 ETA:   0:00:15\n",
      " 46% (844 of 1800) |#########            | Elapsed Time: 0:00:15 ETA:   0:00:15\n",
      " 47% (850 of 1800) |#########            | Elapsed Time: 0:00:15 ETA:   0:00:15\n",
      " 47% (855 of 1800) |#########            | Elapsed Time: 0:00:15 ETA:   0:00:15\n",
      " 47% (862 of 1800) |##########           | Elapsed Time: 0:00:16 ETA:   0:00:15\n",
      " 48% (866 of 1800) |##########           | Elapsed Time: 0:00:16 ETA:   0:00:15\n",
      " 48% (871 of 1800) |##########           | Elapsed Time: 0:00:16 ETA:   0:00:15\n",
      " 48% (876 of 1800) |##########           | Elapsed Time: 0:00:16 ETA:   0:00:15\n",
      " 48% (880 of 1800) |##########           | Elapsed Time: 0:00:16 ETA:   0:00:15\n",
      " 49% (886 of 1800) |##########           | Elapsed Time: 0:00:16 ETA:   0:00:15\n",
      " 49% (889 of 1800) |##########           | Elapsed Time: 0:00:16 ETA:   0:00:15\n",
      " 49% (895 of 1800) |##########           | Elapsed Time: 0:00:16 ETA:   0:00:15\n",
      " 50% (901 of 1800) |##########           | Elapsed Time: 0:00:16 ETA:   0:00:15\n",
      " 50% (908 of 1800) |##########           | Elapsed Time: 0:00:17 ETA:   0:00:15\n",
      " 50% (912 of 1800) |##########           | Elapsed Time: 0:00:17 ETA:   0:00:15\n",
      " 51% (919 of 1800) |##########           | Elapsed Time: 0:00:17 ETA:   0:00:15\n",
      " 51% (927 of 1800) |##########           | Elapsed Time: 0:00:17 ETA:   0:00:14\n",
      " 51% (934 of 1800) |##########           | Elapsed Time: 0:00:17 ETA:   0:00:14\n",
      " 52% (941 of 1800) |##########           | Elapsed Time: 0:00:17 ETA:   0:00:14\n",
      " 52% (949 of 1800) |###########          | Elapsed Time: 0:00:17 ETA:   0:00:13\n",
      " 53% (956 of 1800) |###########          | Elapsed Time: 0:00:17 ETA:   0:00:14\n",
      " 53% (962 of 1800) |###########          | Elapsed Time: 0:00:17 ETA:   0:00:14\n",
      " 53% (969 of 1800) |###########          | Elapsed Time: 0:00:17 ETA:   0:00:14\n",
      " 54% (979 of 1800) |###########          | Elapsed Time: 0:00:18 ETA:   0:00:13\n",
      " 54% (986 of 1800) |###########          | Elapsed Time: 0:00:18 ETA:   0:00:13\n",
      " 55% (993 of 1800) |###########          | Elapsed Time: 0:00:18 ETA:   0:00:13\n",
      " 55% (999 of 1800) |###########          | Elapsed Time: 0:00:18 ETA:   0:00:12\n",
      " 55% (1003 of 1800) |###########         | Elapsed Time: 0:00:18 ETA:   0:00:12\n",
      " 56% (1009 of 1800) |###########         | Elapsed Time: 0:00:18 ETA:   0:00:12\n",
      " 56% (1016 of 1800) |###########         | Elapsed Time: 0:00:18 ETA:   0:00:12\n",
      " 56% (1022 of 1800) |###########         | Elapsed Time: 0:00:18 ETA:   0:00:12\n",
      " 57% (1026 of 1800) |###########         | Elapsed Time: 0:00:18 ETA:   0:00:12\n",
      " 57% (1033 of 1800) |###########         | Elapsed Time: 0:00:18 ETA:   0:00:11\n",
      " 57% (1041 of 1800) |###########         | Elapsed Time: 0:00:19 ETA:   0:00:11\n",
      " 58% (1047 of 1800) |###########         | Elapsed Time: 0:00:19 ETA:   0:00:11\n",
      " 58% (1054 of 1800) |###########         | Elapsed Time: 0:00:19 ETA:   0:00:11\n",
      " 58% (1059 of 1800) |###########         | Elapsed Time: 0:00:19 ETA:   0:00:11\n",
      " 59% (1064 of 1800) |###########         | Elapsed Time: 0:00:19 ETA:   0:00:11\n",
      " 59% (1070 of 1800) |###########         | Elapsed Time: 0:00:19 ETA:   0:00:11\n",
      " 59% (1078 of 1800) |###########         | Elapsed Time: 0:00:19 ETA:   0:00:11\n",
      " 60% (1084 of 1800) |############        | Elapsed Time: 0:00:19 ETA:   0:00:11\n",
      " 60% (1089 of 1800) |############        | Elapsed Time: 0:00:19 ETA:   0:00:11\n",
      " 60% (1094 of 1800) |############        | Elapsed Time: 0:00:19 ETA:   0:00:11\n",
      " 61% (1102 of 1800) |############        | Elapsed Time: 0:00:20 ETA:   0:00:11\n",
      " 61% (1110 of 1800) |############        | Elapsed Time: 0:00:20 ETA:   0:00:11\n",
      " 62% (1116 of 1800) |############        | Elapsed Time: 0:00:20 ETA:   0:00:11\n",
      " 62% (1123 of 1800) |############        | Elapsed Time: 0:00:20 ETA:   0:00:11\n",
      " 62% (1128 of 1800) |############        | Elapsed Time: 0:00:20 ETA:   0:00:11\n",
      " 63% (1136 of 1800) |############        | Elapsed Time: 0:00:20 ETA:   0:00:10\n",
      " 63% (1140 of 1800) |############        | Elapsed Time: 0:00:20 ETA:   0:00:10\n",
      " 63% (1147 of 1800) |############        | Elapsed Time: 0:00:20 ETA:   0:00:10\n",
      " 64% (1153 of 1800) |############        | Elapsed Time: 0:00:20 ETA:   0:00:10\n",
      " 64% (1156 of 1800) |############        | Elapsed Time: 0:00:21 ETA:   0:00:10\n",
      " 64% (1159 of 1800) |############        | Elapsed Time: 0:00:21 ETA:   0:00:11\n",
      " 64% (1163 of 1800) |############        | Elapsed Time: 0:00:21 ETA:   0:00:11\n",
      " 64% (1168 of 1800) |############        | Elapsed Time: 0:00:21 ETA:   0:00:11\n",
      " 65% (1172 of 1800) |#############       | Elapsed Time: 0:00:21 ETA:   0:00:11\n",
      " 65% (1178 of 1800) |#############       | Elapsed Time: 0:00:21 ETA:   0:00:11\n",
      " 65% (1183 of 1800) |#############       | Elapsed Time: 0:00:21 ETA:   0:00:11\n",
      " 66% (1189 of 1800) |#############       | Elapsed Time: 0:00:21 ETA:   0:00:11\n",
      " 66% (1194 of 1800) |#############       | Elapsed Time: 0:00:21 ETA:   0:00:11\n",
      " 66% (1199 of 1800) |#############       | Elapsed Time: 0:00:21 ETA:   0:00:11\n",
      " 66% (1204 of 1800) |#############       | Elapsed Time: 0:00:22 ETA:   0:00:11\n",
      " 67% (1208 of 1800) |#############       | Elapsed Time: 0:00:22 ETA:   0:00:11\n",
      " 67% (1215 of 1800) |#############       | Elapsed Time: 0:00:22 ETA:   0:00:11\n",
      " 67% (1222 of 1800) |#############       | Elapsed Time: 0:00:22 ETA:   0:00:11\n",
      " 68% (1229 of 1800) |#############       | Elapsed Time: 0:00:22 ETA:   0:00:11\n",
      " 68% (1234 of 1800) |#############       | Elapsed Time: 0:00:22 ETA:   0:00:11\n",
      " 68% (1240 of 1800) |#############       | Elapsed Time: 0:00:22 ETA:   0:00:11\n",
      " 69% (1245 of 1800) |#############       | Elapsed Time: 0:00:22 ETA:   0:00:11\n",
      " 69% (1252 of 1800) |#############       | Elapsed Time: 0:00:22 ETA:   0:00:11\n",
      " 69% (1258 of 1800) |#############       | Elapsed Time: 0:00:23 ETA:   0:00:10\n",
      " 70% (1264 of 1800) |##############      | Elapsed Time: 0:00:23 ETA:   0:00:10\n",
      " 70% (1271 of 1800) |##############      | Elapsed Time: 0:00:23 ETA:   0:00:09\n",
      " 70% (1276 of 1800) |##############      | Elapsed Time: 0:00:23 ETA:   0:00:09\n",
      " 71% (1281 of 1800) |##############      | Elapsed Time: 0:00:23 ETA:   0:00:09\n",
      " 71% (1286 of 1800) |##############      | Elapsed Time: 0:00:23 ETA:   0:00:09\n",
      " 71% (1291 of 1800) |##############      | Elapsed Time: 0:00:23 ETA:   0:00:09\n",
      " 72% (1296 of 1800) |##############      | Elapsed Time: 0:00:23 ETA:   0:00:09\n",
      " 72% (1299 of 1800) |##############      | Elapsed Time: 0:00:23 ETA:   0:00:09\n",
      " 72% (1304 of 1800) |##############      | Elapsed Time: 0:00:23 ETA:   0:00:09\n",
      " 72% (1311 of 1800) |##############      | Elapsed Time: 0:00:24 ETA:   0:00:09\n",
      " 73% (1318 of 1800) |##############      | Elapsed Time: 0:00:24 ETA:   0:00:08\n",
      " 73% (1322 of 1800) |##############      | Elapsed Time: 0:00:24 ETA:   0:00:08\n",
      " 73% (1327 of 1800) |##############      | Elapsed Time: 0:00:24 ETA:   0:00:08\n",
      " 74% (1333 of 1800) |##############      | Elapsed Time: 0:00:24 ETA:   0:00:08\n",
      " 74% (1338 of 1800) |##############      | Elapsed Time: 0:00:24 ETA:   0:00:08\n",
      " 74% (1344 of 1800) |##############      | Elapsed Time: 0:00:24 ETA:   0:00:08\n",
      " 75% (1350 of 1800) |###############     | Elapsed Time: 0:00:24 ETA:   0:00:08\n",
      " 75% (1355 of 1800) |###############     | Elapsed Time: 0:00:24 ETA:   0:00:08\n",
      " 75% (1360 of 1800) |###############     | Elapsed Time: 0:00:24 ETA:   0:00:08\n",
      " 75% (1366 of 1800) |###############     | Elapsed Time: 0:00:25 ETA:   0:00:08\n",
      " 76% (1372 of 1800) |###############     | Elapsed Time: 0:00:25 ETA:   0:00:08\n",
      " 76% (1377 of 1800) |###############     | Elapsed Time: 0:00:25 ETA:   0:00:08\n",
      " 76% (1383 of 1800) |###############     | Elapsed Time: 0:00:25 ETA:   0:00:08\n",
      " 77% (1387 of 1800) |###############     | Elapsed Time: 0:00:25 ETA:   0:00:08\n",
      " 77% (1394 of 1800) |###############     | Elapsed Time: 0:00:25 ETA:   0:00:07\n",
      " 77% (1401 of 1800) |###############     | Elapsed Time: 0:00:25 ETA:   0:00:07\n",
      " 78% (1406 of 1800) |###############     | Elapsed Time: 0:00:25 ETA:   0:00:07\n",
      " 78% (1413 of 1800) |###############     | Elapsed Time: 0:00:25 ETA:   0:00:07\n",
      " 78% (1421 of 1800) |###############     | Elapsed Time: 0:00:26 ETA:   0:00:06\n",
      " 79% (1429 of 1800) |###############     | Elapsed Time: 0:00:26 ETA:   0:00:06\n",
      " 79% (1434 of 1800) |###############     | Elapsed Time: 0:00:26 ETA:   0:00:06\n",
      " 80% (1441 of 1800) |################    | Elapsed Time: 0:00:26 ETA:   0:00:06\n",
      " 80% (1448 of 1800) |################    | Elapsed Time: 0:00:26 ETA:   0:00:06\n",
      " 80% (1453 of 1800) |################    | Elapsed Time: 0:00:26 ETA:   0:00:06\n",
      " 81% (1458 of 1800) |################    | Elapsed Time: 0:00:26 ETA:   0:00:06\n",
      " 81% (1464 of 1800) |################    | Elapsed Time: 0:00:26 ETA:   0:00:06\n",
      " 81% (1469 of 1800) |################    | Elapsed Time: 0:00:26 ETA:   0:00:05\n",
      " 81% (1475 of 1800) |################    | Elapsed Time: 0:00:27 ETA:   0:00:05\n",
      " 82% (1481 of 1800) |################    | Elapsed Time: 0:00:27 ETA:   0:00:05\n",
      " 82% (1486 of 1800) |################    | Elapsed Time: 0:00:27 ETA:   0:00:05\n",
      " 82% (1491 of 1800) |################    | Elapsed Time: 0:00:27 ETA:   0:00:05\n",
      " 83% (1495 of 1800) |################    | Elapsed Time: 0:00:27 ETA:   0:00:05\n",
      " 83% (1498 of 1800) |################    | Elapsed Time: 0:00:27 ETA:   0:00:05\n",
      " 83% (1502 of 1800) |################    | Elapsed Time: 0:00:27 ETA:   0:00:05\n",
      " 83% (1506 of 1800) |################    | Elapsed Time: 0:00:27 ETA:   0:00:05\n",
      " 83% (1511 of 1800) |################    | Elapsed Time: 0:00:27 ETA:   0:00:05\n",
      " 84% (1516 of 1800) |################    | Elapsed Time: 0:00:27 ETA:   0:00:05\n",
      " 84% (1521 of 1800) |################    | Elapsed Time: 0:00:28 ETA:   0:00:05\n",
      " 84% (1526 of 1800) |################    | Elapsed Time: 0:00:28 ETA:   0:00:05\n",
      " 85% (1532 of 1800) |#################   | Elapsed Time: 0:00:28 ETA:   0:00:05\n",
      " 85% (1537 of 1800) |#################   | Elapsed Time: 0:00:28 ETA:   0:00:05\n",
      " 85% (1541 of 1800) |#################   | Elapsed Time: 0:00:28 ETA:   0:00:05\n",
      " 85% (1545 of 1800) |#################   | Elapsed Time: 0:00:28 ETA:   0:00:05\n",
      " 86% (1549 of 1800) |#################   | Elapsed Time: 0:00:28 ETA:   0:00:05\n",
      " 86% (1553 of 1800) |#################   | Elapsed Time: 0:00:28 ETA:   0:00:05\n",
      " 86% (1557 of 1800) |#################   | Elapsed Time: 0:00:28 ETA:   0:00:05\n",
      " 86% (1561 of 1800) |#################   | Elapsed Time: 0:00:29 ETA:   0:00:05\n",
      " 86% (1565 of 1800) |#################   | Elapsed Time: 0:00:29 ETA:   0:00:05\n",
      " 87% (1570 of 1800) |#################   | Elapsed Time: 0:00:29 ETA:   0:00:05\n",
      " 87% (1576 of 1800) |#################   | Elapsed Time: 0:00:29 ETA:   0:00:05\n",
      " 87% (1580 of 1800) |#################   | Elapsed Time: 0:00:29 ETA:   0:00:05\n",
      " 88% (1584 of 1800) |#################   | Elapsed Time: 0:00:29 ETA:   0:00:05\n",
      " 88% (1590 of 1800) |#################   | Elapsed Time: 0:00:29 ETA:   0:00:04\n",
      " 88% (1595 of 1800) |#################   | Elapsed Time: 0:00:29 ETA:   0:00:04\n",
      " 88% (1601 of 1800) |#################   | Elapsed Time: 0:00:29 ETA:   0:00:04\n",
      " 89% (1605 of 1800) |#################   | Elapsed Time: 0:00:30 ETA:   0:00:04\n",
      " 89% (1611 of 1800) |#################   | Elapsed Time: 0:00:30 ETA:   0:00:04\n",
      " 89% (1614 of 1800) |#################   | Elapsed Time: 0:00:30 ETA:   0:00:04\n",
      " 89% (1618 of 1800) |#################   | Elapsed Time: 0:00:30 ETA:   0:00:04\n",
      " 90% (1622 of 1800) |##################  | Elapsed Time: 0:00:30 ETA:   0:00:04\n",
      " 90% (1627 of 1800) |##################  | Elapsed Time: 0:00:30 ETA:   0:00:04\n",
      " 90% (1631 of 1800) |##################  | Elapsed Time: 0:00:30 ETA:   0:00:04\n",
      " 90% (1635 of 1800) |##################  | Elapsed Time: 0:00:30 ETA:   0:00:03\n",
      " 91% (1641 of 1800) |##################  | Elapsed Time: 0:00:30 ETA:   0:00:03\n",
      " 91% (1649 of 1800) |##################  | Elapsed Time: 0:00:31 ETA:   0:00:03\n",
      " 92% (1656 of 1800) |##################  | Elapsed Time: 0:00:31 ETA:   0:00:03\n",
      " 92% (1664 of 1800) |##################  | Elapsed Time: 0:00:31 ETA:   0:00:02\n",
      " 92% (1672 of 1800) |##################  | Elapsed Time: 0:00:31 ETA:   0:00:02\n",
      " 93% (1679 of 1800) |##################  | Elapsed Time: 0:00:31 ETA:   0:00:02\n",
      " 93% (1683 of 1800) |##################  | Elapsed Time: 0:00:31 ETA:   0:00:02\n",
      " 93% (1690 of 1800) |##################  | Elapsed Time: 0:00:31 ETA:   0:00:02\n",
      " 94% (1695 of 1800) |##################  | Elapsed Time: 0:00:31 ETA:   0:00:02\n",
      " 94% (1700 of 1800) |##################  | Elapsed Time: 0:00:31 ETA:   0:00:01\n",
      " 94% (1704 of 1800) |##################  | Elapsed Time: 0:00:32 ETA:   0:00:01\n",
      " 94% (1709 of 1800) |##################  | Elapsed Time: 0:00:32 ETA:   0:00:01\n",
      " 95% (1715 of 1800) |################### | Elapsed Time: 0:00:32 ETA:   0:00:01\n",
      " 95% (1720 of 1800) |################### | Elapsed Time: 0:00:32 ETA:   0:00:01\n",
      " 95% (1727 of 1800) |################### | Elapsed Time: 0:00:32 ETA:   0:00:01\n",
      " 96% (1732 of 1800) |################### | Elapsed Time: 0:00:32 ETA:   0:00:01\n",
      " 96% (1739 of 1800) |################### | Elapsed Time: 0:00:32 ETA:   0:00:01\n",
      " 97% (1746 of 1800) |################### | Elapsed Time: 0:00:32 ETA:   0:00:00\n",
      " 97% (1753 of 1800) |################### | Elapsed Time: 0:00:32 ETA:   0:00:00\n",
      " 97% (1760 of 1800) |################### | Elapsed Time: 0:00:32 ETA:   0:00:00\n",
      " 98% (1766 of 1800) |################### | Elapsed Time: 0:00:33 ETA:   0:00:00\n",
      " 98% (1773 of 1800) |################### | Elapsed Time: 0:00:33 ETA:   0:00:00\n",
      " 98% (1778 of 1800) |################### | Elapsed Time: 0:00:33 ETA:   0:00:00\n",
      " 99% (1784 of 1800) |################### | Elapsed Time: 0:00:33 ETA:   0:00:00\n",
      " 99% (1792 of 1800) |################### | Elapsed Time: 0:00:33 ETA:   0:00:00\n",
      " 99% (1796 of 1800) |################### | Elapsed Time: 0:00:33 ETA:   0:00:00\n",
      "100% (1800 of 1800) |####################| Elapsed Time: 0:00:33 Time:  0:00:33\n"
     ]
    }
   ],
   "source": [
    "import numpy as np\n",
    "from PIL import Image\n",
    "import progressbar\n",
    "\n",
    "\n",
    "INPUT_IMAGE_SIZE = (128, 128, 3)\n",
    "TARGET_IMAGE_SIZE = (128, 128, 4)\n",
    "\n",
    "\n",
    "def import_image(path, resize_to=None):\n",
    "  img_obj = Image.open(path)\n",
    "  if resize_to!=None:\n",
    "    img_obj = img_obj.resize(resize_to)\n",
    "\n",
    "  img_data = np.array(img_obj)\n",
    "  return np.expand_dims(img_data, axis=-1)\n",
    "\n",
    "\n",
    "def onehot_encode(mask, num_classes=4):\n",
    "  raw_mask = np.squeeze(mask)\n",
    "  onehot_mask = np.zeros((raw_mask.shape[0], raw_mask.shape[1], num_classes))\n",
    "  for int_label in np.unique(raw_mask):\n",
    "    onehot_mask[:, :, int_label][raw_mask == int_label] = 1\n",
    "  return onehot_mask\n",
    "\n",
    "list_data_json = metadata['list_files']\n",
    "\n",
    "\n",
    "train_images_array = np.zeros((metadata['train_data_count'], *INPUT_IMAGE_SIZE))\n",
    "train_masks_array = np.zeros((metadata['train_data_count'], *TARGET_IMAGE_SIZE))\n",
    "\n",
    "validation_images_array = np.zeros((metadata['validation_data_count'], *INPUT_IMAGE_SIZE))\n",
    "validation_masks_array = np.zeros((metadata['validation_data_count'], *TARGET_IMAGE_SIZE))\n",
    "\n",
    "train_counter = 0\n",
    "validation_counter = 0\n",
    "with progressbar.ProgressBar(max_value = metadata['train_data_count']+metadata['validation_data_count']) as bar:\n",
    "  for i, json_data_file in enumerate(list_data_json):\n",
    "    with open(path.join(DATASET_PATH, json_data_file)) as json_data:\n",
    "      image_metadata = json.load(json_data)\n",
    "    \n",
    "    img_file = image_metadata['IMG_FILE']\n",
    "    mask_file = image_metadata['MASK_FILE']\n",
    "\n",
    "    img = import_image(path.join(DATASET_PATH, img_file), resize_to=(INPUT_IMAGE_SIZE[0], INPUT_IMAGE_SIZE[1]))\n",
    "    img = (img - np.min(img))/np.ptp(img)\n",
    "    mask = import_image(path.join(DATASET_PATH, mask_file), resize_to=(TARGET_IMAGE_SIZE[0], TARGET_IMAGE_SIZE[1])).astype(np.int8)\n",
    "    mask = onehot_encode(mask)\n",
    "\n",
    "    if image_metadata['subset'] == 'train':\n",
    "      train_images_array[train_counter, :, :, :] = np.repeat(img, 3, axis=-1)\n",
    "      train_masks_array[train_counter, :, :, :] = mask\n",
    "      train_counter += 1\n",
    "    else:\n",
    "      validation_images_array[validation_counter, :, :, :] = np.repeat(img, 3, axis=-1)\n",
    "      validation_masks_array[validation_counter, :, :, :] = mask\n",
    "      validation_counter += 1\n",
    "    bar.update(i)"
   ]
  },
  {
   "cell_type": "code",
   "execution_count": 44,
   "id": "01c519d7",
   "metadata": {},
   "outputs": [
    {
     "data": {
      "image/png": "[encoded data removed]",
      "text/plain": [
       "<Figure size 600x400 with 2 Axes>"
      ]
     },
     "metadata": {},
     "output_type": "display_data"
    }
   ],
   "source": [
    "import matplotlib.pyplot as plt\n",
    "\n",
    "\n",
    "def create_maskimage(mask):\n",
    "    return np.argmax(mask, axis=-1)\n",
    "\n",
    "def plot_data(image, mask=None, classified=None, suptitle=''):\n",
    "    image_labels = ['image']\n",
    "    data = [image]\n",
    "    if not isinstance(mask, type(None)):\n",
    "        image_labels.append('true mask')\n",
    "        data.append(mask)\n",
    "    if not isinstance(classified, type(None)):\n",
    "        image_labels.append('classified mask')\n",
    "        data.append(classified)\n",
    "\n",
    "    fig, axes = plt.subplots(1, len(image_labels), dpi=100)\n",
    "\n",
    "    for title, image, ax in zip(image_labels, data, axes):\n",
    "        if title=='image':\n",
    "            ax.imshow(image)\n",
    "        else:\n",
    "            ax.imshow(image)\n",
    "        ax.set_xticks([])\n",
    "        ax.set_yticks([])\n",
    "        ax.set_title(title)\n",
    "\n",
    "    fig.suptitle(suptitle)\n",
    "    return fig\n",
    "\n",
    "f = plot_data(image = train_images_array[0], mask=create_maskimage(train_masks_array[0]))\n",
    "    "
   ]
  },
  {
   "cell_type": "markdown",
   "id": "f440f16f-fcc2-4afd-b115-717a2c0dc8ea",
   "metadata": {},
   "source": [
    "## Prepare the data"
   ]
  },
  {
   "cell_type": "markdown",
   "id": "db53976a-48bb-4d75-9c6f-890141244c9d",
   "metadata": {},
   "source": [
    "### Load data"
   ]
  },
  {
   "cell_type": "code",
   "execution_count": null,
   "id": "ceab8ace-29b2-46ae-83eb-71d6f8a453eb",
   "metadata": {},
   "outputs": [
    {
     "name": "stdout",
     "output_type": "stream",
     "text": [
      "\u001b[33mWARNING: The directory '/home/ai/.cache/pip' or its parent directory is not owned or is not writable by the current user. The cache has been disabled. Check the permissions and owner of that directory. If executing pip with sudo, you should use sudo's -H flag.\u001b[0m\n",
      "Requirement already satisfied: tensorflow-io in /opt/conda/lib/python3.9/site-packages (0.24.0)\n",
      "Requirement already satisfied: tensorflow-io-gcs-filesystem==0.24.0 in /opt/conda/lib/python3.9/site-packages (from tensorflow-io) (0.24.0)\n",
      "\u001b[33mWARNING: Running pip as the 'root' user can result in broken permissions and conflicting behaviour with the system package manager. It is recommended to use a virtual environment instead: https://pip.pypa.io/warnings/venv\u001b[0m\n"
     ]
    }
   ],
   "source": [
    "%pip install tensorflow-io"
   ]
  },
  {
   "cell_type": "code",
   "execution_count": 49,
   "metadata": {},
   "outputs": [
    {
     "data": {
      "text/plain": [
       "(TensorSpec(shape=(128, 128, 3), dtype=tf.float64, name=None),\n",
       " TensorSpec(shape=(128, 128, 4), dtype=tf.float64, name=None))"
      ]
     },
     "execution_count": 49,
     "metadata": {},
     "output_type": "execute_result"
    }
   ],
   "source": [
    "train_ds_unet = tf.data.Dataset.from_tensor_slices((train_images_array, train_masks_array))\n",
    "validation_ds_unet = tf.data.Dataset.from_tensor_slices((validation_images_array, validation_masks_array))\n",
    "train_ds_autoencoder = tf.data.Dataset.from_tensor_slices((train_masks_array, train_masks_array))\n",
    "validation_ds_autoencoder = tf.data.Dataset.from_tensor_slices((validation_masks_array, validation_masks_array))\n",
    "\n",
    "train_ds_unet.element_spec"
   ]
  },
  {
   "cell_type": "code",
   "execution_count": 22,
   "id": "8e073a01",
   "metadata": {},
   "outputs": [
    {
     "data": {
      "text/plain": [
       "(TensorSpec(shape=(128, 128, None), dtype=tf.float32, name=None),\n",
       " TensorSpec(shape=<unknown>, dtype=tf.float32, name=None))"
      ]
     },
     "execution_count": 22,
     "metadata": {},
     "output_type": "execute_result"
    }
   ],
   "source": [
    "train_ds.element_spec"
   ]
  },
  {
   "cell_type": "code",
   "execution_count": 24,
   "id": "5be84417-7e26-456a-b65f-ae58313476dd",
   "metadata": {},
   "outputs": [],
   "source": [
    "BATCH_SIZE = 64\n",
    "BUFFER_SIZE = 1000\n",
    "\n",
    "\n",
    "train_ds = (\n",
    "    train_ds\n",
    "      .cache()\n",
    "      .shuffle(BUFFER_SIZE)\n",
    "      .batch(BATCH_SIZE)\n",
    "      .prefetch(buffer_size=tf.data.AUTOTUNE)\n",
    "    )\n",
    "\n",
    "\n",
    "train_autoencoder_ds = (\n",
    "    train_autoencoder_ds\n",
    "      .cache()\n",
    "      .shuffle(BUFFER_SIZE)\n",
    "      .batch(BATCH_SIZE)\n",
    "      .prefetch(buffer_size=tf.data.AUTOTUNE)\n",
    "    )\n",
    "\n",
    "\n",
    "validation_ds = validation_ds.batch(BATCH_SIZE)\n",
    "validation_autoencoder_ds = validation_autoencoder_ds.batch(BATCH_SIZE)"
   ]
  },
  {
   "cell_type": "code",
   "execution_count": 11,
   "id": "5b339b84",
   "metadata": {},
   "outputs": [
    {
     "data": {
      "text/plain": [
       "(TensorSpec(shape=(None, 128, 128, None), dtype=tf.float32, name=None),\n",
       " TensorSpec(shape=<unknown>, dtype=tf.float32, name=None))"
      ]
     },
     "execution_count": 11,
     "metadata": {},
     "output_type": "execute_result"
    }
   ],
   "source": [
    "train_ds.element_spec"
   ]
  },
  {
   "cell_type": "code",
   "execution_count": 17,
   "id": "fb693fee-2643-4515-9336-2041476edfb6",
   "metadata": {},
   "outputs": [
    {
     "data": {
      "text/plain": [
       "<PrefetchDataset shapes: ((None, 128, 128, None), (None, 128, 128, None)), types: (tf.float32, tf.float32)>"
      ]
     },
     "execution_count": 17,
     "metadata": {},
     "output_type": "execute_result"
    }
   ],
   "source": [
    "train_ds"
   ]
  },
  {
   "cell_type": "code",
   "execution_count": 18,
   "id": "3d28fd26-d633-4385-bff4-cf0e03cfda26",
   "metadata": {},
   "outputs": [
    {
     "name": "stdout",
     "output_type": "stream",
     "text": [
      "\u001b[33mWARNING: The directory '/home/ai/.cache/pip' or its parent directory is not owned or is not writable by the current user. The cache has been disabled. Check the permissions and owner of that directory. If executing pip with sudo, you should use sudo's -H flag.\u001b[0m\n",
      "Collecting git+https://github.com/tensorflow/examples.git\n",
      "  Cloning https://github.com/tensorflow/examples.git to /tmp/pip-req-build-ez5r64yl\n",
      "  Running command git clone -q https://github.com/tensorflow/examples.git /tmp/pip-req-build-ez5r64yl\n",
      "  Resolved https://github.com/tensorflow/examples.git to commit a9265a997d0410c431a292e3553646b3b655ea1f\n",
      "Requirement already satisfied: absl-py in /opt/conda/lib/python3.9/site-packages (from tensorflow-examples===a9265a997d0410c431a292e3553646b3b655ea1f-) (0.13.0)\n",
      "Requirement already satisfied: six in /opt/conda/lib/python3.9/site-packages (from tensorflow-examples===a9265a997d0410c431a292e3553646b3b655ea1f-) (1.15.0)\n",
      "\u001b[33mWARNING: Running pip as the 'root' user can result in broken permissions and conflicting behaviour with the system package manager. It is recommended to use a virtual environment instead: https://pip.pypa.io/warnings/venv\u001b[0m\n"
     ]
    }
   ],
   "source": [
    "%pip install git+https://github.com/tensorflow/examples.git"
   ]
  },
  {
   "cell_type": "code",
   "execution_count": 93,
   "id": "3cb8697b-96a3-4025-8a84-17de7de22207",
   "metadata": {},
   "outputs": [],
   "source": [
    "from tensorflow_examples.models.pix2pix import pix2pix\n",
    "\n",
    "\n",
    "import matplotlib.pyplot as plt"
   ]
  },
  {
   "cell_type": "markdown",
   "id": "a711639b-e21b-4feb-9d2d-5d59ef794785",
   "metadata": {},
   "source": [
    "## Segmentation Model\n",
    "\n",
    "In this part we will try to exaclty define the U-Net model according to the article. As described in the article, the first part of our model is VGG-Net and the synthesizer part is 3D U-Net.\n",
    "\n",
    "\n",
    "VGG-Net Article:\n",
    ">K. Simonyan and A. Zisserman. (Sep. 2014). “Very deep convolutional networks for large-scale image recognition.” [Online]. Available: https://arxiv.org/abs/1409.1556\n",
    "\n",
    "3D U-Net:\n",
    ">O. Ronneberger, P. Fischer, and T. Brox, “U-net: Convolutional networks for biomedical image segmentation,” in Proc. Int. Conf. MICCAI, 2015, pp. 234–241."
   ]
  },
  {
   "cell_type": "code",
   "execution_count": 23,
   "id": "0421b30b-dd0f-4be9-a0c1-f919f2c2d135",
   "metadata": {},
   "outputs": [],
   "source": [
    "base_model = tf.keras.applications.vgg16.VGG16(input_shape=[128, 128, 3], include_top=False, weights='data/datasets/vgg16_weights_tf_dim_ordering_tf_kernels_notop.h5')\n",
    "\n",
    "\n",
    "layer_names = [\n",
    "    'block1_conv2',\n",
    "    'block2_conv2',\n",
    "    'block3_conv3',\n",
    "    'block4_conv3'\n",
    "]\n",
    "\n",
    "base_model_outputs = [base_model.get_layer(name).output for name in layer_names]\n",
    "\n",
    "# Create the feature extraction model\n",
    "down_stack = tf.keras.Model(inputs=base_model.input, outputs=base_model_outputs)\n",
    "\n",
    "down_stack.trainable = False"
   ]
  },
  {
   "cell_type": "code",
   "execution_count": 24,
   "id": "6f54f0e5-4aa3-4973-a84a-ab1b33effa38",
   "metadata": {},
   "outputs": [
    {
     "name": "stdout",
     "output_type": "stream",
     "text": [
      "Model: \"model\"\n",
      "_________________________________________________________________\n",
      "Layer (type)                 Output Shape              Param #   \n",
      "=================================================================\n",
      "input_1 (InputLayer)         [(None, 128, 128, 3)]     0         \n",
      "_________________________________________________________________\n",
      "block1_conv1 (Conv2D)        (None, 128, 128, 64)      1792      \n",
      "_________________________________________________________________\n",
      "block1_conv2 (Conv2D)        (None, 128, 128, 64)      36928     \n",
      "_________________________________________________________________\n",
      "block1_pool (MaxPooling2D)   (None, 64, 64, 64)        0         \n",
      "_________________________________________________________________\n",
      "block2_conv1 (Conv2D)        (None, 64, 64, 128)       73856     \n",
      "_________________________________________________________________\n",
      "block2_conv2 (Conv2D)        (None, 64, 64, 128)       147584    \n",
      "_________________________________________________________________\n",
      "block2_pool (MaxPooling2D)   (None, 32, 32, 128)       0         \n",
      "_________________________________________________________________\n",
      "block3_conv1 (Conv2D)        (None, 32, 32, 256)       295168    \n",
      "_________________________________________________________________\n",
      "block3_conv2 (Conv2D)        (None, 32, 32, 256)       590080    \n",
      "_________________________________________________________________\n",
      "block3_conv3 (Conv2D)        (None, 32, 32, 256)       590080    \n",
      "_________________________________________________________________\n",
      "block3_pool (MaxPooling2D)   (None, 16, 16, 256)       0         \n",
      "_________________________________________________________________\n",
      "block4_conv1 (Conv2D)        (None, 16, 16, 512)       1180160   \n",
      "_________________________________________________________________\n",
      "block4_conv2 (Conv2D)        (None, 16, 16, 512)       2359808   \n",
      "_________________________________________________________________\n",
      "block4_conv3 (Conv2D)        (None, 16, 16, 512)       2359808   \n",
      "=================================================================\n",
      "Total params: 7,635,264\n",
      "Trainable params: 0\n",
      "Non-trainable params: 7,635,264\n",
      "_________________________________________________________________\n"
     ]
    }
   ],
   "source": [
    "down_stack.summary()"
   ]
  },
  {
   "cell_type": "code",
   "execution_count": 25,
   "id": "dd58f002-137a-4ab3-8da0-60978dd99b19",
   "metadata": {},
   "outputs": [],
   "source": [
    "from tensorflow_examples.models.pix2pix import pix2pix\n",
    "\n",
    "with tf.device('/GPU:0'):\n",
    "    up_stack = [\n",
    "        pix2pix.upsample(128, 3),  # 16x16 -> 32x32\n",
    "        pix2pix.upsample(64, 3),   # 32x32 -> 64x64\n",
    "    ]"
   ]
  },
  {
   "cell_type": "code",
   "execution_count": 26,
   "id": "75843a97-8814-4aba-8fb5-82e7488e0614",
   "metadata": {},
   "outputs": [],
   "source": [
    "def unet_model(output_channels:int):\n",
    "    \n",
    "    with tf.device('/GPU:0'):\n",
    "        inputs = tf.keras.layers.Input(shape=[128, 128, 3])\n",
    "\n",
    "        # Downsampling through the model\n",
    "        skips = down_stack(inputs)\n",
    "        x = skips[-1]\n",
    "        skips = reversed(skips[:-1])\n",
    "\n",
    "        # Upsampling and establishing the skip connections\n",
    "        for up, skip in zip(up_stack, skips):\n",
    "            x = up(x)\n",
    "            concat = tf.keras.layers.Concatenate()\n",
    "            x = concat([x, skip])\n",
    "\n",
    "        # This is the last layer of the model\n",
    "        last = tf.keras.layers.Conv2DTranspose(\n",
    "            filters=output_channels, kernel_size=3, strides=2,\n",
    "            padding='same')  #64x64 -> 128x128\n",
    "\n",
    "        x = last(x)\n",
    "\n",
    "    return tf.keras.Model(inputs=inputs, outputs=x)"
   ]
  },
  {
   "cell_type": "code",
   "execution_count": 20,
   "id": "9e1b4cfa-4a45-4039-9a54-cc87b06a8b7d",
   "metadata": {},
   "outputs": [],
   "source": [
    "from argparse import ArgumentError\n",
    "from email.mime import message\n",
    "import tensorflow as tf\n",
    "from metrics import DiceCoefficient"
   ]
  },
  {
   "cell_type": "code",
   "execution_count": 32,
   "id": "c6f896e3-056a-42e9-9a25-10a2bb7ac02d",
   "metadata": {},
   "outputs": [],
   "source": [
    "from tensorflow.keras.models import load_model\n",
    "\n",
    "\n",
    "# OUTPUT_CLASSES = 4\n",
    "\n",
    "# usnet = unet_model(output_channels=OUTPUT_CLASSES)\n",
    "usnet = load_model('usnet03', compile=False)\n",
    "usnet.compile(optimizer='adam',\n",
    "              loss=tf.keras.losses.SparseCategoricalCrossentropy(from_logits=True),\n",
    "              metrics=[\n",
    "                       DiceCoefficient(class_id=1, name = 'dice_class_1'),\n",
    "                       DiceCoefficient(class_id=2, name = 'dice_class_2'),\n",
    "                       DiceCoefficient(class_id=3, name = 'dice_class_3')\n",
    "                       ])"
   ]
  },
  {
   "cell_type": "code",
   "execution_count": 33,
   "id": "97c96615-27ee-438a-83c3-741d7f691e6e",
   "metadata": {},
   "outputs": [
    {
     "name": "stdout",
     "output_type": "stream",
     "text": [
      "Model: \"model_1\"\n",
      "__________________________________________________________________________________________________\n",
      "Layer (type)                    Output Shape         Param #     Connected to                     \n",
      "==================================================================================================\n",
      "input_2 (InputLayer)            [(None, 128, 128, 3) 0                                            \n",
      "__________________________________________________________________________________________________\n",
      "model (Functional)              [(None, 128, 128, 64 7635264     input_2[0][0]                    \n",
      "__________________________________________________________________________________________________\n",
      "sequential (Sequential)         (None, 32, 32, 128)  590336      model[0][3]                      \n",
      "__________________________________________________________________________________________________\n",
      "concatenate (Concatenate)       (None, 32, 32, 384)  0           sequential[0][0]                 \n",
      "                                                                 model[0][2]                      \n",
      "__________________________________________________________________________________________________\n",
      "sequential_1 (Sequential)       (None, 64, 64, 64)   221440      concatenate[0][0]                \n",
      "__________________________________________________________________________________________________\n",
      "concatenate_1 (Concatenate)     (None, 64, 64, 192)  0           sequential_1[0][0]               \n",
      "                                                                 model[0][1]                      \n",
      "__________________________________________________________________________________________________\n",
      "conv2d_transpose_2 (Conv2DTrans (None, 128, 128, 4)  6916        concatenate_1[0][0]              \n",
      "==================================================================================================\n",
      "Total params: 8,453,956\n",
      "Trainable params: 818,308\n",
      "Non-trainable params: 7,635,648\n",
      "__________________________________________________________________________________________________\n"
     ]
    }
   ],
   "source": [
    "usnet.summary()"
   ]
  },
  {
   "cell_type": "code",
   "execution_count": 31,
   "id": "adb19a01-1642-4b91-917a-8aff7380fa9f",
   "metadata": {},
   "outputs": [
    {
     "name": "stdout",
     "output_type": "stream",
     "text": [
      "('You must install pydot (`pip install pydot`) and install graphviz (see instructions at https://graphviz.gitlab.io/download/) ', 'for plot_model/model_to_dot to work.')\n"
     ]
    }
   ],
   "source": [
    "tf.keras.utils.plot_model(usnet)"
   ]
  },
  {
   "cell_type": "code",
   "execution_count": 23,
   "id": "a8a20f16-696b-48c9-8ed0-5198e4a65a7d",
   "metadata": {},
   "outputs": [
    {
     "name": "stdout",
     "output_type": "stream",
     "text": [
      "(128, 128, 1)\n"
     ]
    },
    {
     "name": "stderr",
     "output_type": "stream",
     "text": [
      "2022-03-04 15:00:24.738363: I tensorflow/stream_executor/cuda/cuda_dnn.cc:369] Loaded cuDNN version 8101\n",
      "2022-03-04 15:00:26.730828: I tensorflow/core/platform/default/subprocess.cc:304] Start cannot spawn child process: No such file or directory\n",
      "2022-03-04 15:00:26.732268: I tensorflow/core/platform/default/subprocess.cc:304] Start cannot spawn child process: No such file or directory\n",
      "2022-03-04 15:00:26.732324: W tensorflow/stream_executor/gpu/asm_compiler.cc:77] Couldn't get ptxas version string: Internal: Couldn't invoke ptxas --version\n",
      "2022-03-04 15:00:26.734069: I tensorflow/core/platform/default/subprocess.cc:304] Start cannot spawn child process: No such file or directory\n",
      "2022-03-04 15:00:26.734315: W tensorflow/stream_executor/gpu/redzone_allocator.cc:314] Internal: Failed to launch ptxas\n",
      "Relying on driver to perform ptx compilation. \n",
      "Modify $PATH to customize ptxas location.\n",
      "This message will be only logged once.\n"
     ]
    },
    {
     "data": {
      "image/png": "[encoded data removed]",
      "text/plain": [
       "<Figure size 1080x1080 with 3 Axes>"
      ]
     },
     "metadata": {
      "needs_background": "light"
     },
     "output_type": "display_data"
    }
   ],
   "source": [
    "def create_mask(pred_mask):\n",
    "    pred_mask = tf.argmax(pred_mask, axis=-1)\n",
    "    pred_mask = pred_mask[..., tf.newaxis]\n",
    "    return pred_mask[0]\n",
    "\n",
    "def show_predictions(dataset=None, num=1):\n",
    "    if dataset:\n",
    "        for image, mask in dataset.take(num):\n",
    "            pred_mask = usnet.predict(image)\n",
    "            display([image[0], mask[0], create_mask(pred_mask)])\n",
    "    else:\n",
    "        print(masks.shape)\n",
    "        display([images, masks,\n",
    "                 create_mask(usnet.predict(images[tf.newaxis, ...]))])\n",
    "    \n",
    "show_predictions()"
   ]
  },
  {
   "cell_type": "code",
   "execution_count": 36,
   "id": "9c833be5",
   "metadata": {},
   "outputs": [],
   "source": [
    "from IPython.display import clear_output\n",
    "\n",
    "class DisplayCallback(tf.keras.callbacks.Callback):\n",
    "    def __init__(self, dataset, model, ndisp=2,*args, **kwargs):\n",
    "        super(DisplayCallback).__init__(*args, **kwargs)\n",
    "        self.ndisp = ndisp\n",
    "        self.ds = dataset\n",
    "        self.model = model\n",
    "    def on_epoch_end(self, epoch, logs=None):\n",
    "        clear_output(wait=True)\n",
    "        fig, axes = plt.subplots(self.ndisp, 3)\n",
    "        counter = 0\n",
    "        for image_batch, mask_batch in self.ds.take(self.ndisp):\n",
    "            predict_mask_batch = self.model.predict(image_batch)\n",
    "\n",
    "            axes[counter][0].imshow(image_batch[0])\n",
    "            axes[counter][1].imshow(tf.argmax(mask_batch[0], axis=-1))\n",
    "            axes[counter][2].imshow(tf.argmax(predict_mask_batch[0], axis=-1))\n",
    "            counter += 1\n",
    "\n",
    "        fig.suptitle(f'Epoch: {epoch}')\n",
    "        plt.show()\n",
    "            "
   ]
  },
  {
   "cell_type": "code",
   "execution_count": null,
   "id": "f7b48b40-65a8-46ea-99b5-e9cff92c677e",
   "metadata": {},
   "outputs": [],
   "source": [
    "from tensorflow.keras.callbacks import TensorBoard\n",
    "\n",
    "\n",
    "tb = TensorBoard('logs/exp03')\n",
    "callbacks = [tb, DisplayCallback()]"
   ]
  },
  {
   "cell_type": "code",
   "execution_count": 34,
   "id": "aa74aa74-18b7-48b0-a8fc-9a5c24d86cc6",
   "metadata": {},
   "outputs": [
    {
     "name": "stdout",
     "output_type": "stream",
     "text": [
      "(128, 128, 1)\n"
     ]
    },
    {
     "data": {
      "image/png": "[encoded data removed]",
      "text/plain": [
       "<Figure size 1080x1080 with 3 Axes>"
      ]
     },
     "metadata": {
      "needs_background": "light"
     },
     "output_type": "display_data"
    },
    {
     "name": "stdout",
     "output_type": "stream",
     "text": [
      "\n",
      "Sample Prediction after epoch 100\n",
      "\n"
     ]
    }
   ],
   "source": [
    "EPOCHS = 100\n",
    "\n",
    "model_history = usnet.fit(train_ds, epochs=EPOCHS,\n",
    "                          callbacks=callbacks, validation_data = validation_ds)"
   ]
  },
  {
   "cell_type": "code",
   "execution_count": 35,
   "id": "2e05e089-2a81-4885-be87-41018b434028",
   "metadata": {},
   "outputs": [
    {
     "name": "stderr",
     "output_type": "stream",
     "text": [
      "2022-03-03 19:01:09.244286: W tensorflow/python/util/util.cc:348] Sets are not currently considered sequences, but this may change in the future, so consider avoiding using them.\n"
     ]
    },
    {
     "name": "stdout",
     "output_type": "stream",
     "text": [
      "INFO:tensorflow:Assets written to: usnet03/assets\n"
     ]
    }
   ],
   "source": [
    "usnet.save('usnet03')"
   ]
  },
  {
   "cell_type": "code",
   "execution_count": 30,
   "id": "7aa09f60-f539-44dd-af36-a3c3be271945",
   "metadata": {},
   "outputs": [],
   "source": [
    "\n",
    "def read_raw_image(image_path, target_size=(128, 128)):\n",
    "    imgfile = tf.io.read_file(image_path)\n",
    "    img_fileadd = tf.strings.split(image_path, '.')[0]\n",
    "    mhd_fileadd = tf.strings.join([img_fileadd, '.mhd'])\n",
    "    img_dims = read_mhd_data(mhd_fileadd)\n",
    "    def correct_dims(dims):\n",
    "        dims_correct = [dims[1], dims[0], dims[2]]\n",
    "        dims_correct = tf.stack(dims_correct, axis=0)\n",
    "        return dims_correct\n",
    "    imgbytes = tf.io.decode_raw(imgfile, out_type=tf.uint8)\n",
    "    img = tf.reshape(imgbytes, correct_dims(img_dims))\n",
    "    img = tf.cast(img, tf.float32)\n",
    "    img = (img - tf.math.reduce_min(img))/(tf.math.reduce_max(img) - tf.math.reduce_min(img))\n",
    "    if target_size:\n",
    "        img = tf.image.resize(img, target_size, method=tf.image.ResizeMethod.NEAREST_NEIGHBOR)\n",
    "    img = tf.repeat(img, 3, axis=2)\n",
    "    return img\n",
    "\n",
    "\n",
    "\n",
    "def read_mask_image(image_path, target_size=(128, 128)):\n",
    "    imgfile = tf.io.read_file(image_path)\n",
    "    img_fileadd = tf.strings.split(image_path, '.')[0]\n",
    "    mhd_fileadd = tf.strings.join([img_fileadd, '.mhd'])\n",
    "    img_dims = read_mhd_data(mhd_fileadd)\n",
    "    def correct_dims(dims):\n",
    "        dims_correct = [dims[1], dims[0], dims[2]]\n",
    "        dims_correct = tf.stack(dims_correct, axis=0)\n",
    "        return dims_correct\n",
    "    imgbytes = tf.io.decode_raw(imgfile, out_type=tf.uint8)\n",
    "    img = tf.reshape(imgbytes, correct_dims(img_dims))\n",
    "    img = tf.cast(img, tf.float32)\n",
    "    if target_size:\n",
    "        img = tf.image.resize(img, target_size, method=tf.image.ResizeMethod.NEAREST_NEIGHBOR)\n",
    "    return img\n",
    "\n",
    "\n",
    "\n",
    "def read_mhd_data(mhd_address):\n",
    "    file_metadata_string = tf.io.read_file(mhd_address)\n",
    "    print(file_metadata_string)\n",
    "    # Complete this function later\n",
    "    \n",
    "\n",
    "def read_image_and_mask(input_address, target_size=None):\n",
    "    image = read_raw_image(input_address, target_size=target_size)\n",
    "    mask_fileadd = tf.strings.split(input_address, '.')[0]\n",
    "    mask_fileadd = tf.strings.join([mask_fileadd, '_gt.raw'])\n",
    "    mask_fileadd = tf.squeeze(mask_fileadd)\n",
    "    mask = read_mask_image(mask_fileadd, target_size=target_size)\n",
    "    return (image, mask)\n",
    "\n",
    "\n",
    "def read_mhd_data(mhd_address):\n",
    "    mhd_data_file = tf.io.read_file(mhd_address)\n",
    "    mhd_lines = tf.strings.split(mhd_data_file, '\\n')\n",
    "    mhd_lines = tf.strings.split(mhd_lines, ' = ')\n",
    "    dimsize = mhd_lines[10][1]\n",
    "    dimsize = tf.strings.split(dimsize, ' ')\n",
    "    dimsize = tf.boolean_mask(dimsize, mask=tf.math.logical_not(tf.math.equal(dimsize, b'')))\n",
    "    #dimsize_new = tf.map_fn(tf.strings.to_number, dimsize)\n",
    "    dimsize = tf.strings.to_number(dimsize)\n",
    "    dimsize = tf.cast(dimsize, tf.int32)\n",
    "    #element_number_of_channels = tf.strings.to_number(mhd_lines[11][1])\n",
    "    return dimsize"
   ]
  },
  {
   "cell_type": "markdown",
   "id": "f64fadf0-c909-4f78-a9f1-b288544f417d",
   "metadata": {},
   "source": [
    "### Analyze model\n",
    "\n",
    "Now let's analyze our model. In order to do so, we will plot and see model performance, data by data and save them."
   ]
  },
  {
   "cell_type": "code",
   "execution_count": 25,
   "id": "4a1f50ec-f56f-45d6-81fa-6fa30b3b480d",
   "metadata": {},
   "outputs": [
    {
     "name": "stderr",
     "output_type": "stream",
     "text": [
      "100% (1600 of 1600) |####################| Elapsed Time: 0:16:52 Time:  0:16:52\n"
     ]
    }
   ],
   "source": [
    "path_structure = path.join(TRAIN_DATASET_PATH, r'*/*.raw')\n",
    "file_paths = glob(path_structure)\n",
    "train_images = list(filter(isimage, file_paths))\n",
    "train_images\n",
    "\n",
    "\n",
    "test_dice = DiceCoefficient(class_id=1, name = 'dice_class_1')\n",
    "\n",
    "\n",
    "with progressbar.ProgressBar(max_value=len(train_images)) as bar:\n",
    "    for step, image_file in enumerate(train_images):\n",
    "        test_dice.reset_state()\n",
    "        image, mask = read_image_and_mask(image_file)\n",
    "        name = path.basename(image_file).split('.')[0]\n",
    "        model_output = usnet.predict(image[tf.newaxis, ...])\n",
    "        test_dice.update_state(mask, model_output)\n",
    "        pred_mask = create_mask(model_output)\n",
    "        plt.figure(figsize=(9, 6), dpi=300)\n",
    "        plt.subplot(1, 3, 1)\n",
    "        plt.imshow(image)\n",
    "        plt.xticks([])\n",
    "        plt.yticks([])\n",
    "        plt.subplot(1, 3, 2)\n",
    "        plt.xticks([])\n",
    "        plt.yticks([]) \n",
    "        plt.imshow(image)\n",
    "        plt.imshow(mask, alpha=0.3)\n",
    "        plt.subplot(1, 3, 3)\n",
    "        plt.imshow(image)\n",
    "        plt.imshow(pred_mask, alpha=0.3)\n",
    "        plt.xticks([])\n",
    "        plt.yticks([])\n",
    "        plt.title(f'dice lv = {test_dice.result().numpy()}')\n",
    "        plt.savefig(path.join('train_images', name+'.jpg'))\n",
    "        plt.close()\n",
    "        bar.update(step)"
   ]
  },
  {
   "cell_type": "code",
   "execution_count": null,
   "id": "3640f0d5-64d8-400a-b1bc-bd4d6c58df64",
   "metadata": {},
   "outputs": [],
   "source": [
    "!tar -cvf train_images.tar train_images/"
   ]
  },
  {
   "cell_type": "code",
   "execution_count": 28,
   "id": "7ebcb413-b730-4d4c-92a6-5241acafa60e",
   "metadata": {},
   "outputs": [
    {
     "name": "stderr",
     "output_type": "stream",
     "text": [
      "100% (200 of 200) |######################| Elapsed Time: 0:02:38 Time:  0:02:38\n"
     ]
    }
   ],
   "source": [
    "path_structure = path.join(VALIDATION_DATASET_PATH, r'*/*.raw')\n",
    "file_paths = glob(path_structure)\n",
    "valid_images = list(filter(isimage, file_paths))\n",
    "valid_images\n",
    "\n",
    "\n",
    "test_dice = DiceCoefficient(class_id=1, name = 'dice_class_1')\n",
    "\n",
    "\n",
    "with progressbar.ProgressBar(max_value=len(valid_images)) as bar:\n",
    "    for step, image_file in enumerate(valid_images):\n",
    "        test_dice.reset_state()\n",
    "        image, mask = read_image_and_mask(image_file)\n",
    "        name = path.basename(image_file).split('.')[0]\n",
    "        model_output = model.predict(image[tf.newaxis, ...])\n",
    "        test_dice.update_state(mask, model_output)\n",
    "        pred_mask = create_mask(model_output)\n",
    "        plt.figure(figsize=(9, 6), dpi=300)\n",
    "        plt.subplot(1, 3, 1)\n",
    "        plt.imshow(image)\n",
    "        plt.xticks([])\n",
    "        plt.yticks([])\n",
    "        plt.subplot(1, 3, 2)\n",
    "        plt.xticks([])\n",
    "        plt.yticks([]) \n",
    "        plt.imshow(image)\n",
    "        plt.imshow(mask, alpha=0.3)\n",
    "        plt.subplot(1, 3, 3)\n",
    "        plt.imshow(image)\n",
    "        plt.imshow(pred_mask, alpha=0.3)\n",
    "        plt.xticks([])\n",
    "        plt.yticks([])\n",
    "        plt.title(f'dice lv = {test_dice.result().numpy()}')\n",
    "        plt.savefig(path.join('valid_images', name+'.jpg'))\n",
    "        plt.close()\n",
    "        bar.update(step)"
   ]
  },
  {
   "cell_type": "code",
   "execution_count": null,
   "id": "3b559e34-f5b5-4fcc-84af-9d9df08bc90e",
   "metadata": {},
   "outputs": [],
   "source": [
    "!tar -cvf valid_images.tar valid_images/"
   ]
  },
  {
   "cell_type": "code",
   "execution_count": null,
   "id": "1ded3e27-acee-41e2-bc3a-56adac33a1cd",
   "metadata": {},
   "outputs": [],
   "source": [
    "with progressbar.ProgressBar(max_value=len(valid_images)) as bar:\n",
    "    for step, image_file in enumerate(valid_images):\n",
    "        test_dice.reset_state()\n",
    "        image, mask = read_image_and_mask(image_file, target_size=(128, 128))\n",
    "        name = path.basename(image_file).split('.')[0]\n",
    "        model_output = model.predict(image[tf.newaxis, ...])\n",
    "        test_dice.update_state(mask, model_output)\n",
    "        if test_dice.result().numpy()<0.7:\n",
    "            image, mask = read_image_and_mask(image_file)\n",
    "            plt.figure(dpi=300)\n",
    "            plt.imshow(image)\n",
    "            plt.xticks([])\n",
    "            plt.yticks([])\n",
    "            plt.savefig(path.join('low_dice_images', name+'.png'))\n",
    "        bar.update(step)"
   ]
  },
  {
   "cell_type": "code",
   "execution_count": null,
   "id": "1ac62903-1e18-4665-9cd0-4f05758cdde8",
   "metadata": {},
   "outputs": [],
   "source": [
    "!tar -cvf low_dice_images.tar low_dice_images/"
   ]
  },
  {
   "cell_type": "code",
   "execution_count": null,
   "id": "9baaedc5-4acc-424a-962f-86de369813b3",
   "metadata": {},
   "outputs": [],
   "source": [
    "!tar -cvf logs.tar logs/"
   ]
  },
  {
   "cell_type": "code",
   "execution_count": null,
   "id": "404d9c24-420c-412b-a2fa-f9bbd3bfe09a",
   "metadata": {},
   "outputs": [],
   "source": [
    "!tar -cvf usnet03.tar usnet03/"
   ]
  },
  {
   "cell_type": "markdown",
   "id": "2ce85c90-951a-4a1a-88c9-96bda5e1ac4c",
   "metadata": {},
   "source": [
    "## Add Auto-Encoder\n",
    "\n",
    "\n",
    "In this part we will create an auto-encoder and add it's loss as a regularization term to our network"
   ]
  },
  {
   "cell_type": "code",
   "execution_count": 26,
   "id": "739e9705-63c3-4a45-b720-c6f68adf88ac",
   "metadata": {},
   "outputs": [
    {
     "name": "stdout",
     "output_type": "stream",
     "text": [
      "Model: \"model_3\"\n",
      "_________________________________________________________________\n",
      "Layer (type)                 Output Shape              Param #   \n",
      "=================================================================\n",
      "label_map_in (InputLayer)    [(None, 128, 128, 4)]     0         \n",
      "_________________________________________________________________\n",
      "conv2d_6 (Conv2D)            (None, 128, 128, 4)       148       \n",
      "_________________________________________________________________\n",
      "max_pooling2d_3 (MaxPooling2 (None, 64, 64, 4)         0         \n",
      "_________________________________________________________________\n",
      "conv2d_7 (Conv2D)            (None, 64, 64, 8)         296       \n",
      "_________________________________________________________________\n",
      "max_pooling2d_4 (MaxPooling2 (None, 32, 32, 8)         0         \n",
      "_________________________________________________________________\n",
      "conv2d_8 (Conv2D)            (None, 32, 32, 16)        1168      \n",
      "_________________________________________________________________\n",
      "max_pooling2d_5 (MaxPooling2 (None, 16, 16, 16)        0         \n",
      "_________________________________________________________________\n",
      "flatten_1 (Flatten)          (None, 4096)              0         \n",
      "_________________________________________________________________\n",
      "dense_2 (Dense)              (None, 64)                262208    \n",
      "=================================================================\n",
      "Total params: 263,820\n",
      "Trainable params: 263,820\n",
      "Non-trainable params: 0\n",
      "_________________________________________________________________\n"
     ]
    }
   ],
   "source": [
    "from tensorflow.keras.layers import Input, Conv2D, MaxPool2D, Flatten, Dense\n",
    "from tensorflow.keras.models import Model\n",
    "\n",
    "def build_encoder(output_dim=64, input_dim=(128, 128, 4)):\n",
    "    label_map = Input(input_dim, name='label_map_in')\n",
    "    e = Conv2D(4, 3, activation='relu', padding='same')(label_map)\n",
    "    e = MaxPool2D(2)(e)\n",
    "    e = Conv2D(8, 3, activation='relu', padding='same')(e)\n",
    "    e = MaxPool2D(2)(e)\n",
    "    e = Conv2D(16, 3, activation='relu', padding='same')(e)\n",
    "    e = MaxPool2D(2)(e)\n",
    "    e = Flatten()(e)\n",
    "    codes = Dense(64, activation='sigmoid')(e)\n",
    "    return Model(inputs=label_map, outputs=codes)\n",
    "\n",
    "encoder = build_encoder()\n",
    "encoder.summary()\n",
    "    "
   ]
  },
  {
   "cell_type": "code",
   "execution_count": 27,
   "id": "04263585-6978-43e1-90fe-3d4133b7a68a",
   "metadata": {},
   "outputs": [
    {
     "name": "stdout",
     "output_type": "stream",
     "text": [
      "Model: \"model_4\"\n",
      "_________________________________________________________________\n",
      "Layer (type)                 Output Shape              Param #   \n",
      "=================================================================\n",
      "input_3 (InputLayer)         [(None, 64)]              0         \n",
      "_________________________________________________________________\n",
      "dense_3 (Dense)              (None, 4096)              266240    \n",
      "_________________________________________________________________\n",
      "reshape_1 (Reshape)          (None, 16, 16, 16)        0         \n",
      "_________________________________________________________________\n",
      "up_sampling2d_3 (UpSampling2 (None, 32, 32, 16)        0         \n",
      "_________________________________________________________________\n",
      "conv2d_9 (Conv2D)            (None, 32, 32, 16)        1040      \n",
      "_________________________________________________________________\n",
      "up_sampling2d_4 (UpSampling2 (None, 64, 64, 16)        0         \n",
      "_________________________________________________________________\n",
      "conv2d_10 (Conv2D)           (None, 64, 64, 8)         520       \n",
      "_________________________________________________________________\n",
      "up_sampling2d_5 (UpSampling2 (None, 128, 128, 8)       0         \n",
      "_________________________________________________________________\n",
      "conv2d_11 (Conv2D)           (None, 128, 128, 4)       132       \n",
      "=================================================================\n",
      "Total params: 267,932\n",
      "Trainable params: 267,932\n",
      "Non-trainable params: 0\n",
      "_________________________________________________________________\n"
     ]
    }
   ],
   "source": [
    "from tensorflow.keras.layers import Conv2DTranspose, Reshape, UpSampling2D\n",
    "\n",
    "def build_decoder(input_dims=64):\n",
    "    codes = Input(input_dims)\n",
    "    d = Dense(16*16*16, activation='relu')(codes)\n",
    "    d = Reshape((16, 16, 16))(d)\n",
    "    d = UpSampling2D((2, 2))(d)\n",
    "    d = Conv2D(16, 2, padding='same')(d)\n",
    "    d = UpSampling2D((2, 2))(d)\n",
    "    d = Conv2D(8, 2, padding='same')(d)\n",
    "    d = UpSampling2D((2, 2))(d)\n",
    "    d = Conv2D(4, 2, padding='same')(d)\n",
    "    return Model(inputs=codes, outputs=d)\n",
    "\n",
    "decoder = build_decoder()\n",
    "decoder.summary()"
   ]
  },
  {
   "cell_type": "code",
   "execution_count": 28,
   "id": "b3e3bef7-9c30-4f45-a88e-043464703c00",
   "metadata": {},
   "outputs": [
    {
     "name": "stdout",
     "output_type": "stream",
     "text": [
      "Model: \"model_5\"\n",
      "_________________________________________________________________\n",
      "Layer (type)                 Output Shape              Param #   \n",
      "=================================================================\n",
      "input_4 (InputLayer)         [(None, 128, 128, 4)]     0         \n",
      "_________________________________________________________________\n",
      "model_3 (Functional)         (None, 64)                263820    \n",
      "_________________________________________________________________\n",
      "model_4 (Functional)         (None, 128, 128, 4)       267932    \n",
      "=================================================================\n",
      "Total params: 531,752\n",
      "Trainable params: 531,752\n",
      "Non-trainable params: 0\n",
      "_________________________________________________________________\n"
     ]
    }
   ],
   "source": [
    "ae_input = Input((128, 128, 4))\n",
    "codes = encoder(ae_input)\n",
    "rconst = decoder(codes)\n",
    "ae_model = Model(inputs = ae_input, outputs=rconst)\n",
    "ae_model.summary()\n"
   ]
  },
  {
   "cell_type": "code",
   "execution_count": 39,
   "id": "1c19eb9f",
   "metadata": {},
   "outputs": [],
   "source": [
    "from IPython.display import clear_output\n",
    "\n",
    "class DisplayCallback2(tf.keras.callbacks.Callback):\n",
    "    def __init__(self, dataset, model, ndisp=2,*args, **kwargs):\n",
    "        super(DisplayCallback).__init__(*args, **kwargs)\n",
    "        self.ndisp = ndisp\n",
    "        self.ds = dataset\n",
    "        self.model = model\n",
    "    def on_epoch_end(self, epoch, logs=None):\n",
    "        clear_output(wait=True)\n",
    "        fig, axes = plt.subplots(self.ndisp, 3)\n",
    "        counter = 0\n",
    "        for image_batch, mask_batch in self.ds.take(self.ndisp):\n",
    "            predict_mask_batch = self.model.predict(image_batch)\n",
    "\n",
    "            axes[counter][0].imshow(tf.argmax(image_batch[0], axis=-1))\n",
    "            axes[counter][1].imshow(tf.argmax(mask_batch[0], axis=-1))\n",
    "            axes[counter][2].imshow(tf.argmax(predict_mask_batch[0], axis=-1))\n",
    "            counter += 1\n",
    "\n",
    "        fig.suptitle(f'Epoch: {epoch}')\n",
    "        plt.show()"
   ]
  },
  {
   "cell_type": "code",
   "execution_count": 40,
   "id": "6e6641f2",
   "metadata": {},
   "outputs": [
    {
     "data": {
      "image/png": "[encoded data removed]",
      "text/plain": [
       "<Figure size 432x288 with 6 Axes>"
      ]
     },
     "metadata": {
      "needs_background": "light"
     },
     "output_type": "display_data"
    },
    {
     "data": {
      "text/plain": [
       "<tensorflow.python.keras.callbacks.History at 0x21a1ec5d940>"
      ]
     },
     "execution_count": 40,
     "metadata": {},
     "output_type": "execute_result"
    }
   ],
   "source": [
    "callbacks = [DisplayCallback2(model=ae_model, dataset=validation_autoencoder_ds)]\n",
    "\n",
    "ae_model.compile(loss = tf.keras.losses.MeanAbsoluteError(), optimizer='adam')\n",
    "ae_model.fit(train_autoencoder_ds, epochs=100, validation_data=validation_autoencoder_ds, callbacks=callbacks)"
   ]
  },
  {
   "cell_type": "code",
   "execution_count": 30,
   "id": "12828c62",
   "metadata": {},
   "outputs": [
    {
     "data": {
      "image/png": "[encoded data removed]",
      "text/plain": [
       "<Figure size 432x288 with 2 Axes>"
      ]
     },
     "metadata": {
      "needs_background": "light"
     },
     "output_type": "display_data"
    }
   ],
   "source": [
    "for image_in, image_tar in train_autoencoder_ds.take(1):\n",
    "    preds = ae_model.predict(image_in)\n",
    "    plt.figure()\n",
    "    plt.subplot(1, 2, 1)\n",
    "    plt.imshow(tf.argmax(image_tar[2], axis=-1))\n",
    "    plt.subplot(1, 2, 2)\n",
    "    plt.imshow(tf.argmax(preds[2], axis=-1))\n",
    "    plt.show()"
   ]
  }
 ],
 "metadata": {
  "kernelspec": {
   "display_name": "Python 3 (ipykernel)",
   "language": "python",
   "name": "python3"
  },
  "language_info": {
   "codemirror_mode": {
    "name": "ipython",
    "version": 3
   },
   "file_extension": ".py",
   "mimetype": "text/x-python",
   "name": "python",
   "nbconvert_exporter": "python",
   "pygments_lexer": "ipython3",
   "version": "3.8.9"
  }
 },
 "nbformat": 4,
 "nbformat_minor": 5
}
