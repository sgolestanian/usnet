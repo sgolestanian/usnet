{
 "cells": [
  {
   "cell_type": "markdown",
   "id": "475f9bfc-5ff6-41f0-ae9c-1b507fa01db1",
   "metadata": {},
   "source": [
    "# US-Net"
   ]
  },
  {
   "cell_type": "markdown",
   "id": "a994cc27-eaa6-46bb-92cb-6e67e46fea62",
   "metadata": {
    "tags": []
   },
   "source": [
    "## Camus Dataset\n",
    "\n",
    "### Patients\n",
    "\n",
    "Lets first analyze dataset by reading Info files"
   ]
  },
  {
   "cell_type": "code",
   "execution_count": 50,
   "id": "d62b3582",
   "metadata": {},
   "outputs": [
    {
     "data": {
      "text/plain": [
       "{'ed': 1.0,\n",
       " 'es': 18.0,\n",
       " 'nframe': 18,\n",
       " 'sex': 'F',\n",
       " 'age': 56,\n",
       " 'image_quality': 'Good',\n",
       " 'lvedv': 94.0,\n",
       " 'lvesv': 34.6,\n",
       " 'lvef': 63.2,\n",
       " 'view': '2CH'}"
      ]
     },
     "execution_count": 50,
     "metadata": {},
     "output_type": "execute_result"
    }
   ],
   "source": [
    "from os import path\n",
    "\n",
    "def read_info(patient, view = '2CH'):\n",
    "    info_file_name = 'Info_'+view+'.cfg'\n",
    "    info_file_path = path.join(patient, info_file_name)\n",
    "    \n",
    "    def remove_newline(line):\n",
    "        return line[:-1]\n",
    "    \n",
    "    def keyvalue_pair(data):\n",
    "        [key, value_str] = data.split(':')\n",
    "        value_str = value_str.strip()\n",
    "        return [key, value_str]\n",
    "    \n",
    "    with open(info_file_path, 'r') as file:\n",
    "        patient_data = dict()\n",
    "        info_string = file.readlines()\n",
    "        info_string = list(map(remove_newline, info_string))\n",
    "        info = list(map(keyvalue_pair, info_string))\n",
    "        patient_data.update({'ed':float(info[0][1])})\n",
    "        patient_data.update({'es':float(info[1][1])})\n",
    "        patient_data.update({'nframe':int(info[2][1])})\n",
    "        patient_data.update({'sex':info[3][1]})\n",
    "        patient_data.update({'age':int(info[4][1])})\n",
    "        patient_data.update({'image_quality':info[5][1]})\n",
    "        patient_data.update({'lvedv':float(info[6][1])})\n",
    "        patient_data.update({'lvesv':float(info[7][1])})\n",
    "        patient_data.update({'lvef':float(info[8][1])})\n",
    "        patient_data.update({'view':view})\n",
    "        \n",
    "        \n",
    "    return patient_data"
   ]
  },
  {
   "cell_type": "code",
   "execution_count": 51,
   "id": "f920f5aa",
   "metadata": {},
   "outputs": [
    {
     "data": {
      "text/html": [
       "<div>\n",
       "<style scoped>\n",
       "    .dataframe tbody tr th:only-of-type {\n",
       "        vertical-align: middle;\n",
       "    }\n",
       "\n",
       "    .dataframe tbody tr th {\n",
       "        vertical-align: top;\n",
       "    }\n",
       "\n",
       "    .dataframe thead th {\n",
       "        text-align: right;\n",
       "    }\n",
       "</style>\n",
       "<table border=\"1\" class=\"dataframe\">\n",
       "  <thead>\n",
       "    <tr style=\"text-align: right;\">\n",
       "      <th></th>\n",
       "      <th>ed</th>\n",
       "      <th>es</th>\n",
       "      <th>nframe</th>\n",
       "      <th>sex</th>\n",
       "      <th>age</th>\n",
       "      <th>image_quality</th>\n",
       "      <th>lvedv</th>\n",
       "      <th>lvesv</th>\n",
       "      <th>lvef</th>\n",
       "      <th>view</th>\n",
       "    </tr>\n",
       "  </thead>\n",
       "  <tbody>\n",
       "    <tr>\n",
       "      <th>0</th>\n",
       "      <td>1.0</td>\n",
       "      <td>18.0</td>\n",
       "      <td>18</td>\n",
       "      <td>F</td>\n",
       "      <td>56</td>\n",
       "      <td>Good</td>\n",
       "      <td>94.0</td>\n",
       "      <td>34.6</td>\n",
       "      <td>63.2</td>\n",
       "      <td>2CH</td>\n",
       "    </tr>\n",
       "    <tr>\n",
       "      <th>1</th>\n",
       "      <td>1.0</td>\n",
       "      <td>20.0</td>\n",
       "      <td>20</td>\n",
       "      <td>F</td>\n",
       "      <td>56</td>\n",
       "      <td>Good</td>\n",
       "      <td>94.0</td>\n",
       "      <td>34.6</td>\n",
       "      <td>63.2</td>\n",
       "      <td>4CH</td>\n",
       "    </tr>\n",
       "    <tr>\n",
       "      <th>2</th>\n",
       "      <td>1.0</td>\n",
       "      <td>17.0</td>\n",
       "      <td>17</td>\n",
       "      <td>M</td>\n",
       "      <td>55</td>\n",
       "      <td>Medium</td>\n",
       "      <td>119.1</td>\n",
       "      <td>60.3</td>\n",
       "      <td>49.4</td>\n",
       "      <td>2CH</td>\n",
       "    </tr>\n",
       "    <tr>\n",
       "      <th>3</th>\n",
       "      <td>1.0</td>\n",
       "      <td>15.0</td>\n",
       "      <td>15</td>\n",
       "      <td>M</td>\n",
       "      <td>55</td>\n",
       "      <td>Medium</td>\n",
       "      <td>119.1</td>\n",
       "      <td>60.3</td>\n",
       "      <td>49.4</td>\n",
       "      <td>4CH</td>\n",
       "    </tr>\n",
       "    <tr>\n",
       "      <th>4</th>\n",
       "      <td>1.0</td>\n",
       "      <td>17.0</td>\n",
       "      <td>17</td>\n",
       "      <td>F</td>\n",
       "      <td>36</td>\n",
       "      <td>Good</td>\n",
       "      <td>105.7</td>\n",
       "      <td>47.1</td>\n",
       "      <td>55.4</td>\n",
       "      <td>2CH</td>\n",
       "    </tr>\n",
       "    <tr>\n",
       "      <th>...</th>\n",
       "      <td>...</td>\n",
       "      <td>...</td>\n",
       "      <td>...</td>\n",
       "      <td>...</td>\n",
       "      <td>...</td>\n",
       "      <td>...</td>\n",
       "      <td>...</td>\n",
       "      <td>...</td>\n",
       "      <td>...</td>\n",
       "      <td>...</td>\n",
       "    </tr>\n",
       "    <tr>\n",
       "      <th>895</th>\n",
       "      <td>1.0</td>\n",
       "      <td>18.0</td>\n",
       "      <td>18</td>\n",
       "      <td>F</td>\n",
       "      <td>57</td>\n",
       "      <td>Good</td>\n",
       "      <td>78.5</td>\n",
       "      <td>30.6</td>\n",
       "      <td>61.0</td>\n",
       "      <td>4CH</td>\n",
       "    </tr>\n",
       "    <tr>\n",
       "      <th>896</th>\n",
       "      <td>1.0</td>\n",
       "      <td>19.0</td>\n",
       "      <td>19</td>\n",
       "      <td>M</td>\n",
       "      <td>84</td>\n",
       "      <td>Poor</td>\n",
       "      <td>55.3</td>\n",
       "      <td>23.3</td>\n",
       "      <td>57.8</td>\n",
       "      <td>2CH</td>\n",
       "    </tr>\n",
       "    <tr>\n",
       "      <th>897</th>\n",
       "      <td>1.0</td>\n",
       "      <td>16.0</td>\n",
       "      <td>16</td>\n",
       "      <td>M</td>\n",
       "      <td>84</td>\n",
       "      <td>Medium</td>\n",
       "      <td>55.3</td>\n",
       "      <td>23.3</td>\n",
       "      <td>57.8</td>\n",
       "      <td>4CH</td>\n",
       "    </tr>\n",
       "    <tr>\n",
       "      <th>898</th>\n",
       "      <td>1.0</td>\n",
       "      <td>15.0</td>\n",
       "      <td>15</td>\n",
       "      <td>M</td>\n",
       "      <td>72</td>\n",
       "      <td>Good</td>\n",
       "      <td>126.1</td>\n",
       "      <td>76.5</td>\n",
       "      <td>39.4</td>\n",
       "      <td>2CH</td>\n",
       "    </tr>\n",
       "    <tr>\n",
       "      <th>899</th>\n",
       "      <td>1.0</td>\n",
       "      <td>18.0</td>\n",
       "      <td>18</td>\n",
       "      <td>M</td>\n",
       "      <td>72</td>\n",
       "      <td>Good</td>\n",
       "      <td>126.1</td>\n",
       "      <td>76.5</td>\n",
       "      <td>39.4</td>\n",
       "      <td>4CH</td>\n",
       "    </tr>\n",
       "  </tbody>\n",
       "</table>\n",
       "<p>900 rows × 10 columns</p>\n",
       "</div>"
      ],
      "text/plain": [
       "      ed    es  nframe sex  age image_quality  lvedv  lvesv  lvef view\n",
       "0    1.0  18.0      18   F   56          Good   94.0   34.6  63.2  2CH\n",
       "1    1.0  20.0      20   F   56          Good   94.0   34.6  63.2  4CH\n",
       "2    1.0  17.0      17   M   55        Medium  119.1   60.3  49.4  2CH\n",
       "3    1.0  15.0      15   M   55        Medium  119.1   60.3  49.4  4CH\n",
       "4    1.0  17.0      17   F   36          Good  105.7   47.1  55.4  2CH\n",
       "..   ...   ...     ...  ..  ...           ...    ...    ...   ...  ...\n",
       "895  1.0  18.0      18   F   57          Good   78.5   30.6  61.0  4CH\n",
       "896  1.0  19.0      19   M   84          Poor   55.3   23.3  57.8  2CH\n",
       "897  1.0  16.0      16   M   84        Medium   55.3   23.3  57.8  4CH\n",
       "898  1.0  15.0      15   M   72          Good  126.1   76.5  39.4  2CH\n",
       "899  1.0  18.0      18   M   72          Good  126.1   76.5  39.4  4CH\n",
       "\n",
       "[900 rows x 10 columns]"
      ]
     },
     "execution_count": 51,
     "metadata": {},
     "output_type": "execute_result"
    }
   ],
   "source": [
    "from glob import glob\n",
    "import pandas as pd\n",
    "\n",
    "patients = glob(r'D:\\Ultrasound Data\\training\\*')\n",
    "\n",
    "patient_db = list()\n",
    "for patient in patients:\n",
    "    patient_data = read_info(patient)\n",
    "    patient_db.append(patient_data)\n",
    "    patient_data = read_info(patient, view='4CH')\n",
    "    patient_db.append(patient_data)\n",
    "    \n",
    "patient_db = pd.DataFrame(patient_db)\n",
    "patient_db"
   ]
  },
  {
   "cell_type": "code",
   "execution_count": 52,
   "id": "3ec728c3",
   "metadata": {},
   "outputs": [
    {
     "data": {
      "text/plain": [
       "<seaborn.axisgrid.FacetGrid at 0x1a42d3c1820>"
      ]
     },
     "execution_count": 52,
     "metadata": {},
     "output_type": "execute_result"
    },
    {
     "data": {
      "image/png": "[encoded data removed]",
      "text/plain": [
       "<Figure size 416.75x360 with 1 Axes>"
      ]
     },
     "metadata": {
      "needs_background": "light"
     },
     "output_type": "display_data"
    }
   ],
   "source": [
    "import seaborn as sns\n",
    "\n",
    "sns.catplot(data=patient_db, x='image_quality', kind='count', hue='view')"
   ]
  },
  {
   "cell_type": "markdown",
   "id": "3c8499e8",
   "metadata": {},
   "source": [
    "## Prepare the data"
   ]
  },
  {
   "cell_type": "code",
   "execution_count": null,
   "id": "69b36f26",
   "metadata": {},
   "outputs": [],
   "source": []
  },
  {
   "cell_type": "markdown",
   "id": "0c38bc69",
   "metadata": {},
   "source": [
    "## Load data"
   ]
  },
  {
   "cell_type": "code",
   "execution_count": 3,
   "id": "290ff132-80eb-48fc-9b88-5797260b1447",
   "metadata": {},
   "outputs": [
    {
     "name": "stdout",
     "output_type": "stream",
     "text": [
      "Params(dataset_path='D:\\\\Ultrasound Data\\\\training', views='both')\n"
     ]
    }
   ],
   "source": [
    "import tensorflow as tf\n",
    "import tensorflow_io as tfio\n",
    "from params import params\n",
    "\n",
    "import matplotlib.pyplot as plt\n",
    "\n",
    "import cv2\n",
    "\n",
    "training_params = params.Params()\n",
    "print(training_params)"
   ]
  },
  {
   "cell_type": "code",
   "execution_count": 4,
   "id": "fa6a0185",
   "metadata": {},
   "outputs": [],
   "source": [
    "from glob import glob\n",
    "from os import path\n",
    "\n",
    "\n",
    "DATASET_PATH = r'D:\\Ultrasound Data\\training'\n",
    "\n",
    "\n",
    "def isimage(fileaddress):\n",
    "    filename = path.basename(fileaddress).split('.')[0]\n",
    "    if filename.endswith('gt') or filename.endswith('sequence'):\n",
    "        return False\n",
    "    else:\n",
    "        return True\n",
    "\n",
    "def is2ch_view(fileaddress):\n",
    "    filename = path.basename(fileaddress)\n",
    "    view = filename.split('_')[1]\n",
    "    if view=='2CH':\n",
    "        return True\n",
    "    else:\n",
    "        return False\n",
    "\n",
    "def issequence(fileaddress):\n",
    "    filename = path.basename(fileaddress).split('.')[0]\n",
    "    if filename.endswith('sequence'):\n",
    "        return True\n",
    "\n",
    "path_structure = path.join(training_params.dataset_path, r'*\\*.raw')\n",
    "all_file_paths = glob(path_structure)\n",
    "\n",
    "images = list(filter(isimage, all_file_paths))\n",
    "sequnces = list(filter(issequence, all_file_paths))"
   ]
  },
  {
   "cell_type": "markdown",
   "id": "0218e932",
   "metadata": {},
   "source": [
    "Now that we have our image files in place, let's make our dataset:"
   ]
  },
  {
   "cell_type": "code",
   "execution_count": 11,
   "id": "460a6e2a",
   "metadata": {},
   "outputs": [
    {
     "data": {
      "text/plain": [
       "<MapDataset shapes: ((778, 549), (778, 549)), types: (tf.float32, tf.float32)>"
      ]
     },
     "execution_count": 11,
     "metadata": {},
     "output_type": "execute_result"
    }
   ],
   "source": [
    "@tf.function\n",
    "def read_raw_image(image_path):\n",
    "    imgfile = tf.io.read_file(image_path)\n",
    "    imgbytes = tf.io.decode_raw(imgfile, out_type=tf.uint8)\n",
    "    print()\n",
    "    img = tf.reshape(imgbytes, (778, 549))\n",
    "    img = tf.cast(img, tf.float32)\n",
    "    return img\n",
    "\n",
    "\n",
    "@tf.function\n",
    "def read_mhd_data(mhd_address):\n",
    "    file_metadata_string = tf.io.read_file(mhd_address)\n",
    "    print(file_metadata_string)\n",
    "    # Complete this function later\n",
    "    \n",
    "@tf.function\n",
    "def read_image_and_mask(input_address):\n",
    "    image = read_raw_image(input_address)\n",
    "    mask_fileadd = tf.strings.split(input_address, '.')[0]\n",
    "    mask_fileadd = tf.strings.join([mask_fileadd, '_gt.raw'])\n",
    "    mask_fileadd = tf.squeeze(mask_fileadd)\n",
    "    mask = read_raw_image(mask_fileadd)\n",
    "    return (image, mask)\n",
    "\n",
    "@tf.function\n",
    "def read_mhd_data(mhd_address)\n",
    "\n",
    "inputfiles = tf.data.Dataset.from_tensor_slices(images)\n",
    "train_ds = inputfiles.map(read_image_and_mask)\n",
    "\n",
    "train_ds"
   ]
  },
  {
   "cell_type": "markdown",
   "id": "51c94a9d",
   "metadata": {},
   "source": [
    "Now let's take a look on some of our examples:"
   ]
  },
  {
   "cell_type": "code",
   "execution_count": 12,
   "id": "3b5fac1d",
   "metadata": {},
   "outputs": [
    {
     "ename": "InvalidArgumentError",
     "evalue": "2 root error(s) found.\n  (0) Invalid argument:  Input to reshape is a tensor with 872916 values, but the requested shape has 427122\n\t [[{{node PartitionedCall/Reshape}}]]\n\t [[StringSplit/RaggedGetItem/strided_slice_4/stack/_22]]\n  (1) Invalid argument:  Input to reshape is a tensor with 872916 values, but the requested shape has 427122\n\t [[{{node PartitionedCall/Reshape}}]]\n0 successful operations.\n0 derived errors ignored. [Op:__inference_read_image_and_mask_1536]\n\nFunction call stack:\nread_image_and_mask -> read_image_and_mask\n",
     "output_type": "error",
     "traceback": [
      "\u001b[1;31m---------------------------------------------------------------------------\u001b[0m",
      "\u001b[1;31mInvalidArgumentError\u001b[0m                      Traceback (most recent call last)",
      "Input \u001b[1;32mIn [12]\u001b[0m, in \u001b[0;36m<module>\u001b[1;34m\u001b[0m\n\u001b[0;32m      4\u001b[0m plot_counter \u001b[38;5;241m=\u001b[39m \u001b[38;5;241m0\u001b[39m\n\u001b[0;32m      6\u001b[0m \u001b[38;5;28;01mfor\u001b[39;00m something \u001b[38;5;129;01min\u001b[39;00m images:\n\u001b[1;32m----> 7\u001b[0m     \u001b[43mread_image_and_mask\u001b[49m\u001b[43m(\u001b[49m\u001b[43msomething\u001b[49m\u001b[43m)\u001b[49m\n",
      "File \u001b[1;32mc:\\users\\sepehr\\projects\\usnet\\usnet_venv\\lib\\site-packages\\tensorflow\\python\\eager\\def_function.py:828\u001b[0m, in \u001b[0;36mFunction.__call__\u001b[1;34m(self, *args, **kwds)\u001b[0m\n\u001b[0;32m    826\u001b[0m tracing_count \u001b[38;5;241m=\u001b[39m \u001b[38;5;28mself\u001b[39m\u001b[38;5;241m.\u001b[39mexperimental_get_tracing_count()\n\u001b[0;32m    827\u001b[0m \u001b[38;5;28;01mwith\u001b[39;00m trace\u001b[38;5;241m.\u001b[39mTrace(\u001b[38;5;28mself\u001b[39m\u001b[38;5;241m.\u001b[39m_name) \u001b[38;5;28;01mas\u001b[39;00m tm:\n\u001b[1;32m--> 828\u001b[0m   result \u001b[38;5;241m=\u001b[39m \u001b[38;5;28;43mself\u001b[39;49m\u001b[38;5;241;43m.\u001b[39;49m\u001b[43m_call\u001b[49m\u001b[43m(\u001b[49m\u001b[38;5;241;43m*\u001b[39;49m\u001b[43margs\u001b[49m\u001b[43m,\u001b[49m\u001b[43m \u001b[49m\u001b[38;5;241;43m*\u001b[39;49m\u001b[38;5;241;43m*\u001b[39;49m\u001b[43mkwds\u001b[49m\u001b[43m)\u001b[49m\n\u001b[0;32m    829\u001b[0m   compiler \u001b[38;5;241m=\u001b[39m \u001b[38;5;124m\"\u001b[39m\u001b[38;5;124mxla\u001b[39m\u001b[38;5;124m\"\u001b[39m \u001b[38;5;28;01mif\u001b[39;00m \u001b[38;5;28mself\u001b[39m\u001b[38;5;241m.\u001b[39m_experimental_compile \u001b[38;5;28;01melse\u001b[39;00m \u001b[38;5;124m\"\u001b[39m\u001b[38;5;124mnonXla\u001b[39m\u001b[38;5;124m\"\u001b[39m\n\u001b[0;32m    830\u001b[0m   new_tracing_count \u001b[38;5;241m=\u001b[39m \u001b[38;5;28mself\u001b[39m\u001b[38;5;241m.\u001b[39mexperimental_get_tracing_count()\n",
      "File \u001b[1;32mc:\\users\\sepehr\\projects\\usnet\\usnet_venv\\lib\\site-packages\\tensorflow\\python\\eager\\def_function.py:862\u001b[0m, in \u001b[0;36mFunction._call\u001b[1;34m(self, *args, **kwds)\u001b[0m\n\u001b[0;32m    859\u001b[0m \u001b[38;5;28mself\u001b[39m\u001b[38;5;241m.\u001b[39m_lock\u001b[38;5;241m.\u001b[39mrelease()\n\u001b[0;32m    860\u001b[0m \u001b[38;5;66;03m# In this case we have not created variables on the first call. So we can\u001b[39;00m\n\u001b[0;32m    861\u001b[0m \u001b[38;5;66;03m# run the first trace but we should fail if variables are created.\u001b[39;00m\n\u001b[1;32m--> 862\u001b[0m results \u001b[38;5;241m=\u001b[39m \u001b[38;5;28;43mself\u001b[39;49m\u001b[38;5;241;43m.\u001b[39;49m\u001b[43m_stateful_fn\u001b[49m\u001b[43m(\u001b[49m\u001b[38;5;241;43m*\u001b[39;49m\u001b[43margs\u001b[49m\u001b[43m,\u001b[49m\u001b[43m \u001b[49m\u001b[38;5;241;43m*\u001b[39;49m\u001b[38;5;241;43m*\u001b[39;49m\u001b[43mkwds\u001b[49m\u001b[43m)\u001b[49m\n\u001b[0;32m    863\u001b[0m \u001b[38;5;28;01mif\u001b[39;00m \u001b[38;5;28mself\u001b[39m\u001b[38;5;241m.\u001b[39m_created_variables:\n\u001b[0;32m    864\u001b[0m   \u001b[38;5;28;01mraise\u001b[39;00m \u001b[38;5;167;01mValueError\u001b[39;00m(\u001b[38;5;124m\"\u001b[39m\u001b[38;5;124mCreating variables on a non-first call to a function\u001b[39m\u001b[38;5;124m\"\u001b[39m\n\u001b[0;32m    865\u001b[0m                    \u001b[38;5;124m\"\u001b[39m\u001b[38;5;124m decorated with tf.function.\u001b[39m\u001b[38;5;124m\"\u001b[39m)\n",
      "File \u001b[1;32mc:\\users\\sepehr\\projects\\usnet\\usnet_venv\\lib\\site-packages\\tensorflow\\python\\eager\\function.py:2942\u001b[0m, in \u001b[0;36mFunction.__call__\u001b[1;34m(self, *args, **kwargs)\u001b[0m\n\u001b[0;32m   2939\u001b[0m \u001b[38;5;28;01mwith\u001b[39;00m \u001b[38;5;28mself\u001b[39m\u001b[38;5;241m.\u001b[39m_lock:\n\u001b[0;32m   2940\u001b[0m   (graph_function,\n\u001b[0;32m   2941\u001b[0m    filtered_flat_args) \u001b[38;5;241m=\u001b[39m \u001b[38;5;28mself\u001b[39m\u001b[38;5;241m.\u001b[39m_maybe_define_function(args, kwargs)\n\u001b[1;32m-> 2942\u001b[0m \u001b[38;5;28;01mreturn\u001b[39;00m \u001b[43mgraph_function\u001b[49m\u001b[38;5;241;43m.\u001b[39;49m\u001b[43m_call_flat\u001b[49m\u001b[43m(\u001b[49m\n\u001b[0;32m   2943\u001b[0m \u001b[43m    \u001b[49m\u001b[43mfiltered_flat_args\u001b[49m\u001b[43m,\u001b[49m\u001b[43m \u001b[49m\u001b[43mcaptured_inputs\u001b[49m\u001b[38;5;241;43m=\u001b[39;49m\u001b[43mgraph_function\u001b[49m\u001b[38;5;241;43m.\u001b[39;49m\u001b[43mcaptured_inputs\u001b[49m\u001b[43m)\u001b[49m\n",
      "File \u001b[1;32mc:\\users\\sepehr\\projects\\usnet\\usnet_venv\\lib\\site-packages\\tensorflow\\python\\eager\\function.py:1918\u001b[0m, in \u001b[0;36mConcreteFunction._call_flat\u001b[1;34m(self, args, captured_inputs, cancellation_manager)\u001b[0m\n\u001b[0;32m   1914\u001b[0m possible_gradient_type \u001b[38;5;241m=\u001b[39m gradients_util\u001b[38;5;241m.\u001b[39mPossibleTapeGradientTypes(args)\n\u001b[0;32m   1915\u001b[0m \u001b[38;5;28;01mif\u001b[39;00m (possible_gradient_type \u001b[38;5;241m==\u001b[39m gradients_util\u001b[38;5;241m.\u001b[39mPOSSIBLE_GRADIENT_TYPES_NONE\n\u001b[0;32m   1916\u001b[0m     \u001b[38;5;129;01mand\u001b[39;00m executing_eagerly):\n\u001b[0;32m   1917\u001b[0m   \u001b[38;5;66;03m# No tape is watching; skip to running the function.\u001b[39;00m\n\u001b[1;32m-> 1918\u001b[0m   \u001b[38;5;28;01mreturn\u001b[39;00m \u001b[38;5;28mself\u001b[39m\u001b[38;5;241m.\u001b[39m_build_call_outputs(\u001b[38;5;28;43mself\u001b[39;49m\u001b[38;5;241;43m.\u001b[39;49m\u001b[43m_inference_function\u001b[49m\u001b[38;5;241;43m.\u001b[39;49m\u001b[43mcall\u001b[49m\u001b[43m(\u001b[49m\n\u001b[0;32m   1919\u001b[0m \u001b[43m      \u001b[49m\u001b[43mctx\u001b[49m\u001b[43m,\u001b[49m\u001b[43m \u001b[49m\u001b[43margs\u001b[49m\u001b[43m,\u001b[49m\u001b[43m \u001b[49m\u001b[43mcancellation_manager\u001b[49m\u001b[38;5;241;43m=\u001b[39;49m\u001b[43mcancellation_manager\u001b[49m\u001b[43m)\u001b[49m)\n\u001b[0;32m   1920\u001b[0m forward_backward \u001b[38;5;241m=\u001b[39m \u001b[38;5;28mself\u001b[39m\u001b[38;5;241m.\u001b[39m_select_forward_and_backward_functions(\n\u001b[0;32m   1921\u001b[0m     args,\n\u001b[0;32m   1922\u001b[0m     possible_gradient_type,\n\u001b[0;32m   1923\u001b[0m     executing_eagerly)\n\u001b[0;32m   1924\u001b[0m forward_function, args_with_tangents \u001b[38;5;241m=\u001b[39m forward_backward\u001b[38;5;241m.\u001b[39mforward()\n",
      "File \u001b[1;32mc:\\users\\sepehr\\projects\\usnet\\usnet_venv\\lib\\site-packages\\tensorflow\\python\\eager\\function.py:555\u001b[0m, in \u001b[0;36m_EagerDefinedFunction.call\u001b[1;34m(self, ctx, args, cancellation_manager)\u001b[0m\n\u001b[0;32m    553\u001b[0m \u001b[38;5;28;01mwith\u001b[39;00m _InterpolateFunctionError(\u001b[38;5;28mself\u001b[39m):\n\u001b[0;32m    554\u001b[0m   \u001b[38;5;28;01mif\u001b[39;00m cancellation_manager \u001b[38;5;129;01mis\u001b[39;00m \u001b[38;5;28;01mNone\u001b[39;00m:\n\u001b[1;32m--> 555\u001b[0m     outputs \u001b[38;5;241m=\u001b[39m \u001b[43mexecute\u001b[49m\u001b[38;5;241;43m.\u001b[39;49m\u001b[43mexecute\u001b[49m\u001b[43m(\u001b[49m\n\u001b[0;32m    556\u001b[0m \u001b[43m        \u001b[49m\u001b[38;5;28;43mstr\u001b[39;49m\u001b[43m(\u001b[49m\u001b[38;5;28;43mself\u001b[39;49m\u001b[38;5;241;43m.\u001b[39;49m\u001b[43msignature\u001b[49m\u001b[38;5;241;43m.\u001b[39;49m\u001b[43mname\u001b[49m\u001b[43m)\u001b[49m\u001b[43m,\u001b[49m\n\u001b[0;32m    557\u001b[0m \u001b[43m        \u001b[49m\u001b[43mnum_outputs\u001b[49m\u001b[38;5;241;43m=\u001b[39;49m\u001b[38;5;28;43mself\u001b[39;49m\u001b[38;5;241;43m.\u001b[39;49m\u001b[43m_num_outputs\u001b[49m\u001b[43m,\u001b[49m\n\u001b[0;32m    558\u001b[0m \u001b[43m        \u001b[49m\u001b[43minputs\u001b[49m\u001b[38;5;241;43m=\u001b[39;49m\u001b[43margs\u001b[49m\u001b[43m,\u001b[49m\n\u001b[0;32m    559\u001b[0m \u001b[43m        \u001b[49m\u001b[43mattrs\u001b[49m\u001b[38;5;241;43m=\u001b[39;49m\u001b[43mattrs\u001b[49m\u001b[43m,\u001b[49m\n\u001b[0;32m    560\u001b[0m \u001b[43m        \u001b[49m\u001b[43mctx\u001b[49m\u001b[38;5;241;43m=\u001b[39;49m\u001b[43mctx\u001b[49m\u001b[43m)\u001b[49m\n\u001b[0;32m    561\u001b[0m   \u001b[38;5;28;01melse\u001b[39;00m:\n\u001b[0;32m    562\u001b[0m     outputs \u001b[38;5;241m=\u001b[39m execute\u001b[38;5;241m.\u001b[39mexecute_with_cancellation(\n\u001b[0;32m    563\u001b[0m         \u001b[38;5;28mstr\u001b[39m(\u001b[38;5;28mself\u001b[39m\u001b[38;5;241m.\u001b[39msignature\u001b[38;5;241m.\u001b[39mname),\n\u001b[0;32m    564\u001b[0m         num_outputs\u001b[38;5;241m=\u001b[39m\u001b[38;5;28mself\u001b[39m\u001b[38;5;241m.\u001b[39m_num_outputs,\n\u001b[1;32m   (...)\u001b[0m\n\u001b[0;32m    567\u001b[0m         ctx\u001b[38;5;241m=\u001b[39mctx,\n\u001b[0;32m    568\u001b[0m         cancellation_manager\u001b[38;5;241m=\u001b[39mcancellation_manager)\n",
      "File \u001b[1;32mc:\\users\\sepehr\\projects\\usnet\\usnet_venv\\lib\\site-packages\\tensorflow\\python\\eager\\execute.py:59\u001b[0m, in \u001b[0;36mquick_execute\u001b[1;34m(op_name, num_outputs, inputs, attrs, ctx, name)\u001b[0m\n\u001b[0;32m     57\u001b[0m \u001b[38;5;28;01mtry\u001b[39;00m:\n\u001b[0;32m     58\u001b[0m   ctx\u001b[38;5;241m.\u001b[39mensure_initialized()\n\u001b[1;32m---> 59\u001b[0m   tensors \u001b[38;5;241m=\u001b[39m \u001b[43mpywrap_tfe\u001b[49m\u001b[38;5;241;43m.\u001b[39;49m\u001b[43mTFE_Py_Execute\u001b[49m\u001b[43m(\u001b[49m\u001b[43mctx\u001b[49m\u001b[38;5;241;43m.\u001b[39;49m\u001b[43m_handle\u001b[49m\u001b[43m,\u001b[49m\u001b[43m \u001b[49m\u001b[43mdevice_name\u001b[49m\u001b[43m,\u001b[49m\u001b[43m \u001b[49m\u001b[43mop_name\u001b[49m\u001b[43m,\u001b[49m\n\u001b[0;32m     60\u001b[0m \u001b[43m                                      \u001b[49m\u001b[43minputs\u001b[49m\u001b[43m,\u001b[49m\u001b[43m \u001b[49m\u001b[43mattrs\u001b[49m\u001b[43m,\u001b[49m\u001b[43m \u001b[49m\u001b[43mnum_outputs\u001b[49m\u001b[43m)\u001b[49m\n\u001b[0;32m     61\u001b[0m \u001b[38;5;28;01mexcept\u001b[39;00m core\u001b[38;5;241m.\u001b[39m_NotOkStatusException \u001b[38;5;28;01mas\u001b[39;00m e:\n\u001b[0;32m     62\u001b[0m   \u001b[38;5;28;01mif\u001b[39;00m name \u001b[38;5;129;01mis\u001b[39;00m \u001b[38;5;129;01mnot\u001b[39;00m \u001b[38;5;28;01mNone\u001b[39;00m:\n",
      "\u001b[1;31mInvalidArgumentError\u001b[0m: 2 root error(s) found.\n  (0) Invalid argument:  Input to reshape is a tensor with 872916 values, but the requested shape has 427122\n\t [[{{node PartitionedCall/Reshape}}]]\n\t [[StringSplit/RaggedGetItem/strided_slice_4/stack/_22]]\n  (1) Invalid argument:  Input to reshape is a tensor with 872916 values, but the requested shape has 427122\n\t [[{{node PartitionedCall/Reshape}}]]\n0 successful operations.\n0 derived errors ignored. [Op:__inference_read_image_and_mask_1536]\n\nFunction call stack:\nread_image_and_mask -> read_image_and_mask\n"
     ]
    },
    {
     "data": {
      "text/plain": [
       "<Figure size 432x288 with 0 Axes>"
      ]
     },
     "metadata": {},
     "output_type": "display_data"
    }
   ],
   "source": [
    "import matplotlib.pyplot as plt\n",
    "\n",
    "plt.figure()\n",
    "plot_counter = 0\n",
    "\n",
    "for something in images:\n",
    "    read_image_and_mask(something)"
   ]
  },
  {
   "cell_type": "code",
   "execution_count": 24,
   "id": "d1999242",
   "metadata": {},
   "outputs": [],
   "source": [
    "x = train_ds.take(4)"
   ]
  },
  {
   "cell_type": "code",
   "execution_count": 11,
   "id": "0174e4fc-6db4-42d4-89c0-f1628bcfb403",
   "metadata": {},
   "outputs": [
    {
     "data": {
      "text/plain": [
       "<matplotlib.image.AxesImage at 0x1a42ce8e940>"
      ]
     },
     "execution_count": 11,
     "metadata": {},
     "output_type": "execute_result"
    },
    {
     "data": {
      "image/png": "[encoded data removed]",
      "text/plain": [
       "<Figure size 432x288 with 1 Axes>"
      ]
     },
     "metadata": {
      "needs_background": "light"
     },
     "output_type": "display_data"
    }
   ],
   "source": [
    "import time\n",
    "\n",
    "\n",
    "\n",
    "\n",
    "def read_raw_seq(image_path):\n",
    "    imgfile = tf.io.read_file(image_path)\n",
    "    imgbytes = tf.io.decode_raw(imgfile, out_type=tf.uint8)\n",
    "    img = tf.reshape(imgbytes, (-1, 778, 549))\n",
    "    return img\n",
    "\n",
    "\n",
    "def play_sequence(sequence_array):\n",
    "    cap = cv2.VideoCapture()\n",
    "    has_frames = True\n",
    "    frame_counter = 0\n",
    "    while True:\n",
    "        frame = sequence_array[frame_counter, :, :]\n",
    "        cv2.imshow('frame',frame)\n",
    "        time.sleep(0.1)\n",
    "        frame_counter+=1\n",
    "        if frame_counter==sequence_array.shape[0]:\n",
    "            frame_counter = 0\n",
    "        if cv2.waitKey(1) & 0xFF == ord('q'):\n",
    "            break\n",
    "    cap.release()\n",
    "    cv2.destroyAllWindows()\n",
    "    \n",
    "    \n",
    "img = read_raw_image(r'patient0001/patient0001_2CH_ED.raw')\n",
    "mask = read_raw_image(r'patient0001/patient0001_2CH_ED_gt.raw')\n",
    "plt.imshow(1*img + 30*mask, 'gray')\n",
    "#play_sequence(seq.numpy())\n"
   ]
  },
  {
   "cell_type": "markdown",
   "id": "69448390",
   "metadata": {},
   "source": [
    "### Read Sequence"
   ]
  },
  {
   "cell_type": "code",
   "execution_count": 6,
   "id": "0c6ea62e",
   "metadata": {},
   "outputs": [],
   "source": [
    "seq = read_raw_seq(r'patient0001/patient0001_4CH_sequence.raw')\n",
    "play_sequence(seq.numpy())"
   ]
  },
  {
   "cell_type": "markdown",
   "id": "15304708",
   "metadata": {},
   "source": [
    "Now that we know how to read images and masks, we will process their addresses, and then use tf.data to build the input pipeline. First, we must find the file addresses:"
   ]
  },
  {
   "cell_type": "markdown",
   "id": "e705d204",
   "metadata": {},
   "source": [
    "Now we should convert these file addresses to tensorflow datasets"
   ]
  },
  {
   "cell_type": "code",
   "execution_count": null,
   "id": "460f1bfa",
   "metadata": {},
   "outputs": [],
   "source": []
  }
 ],
 "metadata": {
  "kernelspec": {
   "display_name": "Python 3 (ipykernel)",
   "language": "python",
   "name": "python3"
  },
  "language_info": {
   "codemirror_mode": {
    "name": "ipython",
    "version": 3
   },
   "file_extension": ".py",
   "mimetype": "text/x-python",
   "name": "python",
   "nbconvert_exporter": "python",
   "pygments_lexer": "ipython3",
   "version": "3.8.9"
  }
 },
 "nbformat": 4,
 "nbformat_minor": 5
}
