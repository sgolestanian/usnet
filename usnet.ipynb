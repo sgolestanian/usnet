{
 "cells": [
  {
   "cell_type": "code",
   "execution_count": 1,
   "id": "3c693683-dd63-4ea8-a5bf-a48a3837cb2c",
   "metadata": {},
   "outputs": [
    {
     "name": "stdout",
     "output_type": "stream",
     "text": [
      "\u001b[33mWARNING: The directory '/home/ai/.cache/pip' or its parent directory is not owned or is not writable by the current user. The cache has been disabled. Check the permissions and owner of that directory. If executing pip with sudo, you should use sudo's -H flag.\u001b[0m\n",
      "Collecting progressbar2\n",
      "  Downloading progressbar2-4.0.0-py2.py3-none-any.whl (26 kB)\n",
      "Collecting python-utils>=3.0.0\n",
      "  Downloading python_utils-3.1.0-py2.py3-none-any.whl (19 kB)\n",
      "Installing collected packages: python-utils, progressbar2\n",
      "Successfully installed progressbar2-4.0.0 python-utils-3.1.0\n",
      "\u001b[33mWARNING: Running pip as the 'root' user can result in broken permissions and conflicting behaviour with the system package manager. It is recommended to use a virtual environment instead: https://pip.pypa.io/warnings/venv\u001b[0m\n"
     ]
    }
   ],
   "source": [
    "!pip install progressbar2"
   ]
  },
  {
   "cell_type": "markdown",
   "id": "93540461-9b60-4eb4-b30a-03e790b4b41d",
   "metadata": {},
   "source": [
    "# US-Segmentation with UNet"
   ]
  },
  {
   "cell_type": "code",
   "execution_count": 17,
   "id": "d175cccf-f03e-4706-8738-1ecc7d3119ba",
   "metadata": {},
   "outputs": [
    {
     "name": "stdout",
     "output_type": "stream",
     "text": [
      "2.4.0\n"
     ]
    }
   ],
   "source": [
    "import tensorflow as tf\n",
    "print(tf.__version__)"
   ]
  },
  {
   "cell_type": "code",
   "execution_count": 18,
   "id": "6a737e10-e323-494a-ac73-b26d85e00ebd",
   "metadata": {},
   "outputs": [
    {
     "name": "stdout",
     "output_type": "stream",
     "text": [
      "Downloading data from https://s5.uupload.ir/files/sepehrglst/data.zip\n",
      "  2621440/453097340 [..............................] - ETA: 21:46"
     ]
    },
    {
     "ename": "KeyboardInterrupt",
     "evalue": "",
     "output_type": "error",
     "traceback": [
      "\u001b[1;31m---------------------------------------------------------------------------\u001b[0m",
      "\u001b[1;31mKeyboardInterrupt\u001b[0m                         Traceback (most recent call last)",
      "\u001b[1;32mc:\\Users\\Sepehr\\Projects\\usnet\\usnet.ipynb Cell 4'\u001b[0m in \u001b[0;36m<module>\u001b[1;34m\u001b[0m\n\u001b[1;32m----> <a href='vscode-notebook-cell:/c%3A/Users/Sepehr/Projects/usnet/usnet.ipynb#ch0000003?line=0'>1</a>\u001b[0m files \u001b[39m=\u001b[39m tf\u001b[39m.\u001b[39;49mkeras\u001b[39m.\u001b[39;49mutils\u001b[39m.\u001b[39;49mget_file(\u001b[39m'\u001b[39;49m\u001b[39mdata\u001b[39;49m\u001b[39m'\u001b[39;49m, origin\u001b[39m=\u001b[39;49m\u001b[39m'\u001b[39;49m\u001b[39mhttps://s5.uupload.ir/files/sepehrglst/data.zip\u001b[39;49m\u001b[39m'\u001b[39;49m, extract\u001b[39m=\u001b[39;49m\u001b[39mTrue\u001b[39;49;00m, cache_dir\u001b[39m=\u001b[39;49m\u001b[39m'\u001b[39;49m\u001b[39m.\u001b[39;49m\u001b[39m'\u001b[39;49m, cache_subdir\u001b[39m=\u001b[39;49m\u001b[39m'\u001b[39;49m\u001b[39mdata\u001b[39;49m\u001b[39m'\u001b[39;49m)\n\u001b[0;32m      <a href='vscode-notebook-cell:/c%3A/Users/Sepehr/Projects/usnet/usnet.ipynb#ch0000003?line=1'>2</a>\u001b[0m \u001b[39mprint\u001b[39m(files)\n",
      "File \u001b[1;32mc:\\Users\\Sepehr\\Projects\\usnet\\usnet_venv\\lib\\site-packages\\tensorflow\\python\\keras\\utils\\data_utils.py:275\u001b[0m, in \u001b[0;36mget_file\u001b[1;34m(fname, origin, untar, md5_hash, file_hash, cache_subdir, hash_algorithm, extract, archive_format, cache_dir)\u001b[0m\n\u001b[0;32m    <a href='file:///c%3A/Users/Sepehr/Projects/usnet/usnet_venv/lib/site-packages/tensorflow/python/keras/utils/data_utils.py?line=272'>273</a>\u001b[0m \u001b[39mtry\u001b[39;00m:\n\u001b[0;32m    <a href='file:///c%3A/Users/Sepehr/Projects/usnet/usnet_venv/lib/site-packages/tensorflow/python/keras/utils/data_utils.py?line=273'>274</a>\u001b[0m   \u001b[39mtry\u001b[39;00m:\n\u001b[1;32m--> <a href='file:///c%3A/Users/Sepehr/Projects/usnet/usnet_venv/lib/site-packages/tensorflow/python/keras/utils/data_utils.py?line=274'>275</a>\u001b[0m     urlretrieve(origin, fpath, dl_progress)\n\u001b[0;32m    <a href='file:///c%3A/Users/Sepehr/Projects/usnet/usnet_venv/lib/site-packages/tensorflow/python/keras/utils/data_utils.py?line=275'>276</a>\u001b[0m   \u001b[39mexcept\u001b[39;00m HTTPError \u001b[39mas\u001b[39;00m e:\n\u001b[0;32m    <a href='file:///c%3A/Users/Sepehr/Projects/usnet/usnet_venv/lib/site-packages/tensorflow/python/keras/utils/data_utils.py?line=276'>277</a>\u001b[0m     \u001b[39mraise\u001b[39;00m \u001b[39mException\u001b[39;00m(error_msg\u001b[39m.\u001b[39mformat(origin, e\u001b[39m.\u001b[39mcode, e\u001b[39m.\u001b[39mmsg))\n",
      "File \u001b[1;32m~\\AppData\\Local\\Programs\\Python\\Python38\\lib\\urllib\\request.py:276\u001b[0m, in \u001b[0;36murlretrieve\u001b[1;34m(url, filename, reporthook, data)\u001b[0m\n\u001b[0;32m    <a href='file:///c%3A/Users/Sepehr/AppData/Local/Programs/Python/Python38/lib/urllib/request.py?line=272'>273</a>\u001b[0m     reporthook(blocknum, bs, size)\n\u001b[0;32m    <a href='file:///c%3A/Users/Sepehr/AppData/Local/Programs/Python/Python38/lib/urllib/request.py?line=274'>275</a>\u001b[0m \u001b[39mwhile\u001b[39;00m \u001b[39mTrue\u001b[39;00m:\n\u001b[1;32m--> <a href='file:///c%3A/Users/Sepehr/AppData/Local/Programs/Python/Python38/lib/urllib/request.py?line=275'>276</a>\u001b[0m     block \u001b[39m=\u001b[39m fp\u001b[39m.\u001b[39;49mread(bs)\n\u001b[0;32m    <a href='file:///c%3A/Users/Sepehr/AppData/Local/Programs/Python/Python38/lib/urllib/request.py?line=276'>277</a>\u001b[0m     \u001b[39mif\u001b[39;00m \u001b[39mnot\u001b[39;00m block:\n\u001b[0;32m    <a href='file:///c%3A/Users/Sepehr/AppData/Local/Programs/Python/Python38/lib/urllib/request.py?line=277'>278</a>\u001b[0m         \u001b[39mbreak\u001b[39;00m\n",
      "File \u001b[1;32m~\\AppData\\Local\\Programs\\Python\\Python38\\lib\\http\\client.py:455\u001b[0m, in \u001b[0;36mHTTPResponse.read\u001b[1;34m(self, amt)\u001b[0m\n\u001b[0;32m    <a href='file:///c%3A/Users/Sepehr/AppData/Local/Programs/Python/Python38/lib/http/client.py?line=451'>452</a>\u001b[0m \u001b[39mif\u001b[39;00m amt \u001b[39mis\u001b[39;00m \u001b[39mnot\u001b[39;00m \u001b[39mNone\u001b[39;00m:\n\u001b[0;32m    <a href='file:///c%3A/Users/Sepehr/AppData/Local/Programs/Python/Python38/lib/http/client.py?line=452'>453</a>\u001b[0m     \u001b[39m# Amount is given, implement using readinto\u001b[39;00m\n\u001b[0;32m    <a href='file:///c%3A/Users/Sepehr/AppData/Local/Programs/Python/Python38/lib/http/client.py?line=453'>454</a>\u001b[0m     b \u001b[39m=\u001b[39m \u001b[39mbytearray\u001b[39m(amt)\n\u001b[1;32m--> <a href='file:///c%3A/Users/Sepehr/AppData/Local/Programs/Python/Python38/lib/http/client.py?line=454'>455</a>\u001b[0m     n \u001b[39m=\u001b[39m \u001b[39mself\u001b[39;49m\u001b[39m.\u001b[39;49mreadinto(b)\n\u001b[0;32m    <a href='file:///c%3A/Users/Sepehr/AppData/Local/Programs/Python/Python38/lib/http/client.py?line=455'>456</a>\u001b[0m     \u001b[39mreturn\u001b[39;00m \u001b[39mmemoryview\u001b[39m(b)[:n]\u001b[39m.\u001b[39mtobytes()\n\u001b[0;32m    <a href='file:///c%3A/Users/Sepehr/AppData/Local/Programs/Python/Python38/lib/http/client.py?line=456'>457</a>\u001b[0m \u001b[39melse\u001b[39;00m:\n\u001b[0;32m    <a href='file:///c%3A/Users/Sepehr/AppData/Local/Programs/Python/Python38/lib/http/client.py?line=457'>458</a>\u001b[0m     \u001b[39m# Amount is not given (unbounded read) so we must check self.length\u001b[39;00m\n\u001b[0;32m    <a href='file:///c%3A/Users/Sepehr/AppData/Local/Programs/Python/Python38/lib/http/client.py?line=458'>459</a>\u001b[0m     \u001b[39m# and self.chunked\u001b[39;00m\n",
      "File \u001b[1;32m~\\AppData\\Local\\Programs\\Python\\Python38\\lib\\http\\client.py:499\u001b[0m, in \u001b[0;36mHTTPResponse.readinto\u001b[1;34m(self, b)\u001b[0m\n\u001b[0;32m    <a href='file:///c%3A/Users/Sepehr/AppData/Local/Programs/Python/Python38/lib/http/client.py?line=493'>494</a>\u001b[0m         b \u001b[39m=\u001b[39m \u001b[39mmemoryview\u001b[39m(b)[\u001b[39m0\u001b[39m:\u001b[39mself\u001b[39m\u001b[39m.\u001b[39mlength]\n\u001b[0;32m    <a href='file:///c%3A/Users/Sepehr/AppData/Local/Programs/Python/Python38/lib/http/client.py?line=495'>496</a>\u001b[0m \u001b[39m# we do not use _safe_read() here because this may be a .will_close\u001b[39;00m\n\u001b[0;32m    <a href='file:///c%3A/Users/Sepehr/AppData/Local/Programs/Python/Python38/lib/http/client.py?line=496'>497</a>\u001b[0m \u001b[39m# connection, and the user is reading more bytes than will be provided\u001b[39;00m\n\u001b[0;32m    <a href='file:///c%3A/Users/Sepehr/AppData/Local/Programs/Python/Python38/lib/http/client.py?line=497'>498</a>\u001b[0m \u001b[39m# (for example, reading in 1k chunks)\u001b[39;00m\n\u001b[1;32m--> <a href='file:///c%3A/Users/Sepehr/AppData/Local/Programs/Python/Python38/lib/http/client.py?line=498'>499</a>\u001b[0m n \u001b[39m=\u001b[39m \u001b[39mself\u001b[39;49m\u001b[39m.\u001b[39;49mfp\u001b[39m.\u001b[39;49mreadinto(b)\n\u001b[0;32m    <a href='file:///c%3A/Users/Sepehr/AppData/Local/Programs/Python/Python38/lib/http/client.py?line=499'>500</a>\u001b[0m \u001b[39mif\u001b[39;00m \u001b[39mnot\u001b[39;00m n \u001b[39mand\u001b[39;00m b:\n\u001b[0;32m    <a href='file:///c%3A/Users/Sepehr/AppData/Local/Programs/Python/Python38/lib/http/client.py?line=500'>501</a>\u001b[0m     \u001b[39m# Ideally, we would raise IncompleteRead if the content-length\u001b[39;00m\n\u001b[0;32m    <a href='file:///c%3A/Users/Sepehr/AppData/Local/Programs/Python/Python38/lib/http/client.py?line=501'>502</a>\u001b[0m     \u001b[39m# wasn't satisfied, but it might break compatibility.\u001b[39;00m\n\u001b[0;32m    <a href='file:///c%3A/Users/Sepehr/AppData/Local/Programs/Python/Python38/lib/http/client.py?line=502'>503</a>\u001b[0m     \u001b[39mself\u001b[39m\u001b[39m.\u001b[39m_close_conn()\n",
      "File \u001b[1;32m~\\AppData\\Local\\Programs\\Python\\Python38\\lib\\socket.py:669\u001b[0m, in \u001b[0;36mSocketIO.readinto\u001b[1;34m(self, b)\u001b[0m\n\u001b[0;32m    <a href='file:///c%3A/Users/Sepehr/AppData/Local/Programs/Python/Python38/lib/socket.py?line=666'>667</a>\u001b[0m \u001b[39mwhile\u001b[39;00m \u001b[39mTrue\u001b[39;00m:\n\u001b[0;32m    <a href='file:///c%3A/Users/Sepehr/AppData/Local/Programs/Python/Python38/lib/socket.py?line=667'>668</a>\u001b[0m     \u001b[39mtry\u001b[39;00m:\n\u001b[1;32m--> <a href='file:///c%3A/Users/Sepehr/AppData/Local/Programs/Python/Python38/lib/socket.py?line=668'>669</a>\u001b[0m         \u001b[39mreturn\u001b[39;00m \u001b[39mself\u001b[39;49m\u001b[39m.\u001b[39;49m_sock\u001b[39m.\u001b[39;49mrecv_into(b)\n\u001b[0;32m    <a href='file:///c%3A/Users/Sepehr/AppData/Local/Programs/Python/Python38/lib/socket.py?line=669'>670</a>\u001b[0m     \u001b[39mexcept\u001b[39;00m timeout:\n\u001b[0;32m    <a href='file:///c%3A/Users/Sepehr/AppData/Local/Programs/Python/Python38/lib/socket.py?line=670'>671</a>\u001b[0m         \u001b[39mself\u001b[39m\u001b[39m.\u001b[39m_timeout_occurred \u001b[39m=\u001b[39m \u001b[39mTrue\u001b[39;00m\n",
      "File \u001b[1;32m~\\AppData\\Local\\Programs\\Python\\Python38\\lib\\ssl.py:1241\u001b[0m, in \u001b[0;36mSSLSocket.recv_into\u001b[1;34m(self, buffer, nbytes, flags)\u001b[0m\n\u001b[0;32m   <a href='file:///c%3A/Users/Sepehr/AppData/Local/Programs/Python/Python38/lib/ssl.py?line=1236'>1237</a>\u001b[0m     \u001b[39mif\u001b[39;00m flags \u001b[39m!=\u001b[39m \u001b[39m0\u001b[39m:\n\u001b[0;32m   <a href='file:///c%3A/Users/Sepehr/AppData/Local/Programs/Python/Python38/lib/ssl.py?line=1237'>1238</a>\u001b[0m         \u001b[39mraise\u001b[39;00m \u001b[39mValueError\u001b[39;00m(\n\u001b[0;32m   <a href='file:///c%3A/Users/Sepehr/AppData/Local/Programs/Python/Python38/lib/ssl.py?line=1238'>1239</a>\u001b[0m           \u001b[39m\"\u001b[39m\u001b[39mnon-zero flags not allowed in calls to recv_into() on \u001b[39m\u001b[39m%s\u001b[39;00m\u001b[39m\"\u001b[39m \u001b[39m%\u001b[39m\n\u001b[0;32m   <a href='file:///c%3A/Users/Sepehr/AppData/Local/Programs/Python/Python38/lib/ssl.py?line=1239'>1240</a>\u001b[0m           \u001b[39mself\u001b[39m\u001b[39m.\u001b[39m\u001b[39m__class__\u001b[39m)\n\u001b[1;32m-> <a href='file:///c%3A/Users/Sepehr/AppData/Local/Programs/Python/Python38/lib/ssl.py?line=1240'>1241</a>\u001b[0m     \u001b[39mreturn\u001b[39;00m \u001b[39mself\u001b[39;49m\u001b[39m.\u001b[39;49mread(nbytes, buffer)\n\u001b[0;32m   <a href='file:///c%3A/Users/Sepehr/AppData/Local/Programs/Python/Python38/lib/ssl.py?line=1241'>1242</a>\u001b[0m \u001b[39melse\u001b[39;00m:\n\u001b[0;32m   <a href='file:///c%3A/Users/Sepehr/AppData/Local/Programs/Python/Python38/lib/ssl.py?line=1242'>1243</a>\u001b[0m     \u001b[39mreturn\u001b[39;00m \u001b[39msuper\u001b[39m()\u001b[39m.\u001b[39mrecv_into(buffer, nbytes, flags)\n",
      "File \u001b[1;32m~\\AppData\\Local\\Programs\\Python\\Python38\\lib\\ssl.py:1099\u001b[0m, in \u001b[0;36mSSLSocket.read\u001b[1;34m(self, len, buffer)\u001b[0m\n\u001b[0;32m   <a href='file:///c%3A/Users/Sepehr/AppData/Local/Programs/Python/Python38/lib/ssl.py?line=1096'>1097</a>\u001b[0m \u001b[39mtry\u001b[39;00m:\n\u001b[0;32m   <a href='file:///c%3A/Users/Sepehr/AppData/Local/Programs/Python/Python38/lib/ssl.py?line=1097'>1098</a>\u001b[0m     \u001b[39mif\u001b[39;00m buffer \u001b[39mis\u001b[39;00m \u001b[39mnot\u001b[39;00m \u001b[39mNone\u001b[39;00m:\n\u001b[1;32m-> <a href='file:///c%3A/Users/Sepehr/AppData/Local/Programs/Python/Python38/lib/ssl.py?line=1098'>1099</a>\u001b[0m         \u001b[39mreturn\u001b[39;00m \u001b[39mself\u001b[39;49m\u001b[39m.\u001b[39;49m_sslobj\u001b[39m.\u001b[39;49mread(\u001b[39mlen\u001b[39;49m, buffer)\n\u001b[0;32m   <a href='file:///c%3A/Users/Sepehr/AppData/Local/Programs/Python/Python38/lib/ssl.py?line=1099'>1100</a>\u001b[0m     \u001b[39melse\u001b[39;00m:\n\u001b[0;32m   <a href='file:///c%3A/Users/Sepehr/AppData/Local/Programs/Python/Python38/lib/ssl.py?line=1100'>1101</a>\u001b[0m         \u001b[39mreturn\u001b[39;00m \u001b[39mself\u001b[39m\u001b[39m.\u001b[39m_sslobj\u001b[39m.\u001b[39mread(\u001b[39mlen\u001b[39m)\n",
      "\u001b[1;31mKeyboardInterrupt\u001b[0m: "
     ]
    }
   ],
   "source": [
    "files = tf.keras.utils.get_file('data', origin='https://s5.uupload.ir/files/sepehrglst/data.zip', extract=True, cache_dir='.', cache_subdir='data')\n",
    "print(files)"
   ]
  },
  {
   "cell_type": "code",
   "execution_count": 19,
   "id": "751d8230-b008-4f2d-a1cd-8706f8a34183",
   "metadata": {},
   "outputs": [],
   "source": [
    "from os import path\n",
    "\n",
    "def read_info(patient, view = '2CH'):\n",
    "    info_file_name = 'Info_'+view+'.cfg'\n",
    "    info_file_path = path.join(patient, info_file_name)\n",
    "    \n",
    "    def remove_newline(line):\n",
    "        return line[:-1]\n",
    "    \n",
    "    def keyvalue_pair(data):\n",
    "        [key, value_str] = data.split(':')\n",
    "        value_str = value_str.strip()\n",
    "        return [key, value_str]\n",
    "    \n",
    "    with open(info_file_path, 'r') as file:\n",
    "        patient_data = dict()\n",
    "        info_string = file.readlines()\n",
    "        info_string = list(map(remove_newline, info_string))\n",
    "        info = list(map(keyvalue_pair, info_string))\n",
    "        patient_data.update({'ed':float(info[0][1])})\n",
    "        patient_data.update({'es':float(info[1][1])})\n",
    "        patient_data.update({'nframe':int(info[2][1])})\n",
    "        patient_data.update({'sex':info[3][1]})\n",
    "        patient_data.update({'age':int(info[4][1])})\n",
    "        patient_data.update({'image_quality':info[5][1]})\n",
    "        patient_data.update({'lvedv':float(info[6][1])})\n",
    "        patient_data.update({'lvesv':float(info[7][1])})\n",
    "        patient_data.update({'lvef':float(info[8][1])})\n",
    "        patient_data.update({'view':view})\n",
    "        \n",
    "        \n",
    "    return patient_data"
   ]
  },
  {
   "cell_type": "code",
   "execution_count": 25,
   "id": "d01f4d48-c33d-41e2-8a83-1853cdd447c8",
   "metadata": {},
   "outputs": [
    {
     "name": "stderr",
     "output_type": "stream",
     "text": [
      "  0% (0 of 400) |                        | Elapsed Time: 0:00:00 ETA:  --:--:--\n",
      "  1% (6 of 400) |                        | Elapsed Time: 0:00:00 ETA:  00:00:00\n",
      "  2% (11 of 400) |                       | Elapsed Time: 0:00:00 ETA:   0:00:05\n",
      "  4% (16 of 400) |                       | Elapsed Time: 0:00:00 ETA:   0:00:05\n",
      "  5% (21 of 400) |#                      | Elapsed Time: 0:00:00 ETA:   0:00:05\n",
      "  6% (26 of 400) |#                      | Elapsed Time: 0:00:00 ETA:   0:00:05\n",
      "  7% (31 of 400) |#                      | Elapsed Time: 0:00:00 ETA:   0:00:06\n",
      "  9% (36 of 400) |##                     | Elapsed Time: 0:00:00 ETA:   0:00:06\n",
      " 10% (41 of 400) |##                     | Elapsed Time: 0:00:00 ETA:   0:00:06\n",
      " 11% (46 of 400) |##                     | Elapsed Time: 0:00:00 ETA:   0:00:06\n",
      " 12% (51 of 400) |##                     | Elapsed Time: 0:00:00 ETA:   0:00:06\n",
      " 14% (56 of 400) |###                    | Elapsed Time: 0:00:01 ETA:   0:00:06\n",
      " 15% (60 of 400) |###                    | Elapsed Time: 0:00:01 ETA:   0:00:06\n",
      " 16% (66 of 400) |###                    | Elapsed Time: 0:00:01 ETA:   0:00:06\n",
      " 17% (71 of 400) |####                   | Elapsed Time: 0:00:01 ETA:   0:00:06\n",
      " 19% (76 of 400) |####                   | Elapsed Time: 0:00:01 ETA:   0:00:06\n",
      " 20% (82 of 400) |####                   | Elapsed Time: 0:00:01 ETA:   0:00:06\n",
      " 21% (87 of 400) |#####                  | Elapsed Time: 0:00:01 ETA:   0:00:05\n",
      " 23% (92 of 400) |#####                  | Elapsed Time: 0:00:01 ETA:   0:00:05\n",
      " 24% (97 of 400) |#####                  | Elapsed Time: 0:00:01 ETA:   0:00:05\n",
      " 25% (102 of 400) |#####                 | Elapsed Time: 0:00:01 ETA:   0:00:05\n",
      " 26% (107 of 400) |#####                 | Elapsed Time: 0:00:02 ETA:   0:00:05\n",
      " 28% (112 of 400) |######                | Elapsed Time: 0:00:02 ETA:   0:00:05\n",
      " 29% (117 of 400) |######                | Elapsed Time: 0:00:02 ETA:   0:00:05\n",
      " 30% (122 of 400) |######                | Elapsed Time: 0:00:02 ETA:   0:00:05\n",
      " 31% (127 of 400) |######                | Elapsed Time: 0:00:02 ETA:   0:00:05\n",
      " 33% (132 of 400) |#######               | Elapsed Time: 0:00:02 ETA:   0:00:05\n",
      " 34% (137 of 400) |#######               | Elapsed Time: 0:00:02 ETA:   0:00:05\n",
      " 35% (142 of 400) |#######               | Elapsed Time: 0:00:02 ETA:   0:00:04\n",
      " 36% (147 of 400) |########              | Elapsed Time: 0:00:02 ETA:   0:00:04\n",
      " 38% (152 of 400) |########              | Elapsed Time: 0:00:02 ETA:   0:00:04\n",
      " 39% (157 of 400) |########              | Elapsed Time: 0:00:02 ETA:   0:00:04\n",
      " 40% (163 of 400) |########              | Elapsed Time: 0:00:03 ETA:   0:00:04\n",
      " 42% (168 of 400) |#########             | Elapsed Time: 0:00:03 ETA:   0:00:04\n",
      " 43% (173 of 400) |#########             | Elapsed Time: 0:00:03 ETA:   0:00:04\n",
      " 44% (178 of 400) |#########             | Elapsed Time: 0:00:03 ETA:   0:00:04\n",
      " 45% (183 of 400) |##########            | Elapsed Time: 0:00:03 ETA:   0:00:03\n",
      " 46% (186 of 400) |##########            | Elapsed Time: 0:00:03 ETA:   0:00:03\n",
      " 47% (191 of 400) |##########            | Elapsed Time: 0:00:03 ETA:   0:00:03\n",
      " 49% (197 of 400) |##########            | Elapsed Time: 0:00:03 ETA:   0:00:03\n",
      " 50% (202 of 400) |###########           | Elapsed Time: 0:00:03 ETA:   0:00:03\n",
      " 51% (207 of 400) |###########           | Elapsed Time: 0:00:03 ETA:   0:00:03\n",
      " 53% (212 of 400) |###########           | Elapsed Time: 0:00:03 ETA:   0:00:03\n",
      " 54% (218 of 400) |###########           | Elapsed Time: 0:00:04 ETA:   0:00:03\n",
      " 55% (223 of 400) |############          | Elapsed Time: 0:00:04 ETA:   0:00:03\n",
      " 56% (225 of 400) |############          | Elapsed Time: 0:00:04 ETA:   0:00:03\n",
      " 58% (232 of 400) |############          | Elapsed Time: 0:00:04 ETA:   0:00:03\n",
      " 59% (238 of 400) |#############         | Elapsed Time: 0:00:04 ETA:   0:00:03\n",
      " 61% (244 of 400) |#############         | Elapsed Time: 0:00:04 ETA:   0:00:03\n",
      " 62% (249 of 400) |#############         | Elapsed Time: 0:00:04 ETA:   0:00:03\n",
      " 63% (254 of 400) |#############         | Elapsed Time: 0:00:05 ETA:   0:00:03\n",
      " 64% (259 of 400) |##############        | Elapsed Time: 0:00:05 ETA:   0:00:03\n",
      " 66% (264 of 400) |##############        | Elapsed Time: 0:00:05 ETA:   0:00:02\n",
      " 67% (269 of 400) |##############        | Elapsed Time: 0:00:05 ETA:   0:00:02\n",
      " 68% (274 of 400) |###############       | Elapsed Time: 0:00:05 ETA:   0:00:02\n",
      " 69% (279 of 400) |###############       | Elapsed Time: 0:00:05 ETA:   0:00:02\n",
      " 71% (284 of 400) |###############       | Elapsed Time: 0:00:05 ETA:   0:00:02\n",
      " 72% (289 of 400) |###############       | Elapsed Time: 0:00:05 ETA:   0:00:02\n",
      " 73% (294 of 400) |################      | Elapsed Time: 0:00:05 ETA:   0:00:02\n",
      " 74% (299 of 400) |################      | Elapsed Time: 0:00:05 ETA:   0:00:02\n",
      " 76% (304 of 400) |################      | Elapsed Time: 0:00:05 ETA:   0:00:01\n",
      " 77% (309 of 400) |################      | Elapsed Time: 0:00:05 ETA:   0:00:01\n",
      " 78% (314 of 400) |#################     | Elapsed Time: 0:00:05 ETA:   0:00:01\n",
      " 79% (319 of 400) |#################     | Elapsed Time: 0:00:06 ETA:   0:00:01\n",
      " 81% (325 of 400) |#################     | Elapsed Time: 0:00:06 ETA:   0:00:01\n",
      " 82% (330 of 400) |##################    | Elapsed Time: 0:00:06 ETA:   0:00:01\n",
      " 83% (335 of 400) |##################    | Elapsed Time: 0:00:06 ETA:   0:00:01\n",
      " 85% (340 of 400) |##################    | Elapsed Time: 0:00:06 ETA:   0:00:01\n",
      " 86% (345 of 400) |##################    | Elapsed Time: 0:00:06 ETA:   0:00:01\n",
      " 87% (350 of 400) |###################   | Elapsed Time: 0:00:06 ETA:   0:00:00\n",
      " 88% (355 of 400) |###################   | Elapsed Time: 0:00:06 ETA:   0:00:00\n",
      " 90% (360 of 400) |###################   | Elapsed Time: 0:00:06 ETA:   0:00:00\n",
      " 91% (365 of 400) |####################  | Elapsed Time: 0:00:06 ETA:   0:00:00\n",
      " 92% (370 of 400) |####################  | Elapsed Time: 0:00:06 ETA:   0:00:00\n",
      " 93% (375 of 400) |####################  | Elapsed Time: 0:00:06 ETA:   0:00:00\n",
      " 95% (380 of 400) |####################  | Elapsed Time: 0:00:06 ETA:   0:00:00\n",
      " 96% (385 of 400) |##################### | Elapsed Time: 0:00:07 ETA:   0:00:00\n",
      " 97% (390 of 400) |##################### | Elapsed Time: 0:00:07 ETA:   0:00:00\n",
      " 98% (395 of 400) |##################### | Elapsed Time: 0:00:07 ETA:   0:00:00\n",
      "100% (400 of 400) |######################| Elapsed Time: 0:00:07 Time:  0:00:07\n"
     ]
    },
    {
     "data": {
      "text/html": [
       "<div>\n",
       "<style scoped>\n",
       "    .dataframe tbody tr th:only-of-type {\n",
       "        vertical-align: middle;\n",
       "    }\n",
       "\n",
       "    .dataframe tbody tr th {\n",
       "        vertical-align: top;\n",
       "    }\n",
       "\n",
       "    .dataframe thead th {\n",
       "        text-align: right;\n",
       "    }\n",
       "</style>\n",
       "<table border=\"1\" class=\"dataframe\">\n",
       "  <thead>\n",
       "    <tr style=\"text-align: right;\">\n",
       "      <th></th>\n",
       "      <th>ed</th>\n",
       "      <th>es</th>\n",
       "      <th>nframe</th>\n",
       "      <th>sex</th>\n",
       "      <th>age</th>\n",
       "      <th>image_quality</th>\n",
       "      <th>lvedv</th>\n",
       "      <th>lvesv</th>\n",
       "      <th>lvef</th>\n",
       "      <th>view</th>\n",
       "    </tr>\n",
       "  </thead>\n",
       "  <tbody>\n",
       "    <tr>\n",
       "      <th>0</th>\n",
       "      <td>1.0</td>\n",
       "      <td>18.0</td>\n",
       "      <td>18</td>\n",
       "      <td>F</td>\n",
       "      <td>56</td>\n",
       "      <td>Good</td>\n",
       "      <td>94.0</td>\n",
       "      <td>34.6</td>\n",
       "      <td>63.2</td>\n",
       "      <td>2CH</td>\n",
       "    </tr>\n",
       "    <tr>\n",
       "      <th>1</th>\n",
       "      <td>1.0</td>\n",
       "      <td>20.0</td>\n",
       "      <td>20</td>\n",
       "      <td>F</td>\n",
       "      <td>56</td>\n",
       "      <td>Good</td>\n",
       "      <td>94.0</td>\n",
       "      <td>34.6</td>\n",
       "      <td>63.2</td>\n",
       "      <td>4CH</td>\n",
       "    </tr>\n",
       "    <tr>\n",
       "      <th>2</th>\n",
       "      <td>1.0</td>\n",
       "      <td>17.0</td>\n",
       "      <td>17</td>\n",
       "      <td>M</td>\n",
       "      <td>55</td>\n",
       "      <td>Medium</td>\n",
       "      <td>119.1</td>\n",
       "      <td>60.3</td>\n",
       "      <td>49.4</td>\n",
       "      <td>2CH</td>\n",
       "    </tr>\n",
       "    <tr>\n",
       "      <th>3</th>\n",
       "      <td>1.0</td>\n",
       "      <td>15.0</td>\n",
       "      <td>15</td>\n",
       "      <td>M</td>\n",
       "      <td>55</td>\n",
       "      <td>Medium</td>\n",
       "      <td>119.1</td>\n",
       "      <td>60.3</td>\n",
       "      <td>49.4</td>\n",
       "      <td>4CH</td>\n",
       "    </tr>\n",
       "    <tr>\n",
       "      <th>4</th>\n",
       "      <td>1.0</td>\n",
       "      <td>17.0</td>\n",
       "      <td>17</td>\n",
       "      <td>F</td>\n",
       "      <td>36</td>\n",
       "      <td>Good</td>\n",
       "      <td>105.7</td>\n",
       "      <td>47.1</td>\n",
       "      <td>55.4</td>\n",
       "      <td>2CH</td>\n",
       "    </tr>\n",
       "    <tr>\n",
       "      <th>...</th>\n",
       "      <td>...</td>\n",
       "      <td>...</td>\n",
       "      <td>...</td>\n",
       "      <td>...</td>\n",
       "      <td>...</td>\n",
       "      <td>...</td>\n",
       "      <td>...</td>\n",
       "      <td>...</td>\n",
       "      <td>...</td>\n",
       "      <td>...</td>\n",
       "    </tr>\n",
       "    <tr>\n",
       "      <th>795</th>\n",
       "      <td>1.0</td>\n",
       "      <td>22.0</td>\n",
       "      <td>22</td>\n",
       "      <td>M</td>\n",
       "      <td>68</td>\n",
       "      <td>Medium</td>\n",
       "      <td>51.8</td>\n",
       "      <td>12.0</td>\n",
       "      <td>76.8</td>\n",
       "      <td>4CH</td>\n",
       "    </tr>\n",
       "    <tr>\n",
       "      <th>796</th>\n",
       "      <td>1.0</td>\n",
       "      <td>16.0</td>\n",
       "      <td>16</td>\n",
       "      <td>F</td>\n",
       "      <td>75</td>\n",
       "      <td>Medium</td>\n",
       "      <td>78.4</td>\n",
       "      <td>25.5</td>\n",
       "      <td>67.5</td>\n",
       "      <td>2CH</td>\n",
       "    </tr>\n",
       "    <tr>\n",
       "      <th>797</th>\n",
       "      <td>1.0</td>\n",
       "      <td>18.0</td>\n",
       "      <td>18</td>\n",
       "      <td>F</td>\n",
       "      <td>75</td>\n",
       "      <td>Good</td>\n",
       "      <td>78.4</td>\n",
       "      <td>25.5</td>\n",
       "      <td>67.5</td>\n",
       "      <td>4CH</td>\n",
       "    </tr>\n",
       "    <tr>\n",
       "      <th>798</th>\n",
       "      <td>1.0</td>\n",
       "      <td>15.0</td>\n",
       "      <td>15</td>\n",
       "      <td>F</td>\n",
       "      <td>74</td>\n",
       "      <td>Good</td>\n",
       "      <td>89.1</td>\n",
       "      <td>50.4</td>\n",
       "      <td>43.4</td>\n",
       "      <td>2CH</td>\n",
       "    </tr>\n",
       "    <tr>\n",
       "      <th>799</th>\n",
       "      <td>1.0</td>\n",
       "      <td>20.0</td>\n",
       "      <td>20</td>\n",
       "      <td>F</td>\n",
       "      <td>74</td>\n",
       "      <td>Good</td>\n",
       "      <td>89.1</td>\n",
       "      <td>50.4</td>\n",
       "      <td>43.4</td>\n",
       "      <td>4CH</td>\n",
       "    </tr>\n",
       "  </tbody>\n",
       "</table>\n",
       "<p>800 rows × 10 columns</p>\n",
       "</div>"
      ],
      "text/plain": [
       "      ed    es  nframe sex  age image_quality  lvedv  lvesv  lvef view\n",
       "0    1.0  18.0      18   F   56          Good   94.0   34.6  63.2  2CH\n",
       "1    1.0  20.0      20   F   56          Good   94.0   34.6  63.2  4CH\n",
       "2    1.0  17.0      17   M   55        Medium  119.1   60.3  49.4  2CH\n",
       "3    1.0  15.0      15   M   55        Medium  119.1   60.3  49.4  4CH\n",
       "4    1.0  17.0      17   F   36          Good  105.7   47.1  55.4  2CH\n",
       "..   ...   ...     ...  ..  ...           ...    ...    ...   ...  ...\n",
       "795  1.0  22.0      22   M   68        Medium   51.8   12.0  76.8  4CH\n",
       "796  1.0  16.0      16   F   75        Medium   78.4   25.5  67.5  2CH\n",
       "797  1.0  18.0      18   F   75          Good   78.4   25.5  67.5  4CH\n",
       "798  1.0  15.0      15   F   74          Good   89.1   50.4  43.4  2CH\n",
       "799  1.0  20.0      20   F   74          Good   89.1   50.4  43.4  4CH\n",
       "\n",
       "[800 rows x 10 columns]"
      ]
     },
     "execution_count": 25,
     "metadata": {},
     "output_type": "execute_result"
    }
   ],
   "source": [
    "from glob import glob\n",
    "import pandas as pd\n",
    "import progressbar\n",
    "\n",
    "patients = glob(r'data/datasets/training/*')\n",
    "\n",
    "patient_db = list()\n",
    "with progressbar.ProgressBar(max_value=len(patients)) as bar:\n",
    "  for step, patient in enumerate(patients):\n",
    "      patient_data = read_info(patient)\n",
    "      patient_db.append(patient_data)\n",
    "      patient_data = read_info(patient, view='4CH')\n",
    "      patient_db.append(patient_data)\n",
    "      bar.update(step)\n",
    "    \n",
    "patient_db = pd.DataFrame(patient_db)\n",
    "patient_db"
   ]
  },
  {
   "cell_type": "code",
   "execution_count": 26,
   "id": "e5651748-a0c3-4394-b5c3-472e995ea078",
   "metadata": {},
   "outputs": [
    {
     "data": {
      "text/plain": [
       "<seaborn.axisgrid.FacetGrid at 0x137b248c700>"
      ]
     },
     "execution_count": 26,
     "metadata": {},
     "output_type": "execute_result"
    },
    {
     "data": {
      "image/png": "[encoded data removed]",
      "text/plain": [
       "<Figure size 416.75x360 with 1 Axes>"
      ]
     },
     "metadata": {
      "needs_background": "light"
     },
     "output_type": "display_data"
    }
   ],
   "source": [
    "import seaborn as sns\n",
    "\n",
    "sns.catplot(data=patient_db, x='image_quality', kind='count', hue='view')"
   ]
  },
  {
   "cell_type": "markdown",
   "id": "f440f16f-fcc2-4afd-b115-717a2c0dc8ea",
   "metadata": {},
   "source": [
    "## Prepare the data"
   ]
  },
  {
   "cell_type": "markdown",
   "id": "db53976a-48bb-4d75-9c6f-890141244c9d",
   "metadata": {},
   "source": [
    "### Load data"
   ]
  },
  {
   "cell_type": "code",
   "execution_count": 9,
   "id": "ceab8ace-29b2-46ae-83eb-71d6f8a453eb",
   "metadata": {},
   "outputs": [
    {
     "name": "stdout",
     "output_type": "stream",
     "text": [
      "\u001b[33mWARNING: The directory '/home/ai/.cache/pip' or its parent directory is not owned or is not writable by the current user. The cache has been disabled. Check the permissions and owner of that directory. If executing pip with sudo, you should use sudo's -H flag.\u001b[0m\n",
      "Requirement already satisfied: tensorflow-io in /opt/conda/lib/python3.9/site-packages (0.24.0)\n",
      "Requirement already satisfied: tensorflow-io-gcs-filesystem==0.24.0 in /opt/conda/lib/python3.9/site-packages (from tensorflow-io) (0.24.0)\n",
      "\u001b[33mWARNING: Running pip as the 'root' user can result in broken permissions and conflicting behaviour with the system package manager. It is recommended to use a virtual environment instead: https://pip.pypa.io/warnings/venv\u001b[0m\n"
     ]
    }
   ],
   "source": [
    "%pip install tensorflow-io"
   ]
  },
  {
   "cell_type": "code",
   "execution_count": 27,
   "id": "de250a53-b4f2-4d10-8fff-079ffe2ac314",
   "metadata": {},
   "outputs": [],
   "source": [
    "import tensorflow as tf\n",
    "import tensorflow_io as tfio\n",
    "\n",
    "import matplotlib.pyplot as plt"
   ]
  },
  {
   "cell_type": "code",
   "execution_count": 28,
   "id": "633c6ad0-7249-4f2a-8497-792c364d604e",
   "metadata": {},
   "outputs": [],
   "source": [
    "from glob import glob\n",
    "from os import path\n",
    "\n",
    "\n",
    "def isimage(fileaddress):\n",
    "    filename = path.basename(fileaddress).split('.')[0]\n",
    "    if filename.endswith('gt') or filename.endswith('sequence'):\n",
    "        return False\n",
    "    else:\n",
    "        return True\n",
    "\n",
    "def is2ch_view(fileaddress):\n",
    "    filename = path.basename(fileaddress)\n",
    "    view = filename.split('_')[1]\n",
    "    if view=='2CH':\n",
    "        return True\n",
    "    else:\n",
    "        return False\n",
    "\n",
    "def issequence(fileaddress):\n",
    "    filename = path.basename(fileaddress).split('.')[0]\n",
    "    if filename.endswith('sequence'):\n",
    "        return True\n"
   ]
  },
  {
   "cell_type": "code",
   "execution_count": 29,
   "id": "a3fcf74c-6ff2-4660-a0e3-92a972c4bbf4",
   "metadata": {},
   "outputs": [],
   "source": [
    "TRAIN_DATASET_PATH = r'data/datasets/training'\n",
    "VALIDATION_DATASET_PATH = r'data/datasets/validation'\n",
    "\n",
    "\n",
    "path_structure = path.join(TRAIN_DATASET_PATH, r'*/*.raw')\n",
    "file_paths = glob(path_structure)\n",
    "train_images = list(filter(isimage, file_paths))\n",
    "sequences = list(filter(issequence, file_paths))\n",
    "\n",
    "path_structure = path.join(VALIDATION_DATASET_PATH, r'*/*.raw')\n",
    "file_paths = glob(path_structure)\n",
    "validation_images = list(filter(isimage, file_paths))\n",
    "sequences.extend(list(filter(issequence, file_paths)))"
   ]
  },
  {
   "cell_type": "code",
   "execution_count": 37,
   "id": "68cfbb39-7bbc-4409-a50a-e686bc95a5ca",
   "metadata": {},
   "outputs": [],
   "source": [
    "@tf.function\n",
    "def tf_read_raw_image(image_path, target_size=(128, 128)):\n",
    "    imgfile = tf.io.read_file(image_path)\n",
    "    img_fileadd = tf.strings.split(image_path, '.')[0]\n",
    "    mhd_fileadd = tf.strings.join([img_fileadd, '.mhd'])\n",
    "    img_dims = tf_read_mhd_data(mhd_fileadd)\n",
    "    def correct_dims(dims):\n",
    "        dims_correct = [dims[1], dims[0], dims[2]]\n",
    "        dims_correct = tf.stack(dims_correct, axis=0)\n",
    "        return dims_correct\n",
    "    imgbytes = tf.io.decode_raw(imgfile, out_type=tf.uint8)\n",
    "    img = tf.reshape(imgbytes, correct_dims(img_dims))\n",
    "    img = tf.cast(img, tf.float32)\n",
    "    img = (img - tf.math.reduce_min(img))/(tf.math.reduce_max(img) - tf.math.reduce_min(img))\n",
    "    img = tf.image.resize(img, target_size)\n",
    "    img = tf.repeat(img, 3, axis=2)\n",
    "    return img\n",
    "\n",
    "\n",
    "@tf.function\n",
    "def tf_read_mask_image(image_path, target_size=(128, 128)):\n",
    "    imgfile = tf.io.read_file(image_path)\n",
    "    img_fileadd = tf.strings.split(image_path, '.')[0]\n",
    "    mhd_fileadd = tf.strings.join([img_fileadd, '.mhd'])\n",
    "    img_dims = tf_read_mhd_data(mhd_fileadd)\n",
    "    def correct_dims(dims):\n",
    "        dims_correct = [dims[1], dims[0], dims[2]]\n",
    "        dims_correct = tf.stack(dims_correct, axis=0)\n",
    "        return dims_correct\n",
    "    imgbytes = tf.io.decode_raw(imgfile, out_type=tf.uint8)\n",
    "    img = tf.reshape(imgbytes, correct_dims(img_dims))\n",
    "    img = tf.cast(img, tf.float32)\n",
    "    img = tf.image.resize(img, target_size, method=tf.image.ResizeMethod.NEAREST_NEIGHBOR)\n",
    "    img = tf.cast(img, tf.uint8)\n",
    "    img = tf.squeeze(img)\n",
    "    return tf.one_hot(img, depth=4)\n",
    "\n",
    "\n",
    "@tf.function\n",
    "def tf_read_mhd_data(mhd_address):\n",
    "    file_metadata_string = tf.io.read_file(mhd_address)\n",
    "    print(file_metadata_string)\n",
    "    # Complete this function later\n",
    "    \n",
    "@tf.function\n",
    "def tf_read_image_and_mask(input_address):\n",
    "    image = tf_read_raw_image(input_address)\n",
    "    mask_fileadd = tf.strings.split(input_address, '.')[0]\n",
    "    mask_fileadd = tf.strings.join([mask_fileadd, '_gt.raw'])\n",
    "    mask_fileadd = tf.squeeze(mask_fileadd)\n",
    "    mask = tf_read_mask_image(mask_fileadd)\n",
    "    return (image, mask)\n",
    "\n",
    "\n",
    "@tf.function\n",
    "def tf_read_ae_data(input_address):\n",
    "    mask_fileadd = tf.strings.split(input_address, '.')[0]\n",
    "    mask_fileadd = tf.strings.join([mask_fileadd, '_gt.raw'])\n",
    "    mask_fileadd = tf.squeeze(mask_fileadd)\n",
    "    mask = tf_read_mask_image(mask_fileadd)\n",
    "    return (mask, mask)\n",
    "\n",
    "@tf.function\n",
    "def tf_read_mhd_data(mhd_address):\n",
    "    mhd_data_file = tf.io.read_file(mhd_address)\n",
    "    mhd_lines = tf.strings.split(mhd_data_file, '\\n')\n",
    "    mhd_lines = tf.strings.split(mhd_lines, ' = ')\n",
    "    dimsize = mhd_lines[10][1]\n",
    "    dimsize = tf.strings.split(dimsize, ' ')\n",
    "    dimsize = tf.boolean_mask(dimsize, mask=tf.math.logical_not(tf.math.equal(dimsize, b'')))\n",
    "    #dimsize_new = tf.map_fn(tf.strings.to_number, dimsize)\n",
    "    dimsize = tf.strings.to_number(dimsize)\n",
    "    dimsize = tf.cast(dimsize, tf.int32)\n",
    "    #element_number_of_channels = tf.strings.to_number(mhd_lines[11][1])\n",
    "    return dimsize\n",
    "    \n",
    "\n",
    "train_ds_path = tf.data.Dataset.from_tensor_slices(train_images)\n",
    "train_ae_ds = train_ds_path.map(tf_read_ae_data)\n",
    "train_ds = train_ds_path.map(tf_read_image_and_mask)\n",
    "\n",
    "validation_ds_path = tf.data.Dataset.from_tensor_slices(validation_images)\n",
    "validation_ae_ds = validation_ds_path.map(tf_read_ae_data)\n",
    "validation_ds = validation_ds_path.map(tf_read_image_and_mask)"
   ]
  },
  {
   "cell_type": "code",
   "execution_count": 47,
   "id": "83ba60b6-ef45-4a95-adb2-809ac45b7544",
   "metadata": {},
   "outputs": [
    {
     "name": "stdout",
     "output_type": "stream",
     "text": [
      "(128, 128, 3)\n",
      "(128, 128, 3)\n"
     ]
    },
    {
     "ename": "InvalidArgumentError",
     "evalue": "slice index 3 of dimension 2 out of bounds. [Op:StridedSlice] name: strided_slice/",
     "output_type": "error",
     "traceback": [
      "\u001b[1;31m---------------------------------------------------------------------------\u001b[0m",
      "\u001b[1;31mInvalidArgumentError\u001b[0m                      Traceback (most recent call last)",
      "\u001b[1;32mc:\\Users\\Sepehr\\Projects\\usnet\\usnet.ipynb Cell 15'\u001b[0m in \u001b[0;36m<module>\u001b[1;34m\u001b[0m\n\u001b[0;32m     <a href='vscode-notebook-cell:/c%3A/Users/Sepehr/Projects/usnet/usnet.ipynb#ch0000014?line=14'>15</a>\u001b[0m \u001b[39mfor\u001b[39;00m images, masks \u001b[39min\u001b[39;00m train_ds\u001b[39m.\u001b[39mtake(\u001b[39m1\u001b[39m):\n\u001b[0;32m     <a href='vscode-notebook-cell:/c%3A/Users/Sepehr/Projects/usnet/usnet.ipynb#ch0000014?line=15'>16</a>\u001b[0m     \u001b[39mprint\u001b[39m(images\u001b[39m.\u001b[39mshape)\n\u001b[1;32m---> <a href='vscode-notebook-cell:/c%3A/Users/Sepehr/Projects/usnet/usnet.ipynb#ch0000014?line=16'>17</a>\u001b[0m     display([images, masks])\n",
      "\u001b[1;32mc:\\Users\\Sepehr\\Projects\\usnet\\usnet.ipynb Cell 15'\u001b[0m in \u001b[0;36mdisplay\u001b[1;34m(display_list)\u001b[0m\n\u001b[0;32m      <a href='vscode-notebook-cell:/c%3A/Users/Sepehr/Projects/usnet/usnet.ipynb#ch0000014?line=7'>8</a>\u001b[0m     plt\u001b[39m.\u001b[39msubplot(\u001b[39m1\u001b[39m, \u001b[39mlen\u001b[39m(display_list), i\u001b[39m+\u001b[39m\u001b[39m1\u001b[39m)\n\u001b[0;32m      <a href='vscode-notebook-cell:/c%3A/Users/Sepehr/Projects/usnet/usnet.ipynb#ch0000014?line=8'>9</a>\u001b[0m     plt\u001b[39m.\u001b[39mtitle(title[i])\n\u001b[1;32m---> <a href='vscode-notebook-cell:/c%3A/Users/Sepehr/Projects/usnet/usnet.ipynb#ch0000014?line=9'>10</a>\u001b[0m     plt\u001b[39m.\u001b[39mimshow(tf\u001b[39m.\u001b[39msqueeze(display_list[i][:, :, \u001b[39m3\u001b[39;49m]))\n\u001b[0;32m     <a href='vscode-notebook-cell:/c%3A/Users/Sepehr/Projects/usnet/usnet.ipynb#ch0000014?line=10'>11</a>\u001b[0m     plt\u001b[39m.\u001b[39maxis(\u001b[39m'\u001b[39m\u001b[39moff\u001b[39m\u001b[39m'\u001b[39m)\n\u001b[0;32m     <a href='vscode-notebook-cell:/c%3A/Users/Sepehr/Projects/usnet/usnet.ipynb#ch0000014?line=11'>12</a>\u001b[0m plt\u001b[39m.\u001b[39mshow()\n",
      "File \u001b[1;32mc:\\Users\\Sepehr\\Projects\\usnet\\usnet_venv\\lib\\site-packages\\tensorflow\\python\\util\\dispatch.py:201\u001b[0m, in \u001b[0;36madd_dispatch_support.<locals>.wrapper\u001b[1;34m(*args, **kwargs)\u001b[0m\n\u001b[0;32m    <a href='file:///c%3A/Users/Sepehr/Projects/usnet/usnet_venv/lib/site-packages/tensorflow/python/util/dispatch.py?line=198'>199</a>\u001b[0m \u001b[39m\"\"\"Call target, and fall back on dispatchers if there is a TypeError.\"\"\"\u001b[39;00m\n\u001b[0;32m    <a href='file:///c%3A/Users/Sepehr/Projects/usnet/usnet_venv/lib/site-packages/tensorflow/python/util/dispatch.py?line=199'>200</a>\u001b[0m \u001b[39mtry\u001b[39;00m:\n\u001b[1;32m--> <a href='file:///c%3A/Users/Sepehr/Projects/usnet/usnet_venv/lib/site-packages/tensorflow/python/util/dispatch.py?line=200'>201</a>\u001b[0m   \u001b[39mreturn\u001b[39;00m target(\u001b[39m*\u001b[39;49margs, \u001b[39m*\u001b[39;49m\u001b[39m*\u001b[39;49mkwargs)\n\u001b[0;32m    <a href='file:///c%3A/Users/Sepehr/Projects/usnet/usnet_venv/lib/site-packages/tensorflow/python/util/dispatch.py?line=201'>202</a>\u001b[0m \u001b[39mexcept\u001b[39;00m (\u001b[39mTypeError\u001b[39;00m, \u001b[39mValueError\u001b[39;00m):\n\u001b[0;32m    <a href='file:///c%3A/Users/Sepehr/Projects/usnet/usnet_venv/lib/site-packages/tensorflow/python/util/dispatch.py?line=202'>203</a>\u001b[0m   \u001b[39m# Note: convert_to_eager_tensor currently raises a ValueError, not a\u001b[39;00m\n\u001b[0;32m    <a href='file:///c%3A/Users/Sepehr/Projects/usnet/usnet_venv/lib/site-packages/tensorflow/python/util/dispatch.py?line=203'>204</a>\u001b[0m   \u001b[39m# TypeError, when given unexpected types.  So we need to catch both.\u001b[39;00m\n\u001b[0;32m    <a href='file:///c%3A/Users/Sepehr/Projects/usnet/usnet_venv/lib/site-packages/tensorflow/python/util/dispatch.py?line=204'>205</a>\u001b[0m   result \u001b[39m=\u001b[39m dispatch(wrapper, args, kwargs)\n",
      "File \u001b[1;32mc:\\Users\\Sepehr\\Projects\\usnet\\usnet_venv\\lib\\site-packages\\tensorflow\\python\\ops\\array_ops.py:1036\u001b[0m, in \u001b[0;36m_slice_helper\u001b[1;34m(tensor, slice_spec, var)\u001b[0m\n\u001b[0;32m   <a href='file:///c%3A/Users/Sepehr/Projects/usnet/usnet_venv/lib/site-packages/tensorflow/python/ops/array_ops.py?line=1033'>1034</a>\u001b[0m   var_empty \u001b[39m=\u001b[39m constant([], dtype\u001b[39m=\u001b[39mdtypes\u001b[39m.\u001b[39mint32)\n\u001b[0;32m   <a href='file:///c%3A/Users/Sepehr/Projects/usnet/usnet_venv/lib/site-packages/tensorflow/python/ops/array_ops.py?line=1034'>1035</a>\u001b[0m   packed_begin \u001b[39m=\u001b[39m packed_end \u001b[39m=\u001b[39m packed_strides \u001b[39m=\u001b[39m var_empty\n\u001b[1;32m-> <a href='file:///c%3A/Users/Sepehr/Projects/usnet/usnet_venv/lib/site-packages/tensorflow/python/ops/array_ops.py?line=1035'>1036</a>\u001b[0m \u001b[39mreturn\u001b[39;00m strided_slice(\n\u001b[0;32m   <a href='file:///c%3A/Users/Sepehr/Projects/usnet/usnet_venv/lib/site-packages/tensorflow/python/ops/array_ops.py?line=1036'>1037</a>\u001b[0m     tensor,\n\u001b[0;32m   <a href='file:///c%3A/Users/Sepehr/Projects/usnet/usnet_venv/lib/site-packages/tensorflow/python/ops/array_ops.py?line=1037'>1038</a>\u001b[0m     packed_begin,\n\u001b[0;32m   <a href='file:///c%3A/Users/Sepehr/Projects/usnet/usnet_venv/lib/site-packages/tensorflow/python/ops/array_ops.py?line=1038'>1039</a>\u001b[0m     packed_end,\n\u001b[0;32m   <a href='file:///c%3A/Users/Sepehr/Projects/usnet/usnet_venv/lib/site-packages/tensorflow/python/ops/array_ops.py?line=1039'>1040</a>\u001b[0m     packed_strides,\n\u001b[0;32m   <a href='file:///c%3A/Users/Sepehr/Projects/usnet/usnet_venv/lib/site-packages/tensorflow/python/ops/array_ops.py?line=1040'>1041</a>\u001b[0m     begin_mask\u001b[39m=\u001b[39;49mbegin_mask,\n\u001b[0;32m   <a href='file:///c%3A/Users/Sepehr/Projects/usnet/usnet_venv/lib/site-packages/tensorflow/python/ops/array_ops.py?line=1041'>1042</a>\u001b[0m     end_mask\u001b[39m=\u001b[39;49mend_mask,\n\u001b[0;32m   <a href='file:///c%3A/Users/Sepehr/Projects/usnet/usnet_venv/lib/site-packages/tensorflow/python/ops/array_ops.py?line=1042'>1043</a>\u001b[0m     shrink_axis_mask\u001b[39m=\u001b[39;49mshrink_axis_mask,\n\u001b[0;32m   <a href='file:///c%3A/Users/Sepehr/Projects/usnet/usnet_venv/lib/site-packages/tensorflow/python/ops/array_ops.py?line=1043'>1044</a>\u001b[0m     new_axis_mask\u001b[39m=\u001b[39;49mnew_axis_mask,\n\u001b[0;32m   <a href='file:///c%3A/Users/Sepehr/Projects/usnet/usnet_venv/lib/site-packages/tensorflow/python/ops/array_ops.py?line=1044'>1045</a>\u001b[0m     ellipsis_mask\u001b[39m=\u001b[39;49mellipsis_mask,\n\u001b[0;32m   <a href='file:///c%3A/Users/Sepehr/Projects/usnet/usnet_venv/lib/site-packages/tensorflow/python/ops/array_ops.py?line=1045'>1046</a>\u001b[0m     var\u001b[39m=\u001b[39;49mvar,\n\u001b[0;32m   <a href='file:///c%3A/Users/Sepehr/Projects/usnet/usnet_venv/lib/site-packages/tensorflow/python/ops/array_ops.py?line=1046'>1047</a>\u001b[0m     name\u001b[39m=\u001b[39;49mname)\n",
      "File \u001b[1;32mc:\\Users\\Sepehr\\Projects\\usnet\\usnet_venv\\lib\\site-packages\\tensorflow\\python\\util\\dispatch.py:201\u001b[0m, in \u001b[0;36madd_dispatch_support.<locals>.wrapper\u001b[1;34m(*args, **kwargs)\u001b[0m\n\u001b[0;32m    <a href='file:///c%3A/Users/Sepehr/Projects/usnet/usnet_venv/lib/site-packages/tensorflow/python/util/dispatch.py?line=198'>199</a>\u001b[0m \u001b[39m\"\"\"Call target, and fall back on dispatchers if there is a TypeError.\"\"\"\u001b[39;00m\n\u001b[0;32m    <a href='file:///c%3A/Users/Sepehr/Projects/usnet/usnet_venv/lib/site-packages/tensorflow/python/util/dispatch.py?line=199'>200</a>\u001b[0m \u001b[39mtry\u001b[39;00m:\n\u001b[1;32m--> <a href='file:///c%3A/Users/Sepehr/Projects/usnet/usnet_venv/lib/site-packages/tensorflow/python/util/dispatch.py?line=200'>201</a>\u001b[0m   \u001b[39mreturn\u001b[39;00m target(\u001b[39m*\u001b[39;49margs, \u001b[39m*\u001b[39;49m\u001b[39m*\u001b[39;49mkwargs)\n\u001b[0;32m    <a href='file:///c%3A/Users/Sepehr/Projects/usnet/usnet_venv/lib/site-packages/tensorflow/python/util/dispatch.py?line=201'>202</a>\u001b[0m \u001b[39mexcept\u001b[39;00m (\u001b[39mTypeError\u001b[39;00m, \u001b[39mValueError\u001b[39;00m):\n\u001b[0;32m    <a href='file:///c%3A/Users/Sepehr/Projects/usnet/usnet_venv/lib/site-packages/tensorflow/python/util/dispatch.py?line=202'>203</a>\u001b[0m   \u001b[39m# Note: convert_to_eager_tensor currently raises a ValueError, not a\u001b[39;00m\n\u001b[0;32m    <a href='file:///c%3A/Users/Sepehr/Projects/usnet/usnet_venv/lib/site-packages/tensorflow/python/util/dispatch.py?line=203'>204</a>\u001b[0m   \u001b[39m# TypeError, when given unexpected types.  So we need to catch both.\u001b[39;00m\n\u001b[0;32m    <a href='file:///c%3A/Users/Sepehr/Projects/usnet/usnet_venv/lib/site-packages/tensorflow/python/util/dispatch.py?line=204'>205</a>\u001b[0m   result \u001b[39m=\u001b[39m dispatch(wrapper, args, kwargs)\n",
      "File \u001b[1;32mc:\\Users\\Sepehr\\Projects\\usnet\\usnet_venv\\lib\\site-packages\\tensorflow\\python\\ops\\array_ops.py:1209\u001b[0m, in \u001b[0;36mstrided_slice\u001b[1;34m(input_, begin, end, strides, begin_mask, end_mask, ellipsis_mask, new_axis_mask, shrink_axis_mask, var, name)\u001b[0m\n\u001b[0;32m   <a href='file:///c%3A/Users/Sepehr/Projects/usnet/usnet_venv/lib/site-packages/tensorflow/python/ops/array_ops.py?line=1205'>1206</a>\u001b[0m \u001b[39mif\u001b[39;00m strides \u001b[39mis\u001b[39;00m \u001b[39mNone\u001b[39;00m:\n\u001b[0;32m   <a href='file:///c%3A/Users/Sepehr/Projects/usnet/usnet_venv/lib/site-packages/tensorflow/python/ops/array_ops.py?line=1206'>1207</a>\u001b[0m   strides \u001b[39m=\u001b[39m ones_like(begin)\n\u001b[1;32m-> <a href='file:///c%3A/Users/Sepehr/Projects/usnet/usnet_venv/lib/site-packages/tensorflow/python/ops/array_ops.py?line=1208'>1209</a>\u001b[0m op \u001b[39m=\u001b[39m gen_array_ops\u001b[39m.\u001b[39;49mstrided_slice(\n\u001b[0;32m   <a href='file:///c%3A/Users/Sepehr/Projects/usnet/usnet_venv/lib/site-packages/tensorflow/python/ops/array_ops.py?line=1209'>1210</a>\u001b[0m     \u001b[39minput\u001b[39;49m\u001b[39m=\u001b[39;49minput_,\n\u001b[0;32m   <a href='file:///c%3A/Users/Sepehr/Projects/usnet/usnet_venv/lib/site-packages/tensorflow/python/ops/array_ops.py?line=1210'>1211</a>\u001b[0m     begin\u001b[39m=\u001b[39;49mbegin,\n\u001b[0;32m   <a href='file:///c%3A/Users/Sepehr/Projects/usnet/usnet_venv/lib/site-packages/tensorflow/python/ops/array_ops.py?line=1211'>1212</a>\u001b[0m     end\u001b[39m=\u001b[39;49mend,\n\u001b[0;32m   <a href='file:///c%3A/Users/Sepehr/Projects/usnet/usnet_venv/lib/site-packages/tensorflow/python/ops/array_ops.py?line=1212'>1213</a>\u001b[0m     strides\u001b[39m=\u001b[39;49mstrides,\n\u001b[0;32m   <a href='file:///c%3A/Users/Sepehr/Projects/usnet/usnet_venv/lib/site-packages/tensorflow/python/ops/array_ops.py?line=1213'>1214</a>\u001b[0m     name\u001b[39m=\u001b[39;49mname,\n\u001b[0;32m   <a href='file:///c%3A/Users/Sepehr/Projects/usnet/usnet_venv/lib/site-packages/tensorflow/python/ops/array_ops.py?line=1214'>1215</a>\u001b[0m     begin_mask\u001b[39m=\u001b[39;49mbegin_mask,\n\u001b[0;32m   <a href='file:///c%3A/Users/Sepehr/Projects/usnet/usnet_venv/lib/site-packages/tensorflow/python/ops/array_ops.py?line=1215'>1216</a>\u001b[0m     end_mask\u001b[39m=\u001b[39;49mend_mask,\n\u001b[0;32m   <a href='file:///c%3A/Users/Sepehr/Projects/usnet/usnet_venv/lib/site-packages/tensorflow/python/ops/array_ops.py?line=1216'>1217</a>\u001b[0m     ellipsis_mask\u001b[39m=\u001b[39;49mellipsis_mask,\n\u001b[0;32m   <a href='file:///c%3A/Users/Sepehr/Projects/usnet/usnet_venv/lib/site-packages/tensorflow/python/ops/array_ops.py?line=1217'>1218</a>\u001b[0m     new_axis_mask\u001b[39m=\u001b[39;49mnew_axis_mask,\n\u001b[0;32m   <a href='file:///c%3A/Users/Sepehr/Projects/usnet/usnet_venv/lib/site-packages/tensorflow/python/ops/array_ops.py?line=1218'>1219</a>\u001b[0m     shrink_axis_mask\u001b[39m=\u001b[39;49mshrink_axis_mask)\n\u001b[0;32m   <a href='file:///c%3A/Users/Sepehr/Projects/usnet/usnet_venv/lib/site-packages/tensorflow/python/ops/array_ops.py?line=1220'>1221</a>\u001b[0m parent_name \u001b[39m=\u001b[39m name\n\u001b[0;32m   <a href='file:///c%3A/Users/Sepehr/Projects/usnet/usnet_venv/lib/site-packages/tensorflow/python/ops/array_ops.py?line=1222'>1223</a>\u001b[0m \u001b[39mif\u001b[39;00m \u001b[39mnot\u001b[39;00m (var \u001b[39mis\u001b[39;00m \u001b[39mNone\u001b[39;00m \u001b[39mand\u001b[39;00m \u001b[39misinstance\u001b[39m(op, ops\u001b[39m.\u001b[39mEagerTensor)):\n",
      "File \u001b[1;32mc:\\Users\\Sepehr\\Projects\\usnet\\usnet_venv\\lib\\site-packages\\tensorflow\\python\\ops\\gen_array_ops.py:10446\u001b[0m, in \u001b[0;36mstrided_slice\u001b[1;34m(input, begin, end, strides, begin_mask, end_mask, ellipsis_mask, new_axis_mask, shrink_axis_mask, name)\u001b[0m\n\u001b[0;32m  <a href='file:///c%3A/Users/Sepehr/Projects/usnet/usnet_venv/lib/site-packages/tensorflow/python/ops/gen_array_ops.py?line=10443'>10444</a>\u001b[0m   \u001b[39mreturn\u001b[39;00m _result\n\u001b[0;32m  <a href='file:///c%3A/Users/Sepehr/Projects/usnet/usnet_venv/lib/site-packages/tensorflow/python/ops/gen_array_ops.py?line=10444'>10445</a>\u001b[0m \u001b[39mexcept\u001b[39;00m _core\u001b[39m.\u001b[39m_NotOkStatusException \u001b[39mas\u001b[39;00m e:\n\u001b[1;32m> <a href='file:///c%3A/Users/Sepehr/Projects/usnet/usnet_venv/lib/site-packages/tensorflow/python/ops/gen_array_ops.py?line=10445'>10446</a>\u001b[0m   _ops\u001b[39m.\u001b[39;49mraise_from_not_ok_status(e, name)\n\u001b[0;32m  <a href='file:///c%3A/Users/Sepehr/Projects/usnet/usnet_venv/lib/site-packages/tensorflow/python/ops/gen_array_ops.py?line=10446'>10447</a>\u001b[0m \u001b[39mexcept\u001b[39;00m _core\u001b[39m.\u001b[39m_FallbackException:\n\u001b[0;32m  <a href='file:///c%3A/Users/Sepehr/Projects/usnet/usnet_venv/lib/site-packages/tensorflow/python/ops/gen_array_ops.py?line=10447'>10448</a>\u001b[0m   \u001b[39mpass\u001b[39;00m\n",
      "File \u001b[1;32mc:\\Users\\Sepehr\\Projects\\usnet\\usnet_venv\\lib\\site-packages\\tensorflow\\python\\framework\\ops.py:6862\u001b[0m, in \u001b[0;36mraise_from_not_ok_status\u001b[1;34m(e, name)\u001b[0m\n\u001b[0;32m   <a href='file:///c%3A/Users/Sepehr/Projects/usnet/usnet_venv/lib/site-packages/tensorflow/python/framework/ops.py?line=6859'>6860</a>\u001b[0m message \u001b[39m=\u001b[39m e\u001b[39m.\u001b[39mmessage \u001b[39m+\u001b[39m (\u001b[39m\"\u001b[39m\u001b[39m name: \u001b[39m\u001b[39m\"\u001b[39m \u001b[39m+\u001b[39m name \u001b[39mif\u001b[39;00m name \u001b[39mis\u001b[39;00m \u001b[39mnot\u001b[39;00m \u001b[39mNone\u001b[39;00m \u001b[39melse\u001b[39;00m \u001b[39m\"\u001b[39m\u001b[39m\"\u001b[39m)\n\u001b[0;32m   <a href='file:///c%3A/Users/Sepehr/Projects/usnet/usnet_venv/lib/site-packages/tensorflow/python/framework/ops.py?line=6860'>6861</a>\u001b[0m \u001b[39m# pylint: disable=protected-access\u001b[39;00m\n\u001b[1;32m-> <a href='file:///c%3A/Users/Sepehr/Projects/usnet/usnet_venv/lib/site-packages/tensorflow/python/framework/ops.py?line=6861'>6862</a>\u001b[0m six\u001b[39m.\u001b[39;49mraise_from(core\u001b[39m.\u001b[39;49m_status_to_exception(e\u001b[39m.\u001b[39;49mcode, message), \u001b[39mNone\u001b[39;49;00m)\n",
      "File \u001b[1;32m<string>:3\u001b[0m, in \u001b[0;36mraise_from\u001b[1;34m(value, from_value)\u001b[0m\n",
      "\u001b[1;31mInvalidArgumentError\u001b[0m: slice index 3 of dimension 2 out of bounds. [Op:StridedSlice] name: strided_slice/"
     ]
    },
    {
     "data": {
      "image/png": "[encoded data removed]",
      "text/plain": [
       "<Figure size 1080x1080 with 1 Axes>"
      ]
     },
     "metadata": {
      "needs_background": "light"
     },
     "output_type": "display_data"
    }
   ],
   "source": [
    "def display(display_list):\n",
    "    plt.figure(figsize=(15, 15))\n",
    "\n",
    "    title = ['Input Image', 'True Mask', 'Predicted Mask']\n",
    "\n",
    "    for i in range(len(display_list)):\n",
    "        print(display_list[i].shape)\n",
    "        plt.subplot(1, len(display_list), i+1)\n",
    "        plt.title(title[i])\n",
    "        plt.imshow(tf.squeeze(display_list[i][:, :, 3]))\n",
    "        plt.axis('off')\n",
    "    plt.show()\n",
    "\n",
    "\n",
    "for images, masks in train_ds.take(1):\n",
    "    print(images.shape)\n",
    "    display([images, masks])"
   ]
  },
  {
   "cell_type": "markdown",
   "id": "53ecdb81",
   "metadata": {},
   "source": []
  },
  {
   "cell_type": "code",
   "execution_count": 48,
   "id": "5be84417-7e26-456a-b65f-ae58313476dd",
   "metadata": {},
   "outputs": [],
   "source": [
    "BATCH_SIZE = 64\n",
    "BUFFER_SIZE = 1000\n",
    "\n",
    "\n",
    "train_ds = (\n",
    "    train_ds\n",
    "      .cache()\n",
    "      .shuffle(BUFFER_SIZE)\n",
    "      .batch(BATCH_SIZE)\n",
    "      .prefetch(buffer_size=tf.data.AUTOTUNE)\n",
    "    )\n",
    "\n",
    "\n",
    "train_ae_ds = (\n",
    "    train_ae_ds\n",
    "      .cache()\n",
    "      .shuffle(BUFFER_SIZE)\n",
    "      .batch(BATCH_SIZE)\n",
    "      .prefetch(buffer_size=tf.data.AUTOTUNE)\n",
    "    )\n",
    "\n",
    "\n",
    "validation_ds = validation_ds.batch(BATCH_SIZE)\n",
    "validation_ae_ds = validation_ae_ds.batch(BATCH_SIZE)"
   ]
  },
  {
   "cell_type": "code",
   "execution_count": 17,
   "id": "fb693fee-2643-4515-9336-2041476edfb6",
   "metadata": {},
   "outputs": [
    {
     "data": {
      "text/plain": [
       "<PrefetchDataset shapes: ((None, 128, 128, None), (None, 128, 128, None)), types: (tf.float32, tf.float32)>"
      ]
     },
     "execution_count": 17,
     "metadata": {},
     "output_type": "execute_result"
    }
   ],
   "source": [
    "train_ds"
   ]
  },
  {
   "cell_type": "code",
   "execution_count": 18,
   "id": "3d28fd26-d633-4385-bff4-cf0e03cfda26",
   "metadata": {},
   "outputs": [
    {
     "name": "stdout",
     "output_type": "stream",
     "text": [
      "\u001b[33mWARNING: The directory '/home/ai/.cache/pip' or its parent directory is not owned or is not writable by the current user. The cache has been disabled. Check the permissions and owner of that directory. If executing pip with sudo, you should use sudo's -H flag.\u001b[0m\n",
      "Collecting git+https://github.com/tensorflow/examples.git\n",
      "  Cloning https://github.com/tensorflow/examples.git to /tmp/pip-req-build-ez5r64yl\n",
      "  Running command git clone -q https://github.com/tensorflow/examples.git /tmp/pip-req-build-ez5r64yl\n",
      "  Resolved https://github.com/tensorflow/examples.git to commit a9265a997d0410c431a292e3553646b3b655ea1f\n",
      "Requirement already satisfied: absl-py in /opt/conda/lib/python3.9/site-packages (from tensorflow-examples===a9265a997d0410c431a292e3553646b3b655ea1f-) (0.13.0)\n",
      "Requirement already satisfied: six in /opt/conda/lib/python3.9/site-packages (from tensorflow-examples===a9265a997d0410c431a292e3553646b3b655ea1f-) (1.15.0)\n",
      "\u001b[33mWARNING: Running pip as the 'root' user can result in broken permissions and conflicting behaviour with the system package manager. It is recommended to use a virtual environment instead: https://pip.pypa.io/warnings/venv\u001b[0m\n"
     ]
    }
   ],
   "source": [
    "%pip install git+https://github.com/tensorflow/examples.git"
   ]
  },
  {
   "cell_type": "code",
   "execution_count": 19,
   "id": "3cb8697b-96a3-4025-8a84-17de7de22207",
   "metadata": {},
   "outputs": [],
   "source": [
    "from tensorflow_examples.models.pix2pix import pix2pix\n",
    "\n",
    "from IPython.display import clear_output\n",
    "import matplotlib.pyplot as plt"
   ]
  },
  {
   "cell_type": "markdown",
   "id": "a711639b-e21b-4feb-9d2d-5d59ef794785",
   "metadata": {},
   "source": [
    "## Segmentation Model\n",
    "\n",
    "In this part we will try to exaclty define the U-Net model according to the article. As described in the article, the first part of our model is VGG-Net and the synthesizer part is 3D U-Net.\n",
    "\n",
    "\n",
    "VGG-Net Article:\n",
    ">K. Simonyan and A. Zisserman. (Sep. 2014). “Very deep convolutional networks for large-scale image recognition.” [Online]. Available: https://arxiv.org/abs/1409.1556\n",
    "\n",
    "3D U-Net:\n",
    ">O. Ronneberger, P. Fischer, and T. Brox, “U-net: Convolutional networks for biomedical image segmentation,” in Proc. Int. Conf. MICCAI, 2015, pp. 234–241."
   ]
  },
  {
   "cell_type": "code",
   "execution_count": 23,
   "id": "0421b30b-dd0f-4be9-a0c1-f919f2c2d135",
   "metadata": {},
   "outputs": [],
   "source": [
    "base_model = tf.keras.applications.vgg16.VGG16(input_shape=[128, 128, 3], include_top=False, weights='data/datasets/vgg16_weights_tf_dim_ordering_tf_kernels_notop.h5')\n",
    "\n",
    "\n",
    "layer_names = [\n",
    "    'block1_conv2',\n",
    "    'block2_conv2',\n",
    "    'block3_conv3',\n",
    "    'block4_conv3'\n",
    "]\n",
    "\n",
    "base_model_outputs = [base_model.get_layer(name).output for name in layer_names]\n",
    "\n",
    "# Create the feature extraction model\n",
    "down_stack = tf.keras.Model(inputs=base_model.input, outputs=base_model_outputs)\n",
    "\n",
    "down_stack.trainable = False"
   ]
  },
  {
   "cell_type": "code",
   "execution_count": 24,
   "id": "6f54f0e5-4aa3-4973-a84a-ab1b33effa38",
   "metadata": {},
   "outputs": [
    {
     "name": "stdout",
     "output_type": "stream",
     "text": [
      "Model: \"model\"\n",
      "_________________________________________________________________\n",
      "Layer (type)                 Output Shape              Param #   \n",
      "=================================================================\n",
      "input_1 (InputLayer)         [(None, 128, 128, 3)]     0         \n",
      "_________________________________________________________________\n",
      "block1_conv1 (Conv2D)        (None, 128, 128, 64)      1792      \n",
      "_________________________________________________________________\n",
      "block1_conv2 (Conv2D)        (None, 128, 128, 64)      36928     \n",
      "_________________________________________________________________\n",
      "block1_pool (MaxPooling2D)   (None, 64, 64, 64)        0         \n",
      "_________________________________________________________________\n",
      "block2_conv1 (Conv2D)        (None, 64, 64, 128)       73856     \n",
      "_________________________________________________________________\n",
      "block2_conv2 (Conv2D)        (None, 64, 64, 128)       147584    \n",
      "_________________________________________________________________\n",
      "block2_pool (MaxPooling2D)   (None, 32, 32, 128)       0         \n",
      "_________________________________________________________________\n",
      "block3_conv1 (Conv2D)        (None, 32, 32, 256)       295168    \n",
      "_________________________________________________________________\n",
      "block3_conv2 (Conv2D)        (None, 32, 32, 256)       590080    \n",
      "_________________________________________________________________\n",
      "block3_conv3 (Conv2D)        (None, 32, 32, 256)       590080    \n",
      "_________________________________________________________________\n",
      "block3_pool (MaxPooling2D)   (None, 16, 16, 256)       0         \n",
      "_________________________________________________________________\n",
      "block4_conv1 (Conv2D)        (None, 16, 16, 512)       1180160   \n",
      "_________________________________________________________________\n",
      "block4_conv2 (Conv2D)        (None, 16, 16, 512)       2359808   \n",
      "_________________________________________________________________\n",
      "block4_conv3 (Conv2D)        (None, 16, 16, 512)       2359808   \n",
      "=================================================================\n",
      "Total params: 7,635,264\n",
      "Trainable params: 0\n",
      "Non-trainable params: 7,635,264\n",
      "_________________________________________________________________\n"
     ]
    }
   ],
   "source": [
    "down_stack.summary()"
   ]
  },
  {
   "cell_type": "code",
   "execution_count": 25,
   "id": "dd58f002-137a-4ab3-8da0-60978dd99b19",
   "metadata": {},
   "outputs": [],
   "source": [
    "from tensorflow_examples.models.pix2pix import pix2pix\n",
    "\n",
    "with tf.device('/GPU:0'):\n",
    "    up_stack = [\n",
    "        pix2pix.upsample(128, 3),  # 16x16 -> 32x32\n",
    "        pix2pix.upsample(64, 3),   # 32x32 -> 64x64\n",
    "    ]"
   ]
  },
  {
   "cell_type": "code",
   "execution_count": 26,
   "id": "75843a97-8814-4aba-8fb5-82e7488e0614",
   "metadata": {},
   "outputs": [],
   "source": [
    "def unet_model(output_channels:int):\n",
    "    \n",
    "    with tf.device('/GPU:0'):\n",
    "        inputs = tf.keras.layers.Input(shape=[128, 128, 3])\n",
    "\n",
    "        # Downsampling through the model\n",
    "        skips = down_stack(inputs)\n",
    "        x = skips[-1]\n",
    "        skips = reversed(skips[:-1])\n",
    "\n",
    "        # Upsampling and establishing the skip connections\n",
    "        for up, skip in zip(up_stack, skips):\n",
    "            x = up(x)\n",
    "            concat = tf.keras.layers.Concatenate()\n",
    "            x = concat([x, skip])\n",
    "\n",
    "        # This is the last layer of the model\n",
    "        last = tf.keras.layers.Conv2DTranspose(\n",
    "            filters=output_channels, kernel_size=3, strides=2,\n",
    "            padding='same')  #64x64 -> 128x128\n",
    "\n",
    "        x = last(x)\n",
    "\n",
    "    return tf.keras.Model(inputs=inputs, outputs=x)"
   ]
  },
  {
   "cell_type": "code",
   "execution_count": 20,
   "id": "9e1b4cfa-4a45-4039-9a54-cc87b06a8b7d",
   "metadata": {},
   "outputs": [],
   "source": [
    "from argparse import ArgumentError\n",
    "from email.mime import message\n",
    "import tensorflow as tf\n",
    "from metrics import DiceCoefficient"
   ]
  },
  {
   "cell_type": "code",
   "execution_count": 32,
   "id": "c6f896e3-056a-42e9-9a25-10a2bb7ac02d",
   "metadata": {},
   "outputs": [],
   "source": [
    "from tensorflow.keras.models import load_model\n",
    "\n",
    "\n",
    "# OUTPUT_CLASSES = 4\n",
    "\n",
    "# usnet = unet_model(output_channels=OUTPUT_CLASSES)\n",
    "usnet = load_model('usnet03', compile=False)\n",
    "usnet.compile(optimizer='adam',\n",
    "              loss=tf.keras.losses.SparseCategoricalCrossentropy(from_logits=True),\n",
    "              metrics=[\n",
    "                       DiceCoefficient(class_id=1, name = 'dice_class_1'),\n",
    "                       DiceCoefficient(class_id=2, name = 'dice_class_2'),\n",
    "                       DiceCoefficient(class_id=3, name = 'dice_class_3')\n",
    "                       ])"
   ]
  },
  {
   "cell_type": "code",
   "execution_count": 33,
   "id": "97c96615-27ee-438a-83c3-741d7f691e6e",
   "metadata": {},
   "outputs": [
    {
     "name": "stdout",
     "output_type": "stream",
     "text": [
      "Model: \"model_1\"\n",
      "__________________________________________________________________________________________________\n",
      "Layer (type)                    Output Shape         Param #     Connected to                     \n",
      "==================================================================================================\n",
      "input_2 (InputLayer)            [(None, 128, 128, 3) 0                                            \n",
      "__________________________________________________________________________________________________\n",
      "model (Functional)              [(None, 128, 128, 64 7635264     input_2[0][0]                    \n",
      "__________________________________________________________________________________________________\n",
      "sequential (Sequential)         (None, 32, 32, 128)  590336      model[0][3]                      \n",
      "__________________________________________________________________________________________________\n",
      "concatenate (Concatenate)       (None, 32, 32, 384)  0           sequential[0][0]                 \n",
      "                                                                 model[0][2]                      \n",
      "__________________________________________________________________________________________________\n",
      "sequential_1 (Sequential)       (None, 64, 64, 64)   221440      concatenate[0][0]                \n",
      "__________________________________________________________________________________________________\n",
      "concatenate_1 (Concatenate)     (None, 64, 64, 192)  0           sequential_1[0][0]               \n",
      "                                                                 model[0][1]                      \n",
      "__________________________________________________________________________________________________\n",
      "conv2d_transpose_2 (Conv2DTrans (None, 128, 128, 4)  6916        concatenate_1[0][0]              \n",
      "==================================================================================================\n",
      "Total params: 8,453,956\n",
      "Trainable params: 818,308\n",
      "Non-trainable params: 7,635,648\n",
      "__________________________________________________________________________________________________\n"
     ]
    }
   ],
   "source": [
    "usnet.summary()"
   ]
  },
  {
   "cell_type": "code",
   "execution_count": 31,
   "id": "adb19a01-1642-4b91-917a-8aff7380fa9f",
   "metadata": {},
   "outputs": [
    {
     "name": "stdout",
     "output_type": "stream",
     "text": [
      "('You must install pydot (`pip install pydot`) and install graphviz (see instructions at https://graphviz.gitlab.io/download/) ', 'for plot_model/model_to_dot to work.')\n"
     ]
    }
   ],
   "source": [
    "tf.keras.utils.plot_model(usnet)"
   ]
  },
  {
   "cell_type": "code",
   "execution_count": 23,
   "id": "a8a20f16-696b-48c9-8ed0-5198e4a65a7d",
   "metadata": {},
   "outputs": [
    {
     "name": "stdout",
     "output_type": "stream",
     "text": [
      "(128, 128, 1)\n"
     ]
    },
    {
     "name": "stderr",
     "output_type": "stream",
     "text": [
      "2022-03-04 15:00:24.738363: I tensorflow/stream_executor/cuda/cuda_dnn.cc:369] Loaded cuDNN version 8101\n",
      "2022-03-04 15:00:26.730828: I tensorflow/core/platform/default/subprocess.cc:304] Start cannot spawn child process: No such file or directory\n",
      "2022-03-04 15:00:26.732268: I tensorflow/core/platform/default/subprocess.cc:304] Start cannot spawn child process: No such file or directory\n",
      "2022-03-04 15:00:26.732324: W tensorflow/stream_executor/gpu/asm_compiler.cc:77] Couldn't get ptxas version string: Internal: Couldn't invoke ptxas --version\n",
      "2022-03-04 15:00:26.734069: I tensorflow/core/platform/default/subprocess.cc:304] Start cannot spawn child process: No such file or directory\n",
      "2022-03-04 15:00:26.734315: W tensorflow/stream_executor/gpu/redzone_allocator.cc:314] Internal: Failed to launch ptxas\n",
      "Relying on driver to perform ptx compilation. \n",
      "Modify $PATH to customize ptxas location.\n",
      "This message will be only logged once.\n"
     ]
    },
    {
     "data": {
      "image/png": "[encoded data removed]",
      "text/plain": [
       "<Figure size 1080x1080 with 3 Axes>"
      ]
     },
     "metadata": {
      "needs_background": "light"
     },
     "output_type": "display_data"
    }
   ],
   "source": [
    "def create_mask(pred_mask):\n",
    "    pred_mask = tf.argmax(pred_mask, axis=-1)\n",
    "    pred_mask = pred_mask[..., tf.newaxis]\n",
    "    return pred_mask[0]\n",
    "\n",
    "def show_predictions(dataset=None, num=1):\n",
    "    if dataset:\n",
    "        for image, mask in dataset.take(num):\n",
    "            pred_mask = usnet.predict(image)\n",
    "            display([image[0], mask[0], create_mask(pred_mask)])\n",
    "    else:\n",
    "        print(masks.shape)\n",
    "        display([images, masks,\n",
    "                 create_mask(usnet.predict(images[tf.newaxis, ...]))])\n",
    "    \n",
    "show_predictions()"
   ]
  },
  {
   "cell_type": "code",
   "execution_count": null,
   "id": "f7b48b40-65a8-46ea-99b5-e9cff92c677e",
   "metadata": {},
   "outputs": [],
   "source": [
    "class DisplayCallback(tf.keras.callbacks.Callback):\n",
    "    def on_epoch_end(self, epoch, logs=None):\n",
    "        clear_output(wait=True)\n",
    "        show_predictions()\n",
    "        print ('\\nSample Prediction after epoch {}\\n'.format(epoch+1))\n",
    "\n",
    "\n",
    "from tensorflow.keras.callbacks import TensorBoard\n",
    "\n",
    "\n",
    "tb = TensorBoard('logs/exp03')\n",
    "callbacks = [tb, DisplayCallback()]"
   ]
  },
  {
   "cell_type": "code",
   "execution_count": 34,
   "id": "aa74aa74-18b7-48b0-a8fc-9a5c24d86cc6",
   "metadata": {},
   "outputs": [
    {
     "name": "stdout",
     "output_type": "stream",
     "text": [
      "(128, 128, 1)\n"
     ]
    },
    {
     "data": {
      "image/png": "[encoded data removed]",
      "text/plain": [
       "<Figure size 1080x1080 with 3 Axes>"
      ]
     },
     "metadata": {
      "needs_background": "light"
     },
     "output_type": "display_data"
    },
    {
     "name": "stdout",
     "output_type": "stream",
     "text": [
      "\n",
      "Sample Prediction after epoch 100\n",
      "\n"
     ]
    }
   ],
   "source": [
    "EPOCHS = 100\n",
    "\n",
    "model_history = usnet.fit(train_ds, epochs=EPOCHS,\n",
    "                          callbacks=callbacks, validation_data = validation_ds)"
   ]
  },
  {
   "cell_type": "code",
   "execution_count": 35,
   "id": "2e05e089-2a81-4885-be87-41018b434028",
   "metadata": {},
   "outputs": [
    {
     "name": "stderr",
     "output_type": "stream",
     "text": [
      "2022-03-03 19:01:09.244286: W tensorflow/python/util/util.cc:348] Sets are not currently considered sequences, but this may change in the future, so consider avoiding using them.\n"
     ]
    },
    {
     "name": "stdout",
     "output_type": "stream",
     "text": [
      "INFO:tensorflow:Assets written to: usnet03/assets\n"
     ]
    }
   ],
   "source": [
    "usnet.save('usnet03')"
   ]
  },
  {
   "cell_type": "code",
   "execution_count": 30,
   "id": "7aa09f60-f539-44dd-af36-a3c3be271945",
   "metadata": {},
   "outputs": [],
   "source": [
    "\n",
    "def read_raw_image(image_path, target_size=(128, 128)):\n",
    "    imgfile = tf.io.read_file(image_path)\n",
    "    img_fileadd = tf.strings.split(image_path, '.')[0]\n",
    "    mhd_fileadd = tf.strings.join([img_fileadd, '.mhd'])\n",
    "    img_dims = read_mhd_data(mhd_fileadd)\n",
    "    def correct_dims(dims):\n",
    "        dims_correct = [dims[1], dims[0], dims[2]]\n",
    "        dims_correct = tf.stack(dims_correct, axis=0)\n",
    "        return dims_correct\n",
    "    imgbytes = tf.io.decode_raw(imgfile, out_type=tf.uint8)\n",
    "    img = tf.reshape(imgbytes, correct_dims(img_dims))\n",
    "    img = tf.cast(img, tf.float32)\n",
    "    img = (img - tf.math.reduce_min(img))/(tf.math.reduce_max(img) - tf.math.reduce_min(img))\n",
    "    if target_size:\n",
    "        img = tf.image.resize(img, target_size, method=tf.image.ResizeMethod.NEAREST_NEIGHBOR)\n",
    "    img = tf.repeat(img, 3, axis=2)\n",
    "    return img\n",
    "\n",
    "\n",
    "\n",
    "def read_mask_image(image_path, target_size=(128, 128)):\n",
    "    imgfile = tf.io.read_file(image_path)\n",
    "    img_fileadd = tf.strings.split(image_path, '.')[0]\n",
    "    mhd_fileadd = tf.strings.join([img_fileadd, '.mhd'])\n",
    "    img_dims = read_mhd_data(mhd_fileadd)\n",
    "    def correct_dims(dims):\n",
    "        dims_correct = [dims[1], dims[0], dims[2]]\n",
    "        dims_correct = tf.stack(dims_correct, axis=0)\n",
    "        return dims_correct\n",
    "    imgbytes = tf.io.decode_raw(imgfile, out_type=tf.uint8)\n",
    "    img = tf.reshape(imgbytes, correct_dims(img_dims))\n",
    "    img = tf.cast(img, tf.float32)\n",
    "    if target_size:\n",
    "        img = tf.image.resize(img, target_size, method=tf.image.ResizeMethod.NEAREST_NEIGHBOR)\n",
    "    return img\n",
    "\n",
    "\n",
    "\n",
    "def read_mhd_data(mhd_address):\n",
    "    file_metadata_string = tf.io.read_file(mhd_address)\n",
    "    print(file_metadata_string)\n",
    "    # Complete this function later\n",
    "    \n",
    "\n",
    "def read_image_and_mask(input_address, target_size=None):\n",
    "    image = read_raw_image(input_address, target_size=target_size)\n",
    "    mask_fileadd = tf.strings.split(input_address, '.')[0]\n",
    "    mask_fileadd = tf.strings.join([mask_fileadd, '_gt.raw'])\n",
    "    mask_fileadd = tf.squeeze(mask_fileadd)\n",
    "    mask = read_mask_image(mask_fileadd, target_size=target_size)\n",
    "    return (image, mask)\n",
    "\n",
    "\n",
    "def read_mhd_data(mhd_address):\n",
    "    mhd_data_file = tf.io.read_file(mhd_address)\n",
    "    mhd_lines = tf.strings.split(mhd_data_file, '\\n')\n",
    "    mhd_lines = tf.strings.split(mhd_lines, ' = ')\n",
    "    dimsize = mhd_lines[10][1]\n",
    "    dimsize = tf.strings.split(dimsize, ' ')\n",
    "    dimsize = tf.boolean_mask(dimsize, mask=tf.math.logical_not(tf.math.equal(dimsize, b'')))\n",
    "    #dimsize_new = tf.map_fn(tf.strings.to_number, dimsize)\n",
    "    dimsize = tf.strings.to_number(dimsize)\n",
    "    dimsize = tf.cast(dimsize, tf.int32)\n",
    "    #element_number_of_channels = tf.strings.to_number(mhd_lines[11][1])\n",
    "    return dimsize"
   ]
  },
  {
   "cell_type": "markdown",
   "id": "f64fadf0-c909-4f78-a9f1-b288544f417d",
   "metadata": {},
   "source": [
    "### Analyze model\n",
    "\n",
    "Now let's analyze our model. In order to do so, we will plot and see model performance, data by data and save them."
   ]
  },
  {
   "cell_type": "code",
   "execution_count": 25,
   "id": "4a1f50ec-f56f-45d6-81fa-6fa30b3b480d",
   "metadata": {},
   "outputs": [
    {
     "name": "stderr",
     "output_type": "stream",
     "text": [
      "100% (1600 of 1600) |####################| Elapsed Time: 0:16:52 Time:  0:16:52\n"
     ]
    }
   ],
   "source": [
    "path_structure = path.join(TRAIN_DATASET_PATH, r'*/*.raw')\n",
    "file_paths = glob(path_structure)\n",
    "train_images = list(filter(isimage, file_paths))\n",
    "train_images\n",
    "\n",
    "\n",
    "test_dice = DiceCoefficient(class_id=1, name = 'dice_class_1')\n",
    "\n",
    "\n",
    "with progressbar.ProgressBar(max_value=len(train_images)) as bar:\n",
    "    for step, image_file in enumerate(train_images):\n",
    "        test_dice.reset_state()\n",
    "        image, mask = read_image_and_mask(image_file)\n",
    "        name = path.basename(image_file).split('.')[0]\n",
    "        model_output = usnet.predict(image[tf.newaxis, ...])\n",
    "        test_dice.update_state(mask, model_output)\n",
    "        pred_mask = create_mask(model_output)\n",
    "        plt.figure(figsize=(9, 6), dpi=300)\n",
    "        plt.subplot(1, 3, 1)\n",
    "        plt.imshow(image)\n",
    "        plt.xticks([])\n",
    "        plt.yticks([])\n",
    "        plt.subplot(1, 3, 2)\n",
    "        plt.xticks([])\n",
    "        plt.yticks([]) \n",
    "        plt.imshow(image)\n",
    "        plt.imshow(mask, alpha=0.3)\n",
    "        plt.subplot(1, 3, 3)\n",
    "        plt.imshow(image)\n",
    "        plt.imshow(pred_mask, alpha=0.3)\n",
    "        plt.xticks([])\n",
    "        plt.yticks([])\n",
    "        plt.title(f'dice lv = {test_dice.result().numpy()}')\n",
    "        plt.savefig(path.join('train_images', name+'.jpg'))\n",
    "        plt.close()\n",
    "        bar.update(step)"
   ]
  },
  {
   "cell_type": "code",
   "execution_count": null,
   "id": "3640f0d5-64d8-400a-b1bc-bd4d6c58df64",
   "metadata": {},
   "outputs": [],
   "source": [
    "!tar -cvf train_images.tar train_images/"
   ]
  },
  {
   "cell_type": "code",
   "execution_count": 28,
   "id": "7ebcb413-b730-4d4c-92a6-5241acafa60e",
   "metadata": {},
   "outputs": [
    {
     "name": "stderr",
     "output_type": "stream",
     "text": [
      "100% (200 of 200) |######################| Elapsed Time: 0:02:38 Time:  0:02:38\n"
     ]
    }
   ],
   "source": [
    "path_structure = path.join(VALIDATION_DATASET_PATH, r'*/*.raw')\n",
    "file_paths = glob(path_structure)\n",
    "valid_images = list(filter(isimage, file_paths))\n",
    "valid_images\n",
    "\n",
    "\n",
    "test_dice = DiceCoefficient(class_id=1, name = 'dice_class_1')\n",
    "\n",
    "\n",
    "with progressbar.ProgressBar(max_value=len(valid_images)) as bar:\n",
    "    for step, image_file in enumerate(valid_images):\n",
    "        test_dice.reset_state()\n",
    "        image, mask = read_image_and_mask(image_file)\n",
    "        name = path.basename(image_file).split('.')[0]\n",
    "        model_output = model.predict(image[tf.newaxis, ...])\n",
    "        test_dice.update_state(mask, model_output)\n",
    "        pred_mask = create_mask(model_output)\n",
    "        plt.figure(figsize=(9, 6), dpi=300)\n",
    "        plt.subplot(1, 3, 1)\n",
    "        plt.imshow(image)\n",
    "        plt.xticks([])\n",
    "        plt.yticks([])\n",
    "        plt.subplot(1, 3, 2)\n",
    "        plt.xticks([])\n",
    "        plt.yticks([]) \n",
    "        plt.imshow(image)\n",
    "        plt.imshow(mask, alpha=0.3)\n",
    "        plt.subplot(1, 3, 3)\n",
    "        plt.imshow(image)\n",
    "        plt.imshow(pred_mask, alpha=0.3)\n",
    "        plt.xticks([])\n",
    "        plt.yticks([])\n",
    "        plt.title(f'dice lv = {test_dice.result().numpy()}')\n",
    "        plt.savefig(path.join('valid_images', name+'.jpg'))\n",
    "        plt.close()\n",
    "        bar.update(step)"
   ]
  },
  {
   "cell_type": "code",
   "execution_count": null,
   "id": "3b559e34-f5b5-4fcc-84af-9d9df08bc90e",
   "metadata": {},
   "outputs": [],
   "source": [
    "!tar -cvf valid_images.tar valid_images/"
   ]
  },
  {
   "cell_type": "code",
   "execution_count": null,
   "id": "1ded3e27-acee-41e2-bc3a-56adac33a1cd",
   "metadata": {},
   "outputs": [],
   "source": [
    "with progressbar.ProgressBar(max_value=len(valid_images)) as bar:\n",
    "    for step, image_file in enumerate(valid_images):\n",
    "        test_dice.reset_state()\n",
    "        image, mask = read_image_and_mask(image_file, target_size=(128, 128))\n",
    "        name = path.basename(image_file).split('.')[0]\n",
    "        model_output = model.predict(image[tf.newaxis, ...])\n",
    "        test_dice.update_state(mask, model_output)\n",
    "        if test_dice.result().numpy()<0.7:\n",
    "            image, mask = read_image_and_mask(image_file)\n",
    "            plt.figure(dpi=300)\n",
    "            plt.imshow(image)\n",
    "            plt.xticks([])\n",
    "            plt.yticks([])\n",
    "            plt.savefig(path.join('low_dice_images', name+'.png'))\n",
    "        bar.update(step)"
   ]
  },
  {
   "cell_type": "code",
   "execution_count": null,
   "id": "1ac62903-1e18-4665-9cd0-4f05758cdde8",
   "metadata": {},
   "outputs": [],
   "source": [
    "!tar -cvf low_dice_images.tar low_dice_images/"
   ]
  },
  {
   "cell_type": "code",
   "execution_count": null,
   "id": "9baaedc5-4acc-424a-962f-86de369813b3",
   "metadata": {},
   "outputs": [],
   "source": [
    "!tar -cvf logs.tar logs/"
   ]
  },
  {
   "cell_type": "code",
   "execution_count": null,
   "id": "404d9c24-420c-412b-a2fa-f9bbd3bfe09a",
   "metadata": {},
   "outputs": [],
   "source": [
    "!tar -cvf usnet03.tar usnet03/"
   ]
  },
  {
   "cell_type": "markdown",
   "id": "2ce85c90-951a-4a1a-88c9-96bda5e1ac4c",
   "metadata": {},
   "source": [
    "## Add Auto-Encoder\n",
    "\n",
    "\n",
    "In this part we will create an auto-encoder and add it's loss as a regularization term to our network"
   ]
  },
  {
   "cell_type": "code",
   "execution_count": 49,
   "id": "739e9705-63c3-4a45-b720-c6f68adf88ac",
   "metadata": {},
   "outputs": [
    {
     "name": "stdout",
     "output_type": "stream",
     "text": [
      "Model: \"model\"\n",
      "_________________________________________________________________\n",
      "Layer (type)                 Output Shape              Param #   \n",
      "=================================================================\n",
      "label_map_in (InputLayer)    [(None, 128, 128, 4)]     0         \n",
      "_________________________________________________________________\n",
      "conv2d (Conv2D)              (None, 128, 128, 4)       148       \n",
      "_________________________________________________________________\n",
      "max_pooling2d (MaxPooling2D) (None, 64, 64, 4)         0         \n",
      "_________________________________________________________________\n",
      "conv2d_1 (Conv2D)            (None, 64, 64, 8)         296       \n",
      "_________________________________________________________________\n",
      "max_pooling2d_1 (MaxPooling2 (None, 32, 32, 8)         0         \n",
      "_________________________________________________________________\n",
      "conv2d_2 (Conv2D)            (None, 32, 32, 16)        1168      \n",
      "_________________________________________________________________\n",
      "max_pooling2d_2 (MaxPooling2 (None, 16, 16, 16)        0         \n",
      "_________________________________________________________________\n",
      "flatten (Flatten)            (None, 4096)              0         \n",
      "_________________________________________________________________\n",
      "dense (Dense)                (None, 64)                262208    \n",
      "=================================================================\n",
      "Total params: 263,820\n",
      "Trainable params: 263,820\n",
      "Non-trainable params: 0\n",
      "_________________________________________________________________\n"
     ]
    }
   ],
   "source": [
    "from tensorflow.keras.layers import Input, Conv2D, MaxPool2D, Flatten, Dense\n",
    "from tensorflow.keras.models import Model\n",
    "\n",
    "def build_encoder(output_dim=64, input_dim=(128, 128, 4)):\n",
    "    label_map = Input(input_dim, name='label_map_in')\n",
    "    e = Conv2D(4, 3, activation='relu', padding='same')(label_map)\n",
    "    e = MaxPool2D(2)(e)\n",
    "    e = Conv2D(8, 3, activation='relu', padding='same')(e)\n",
    "    e = MaxPool2D(2)(e)\n",
    "    e = Conv2D(16, 3, activation='relu', padding='same')(e)\n",
    "    e = MaxPool2D(2)(e)\n",
    "    e = Flatten()(e)\n",
    "    codes = Dense(64, activation='sigmoid')(e)\n",
    "    return Model(inputs=label_map, outputs=codes)\n",
    "\n",
    "encoder = build_encoder()\n",
    "encoder.summary()\n",
    "    "
   ]
  },
  {
   "cell_type": "code",
   "execution_count": 50,
   "id": "04263585-6978-43e1-90fe-3d4133b7a68a",
   "metadata": {},
   "outputs": [
    {
     "name": "stdout",
     "output_type": "stream",
     "text": [
      "Model: \"model_1\"\n",
      "_________________________________________________________________\n",
      "Layer (type)                 Output Shape              Param #   \n",
      "=================================================================\n",
      "input_1 (InputLayer)         [(None, 64)]              0         \n",
      "_________________________________________________________________\n",
      "dense_1 (Dense)              (None, 4096)              266240    \n",
      "_________________________________________________________________\n",
      "reshape (Reshape)            (None, 16, 16, 16)        0         \n",
      "_________________________________________________________________\n",
      "up_sampling2d (UpSampling2D) (None, 32, 32, 16)        0         \n",
      "_________________________________________________________________\n",
      "conv2d_3 (Conv2D)            (None, 32, 32, 16)        1040      \n",
      "_________________________________________________________________\n",
      "up_sampling2d_1 (UpSampling2 (None, 64, 64, 16)        0         \n",
      "_________________________________________________________________\n",
      "conv2d_4 (Conv2D)            (None, 64, 64, 8)         520       \n",
      "_________________________________________________________________\n",
      "up_sampling2d_2 (UpSampling2 (None, 128, 128, 8)       0         \n",
      "_________________________________________________________________\n",
      "conv2d_5 (Conv2D)            (None, 128, 128, 4)       132       \n",
      "=================================================================\n",
      "Total params: 267,932\n",
      "Trainable params: 267,932\n",
      "Non-trainable params: 0\n",
      "_________________________________________________________________\n"
     ]
    }
   ],
   "source": [
    "from tensorflow.keras.layers import Conv2DTranspose, Reshape, UpSampling2D\n",
    "\n",
    "def build_decoder(input_dims=64):\n",
    "    codes = Input(input_dims)\n",
    "    d = Dense(16*16*16, activation='relu')(codes)\n",
    "    d = Reshape((16, 16, 16))(d)\n",
    "    d = UpSampling2D((2, 2))(d)\n",
    "    d = Conv2D(16, 2, padding='same')(d)\n",
    "    d = UpSampling2D((2, 2))(d)\n",
    "    d = Conv2D(8, 2, padding='same')(d)\n",
    "    d = UpSampling2D((2, 2))(d)\n",
    "    d = Conv2D(4, 2, padding='same')(d)\n",
    "    return Model(inputs=codes, outputs=d)\n",
    "\n",
    "decoder = build_decoder()\n",
    "decoder.summary()"
   ]
  },
  {
   "cell_type": "code",
   "execution_count": 51,
   "id": "b3e3bef7-9c30-4f45-a88e-043464703c00",
   "metadata": {},
   "outputs": [
    {
     "name": "stdout",
     "output_type": "stream",
     "text": [
      "Model: \"model_2\"\n",
      "_________________________________________________________________\n",
      "Layer (type)                 Output Shape              Param #   \n",
      "=================================================================\n",
      "input_2 (InputLayer)         [(None, 128, 128, 4)]     0         \n",
      "_________________________________________________________________\n",
      "model (Functional)           (None, 64)                263820    \n",
      "_________________________________________________________________\n",
      "model_1 (Functional)         (None, 128, 128, 4)       267932    \n",
      "=================================================================\n",
      "Total params: 531,752\n",
      "Trainable params: 531,752\n",
      "Non-trainable params: 0\n",
      "_________________________________________________________________\n"
     ]
    }
   ],
   "source": [
    "ae_input = Input((128, 128, 4))\n",
    "codes = encoder(ae_input)\n",
    "rconst = decoder(codes)\n",
    "ae_model = Model(inputs = ae_input, outputs=rconst)\n",
    "ae_model.summary()\n"
   ]
  },
  {
   "cell_type": "code",
   "execution_count": 54,
   "id": "6e6641f2",
   "metadata": {},
   "outputs": [
    {
     "name": "stdout",
     "output_type": "stream",
     "text": [
      "Epoch 1/5\n",
      "25/25 [==============================] - 39s 695ms/step - loss: 0.2577 - val_loss: 0.2060\n",
      "Epoch 2/5\n",
      "25/25 [==============================] - 9s 349ms/step - loss: 0.1681 - val_loss: 0.1338\n",
      "Epoch 3/5\n",
      "25/25 [==============================] - 9s 351ms/step - loss: 0.1207 - val_loss: 0.1178\n",
      "Epoch 4/5\n",
      "25/25 [==============================] - 9s 363ms/step - loss: 0.1073 - val_loss: 0.1100\n",
      "Epoch 5/5\n",
      "25/25 [==============================] - 9s 349ms/step - loss: 0.0996 - val_loss: 0.1057\n"
     ]
    },
    {
     "data": {
      "text/plain": [
       "<tensorflow.python.keras.callbacks.History at 0x137be8491c0>"
      ]
     },
     "execution_count": 54,
     "metadata": {},
     "output_type": "execute_result"
    }
   ],
   "source": [
    "ae_model.compile(loss = tf.keras.losses.MeanAbsoluteError(), optimizer='adam')\n",
    "\n",
    "ae_model.fit(train_ae_ds, epochs=5, validation_data=validation_ae_ds)"
   ]
  },
  {
   "cell_type": "code",
   "execution_count": 59,
   "id": "12828c62",
   "metadata": {},
   "outputs": [
    {
     "data": {
      "image/png": "[encoded data removed]",
      "text/plain": [
       "<Figure size 432x288 with 2 Axes>"
      ]
     },
     "metadata": {
      "needs_background": "light"
     },
     "output_type": "display_data"
    }
   ],
   "source": [
    "for image_in, image_tar in train_ae_ds.take(1):\n",
    "    preds = ae_model.predict(image_in)\n",
    "    plt.figure()\n",
    "    plt.subplot(1, 2, 1)\n",
    "    plt.imshow(tf.argmax(image_tar[2], axis=-1))\n",
    "    plt.subplot(1, 2, 2)\n",
    "    plt.imshow(tf.argmax(preds[2], axis=-1))\n",
    "    plt.show()"
   ]
  }
 ],
 "metadata": {
  "kernelspec": {
   "display_name": "Python 3 (ipykernel)",
   "language": "python",
   "name": "python3"
  },
  "language_info": {
   "codemirror_mode": {
    "name": "ipython",
    "version": 3
   },
   "file_extension": ".py",
   "mimetype": "text/x-python",
   "name": "python",
   "nbconvert_exporter": "python",
   "pygments_lexer": "ipython3",
   "version": "3.8.9"
  }
 },
 "nbformat": 4,
 "nbformat_minor": 5
}
